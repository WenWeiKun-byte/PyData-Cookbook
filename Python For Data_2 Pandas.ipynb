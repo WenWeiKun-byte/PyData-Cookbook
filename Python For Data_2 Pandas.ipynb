{
 "cells": [
  {
   "cell_type": "code",
   "execution_count": 1,
   "metadata": {
    "collapsed": true
   },
   "outputs": [],
   "source": [
    "import numpy as np\n",
    "import pandas as pd\n",
    "from pandas import Series, DataFrame"
   ]
  },
  {
   "cell_type": "markdown",
   "metadata": {},
   "source": [
    "# Series 基础"
   ]
  },
  {
   "cell_type": "code",
   "execution_count": 2,
   "metadata": {
    "collapsed": true
   },
   "outputs": [],
   "source": [
    "obj = Series([3, 6, 9, 12])"
   ]
  },
  {
   "cell_type": "code",
   "execution_count": 3,
   "metadata": {
    "collapsed": false
   },
   "outputs": [
    {
     "data": {
      "text/plain": [
       "0     3\n",
       "1     6\n",
       "2     9\n",
       "3    12\n",
       "dtype: int64"
      ]
     },
     "execution_count": 3,
     "metadata": {},
     "output_type": "execute_result"
    }
   ],
   "source": [
    "# Series will add index to the list\n",
    "obj"
   ]
  },
  {
   "cell_type": "code",
   "execution_count": 4,
   "metadata": {
    "collapsed": false
   },
   "outputs": [
    {
     "data": {
      "text/plain": [
       "array([ 3,  6,  9, 12], dtype=int64)"
      ]
     },
     "execution_count": 4,
     "metadata": {},
     "output_type": "execute_result"
    }
   ],
   "source": [
    "# to get the vaule, must use .values\n",
    "obj.values\n",
    "# the values is a numpy array"
   ]
  },
  {
   "cell_type": "code",
   "execution_count": 5,
   "metadata": {
    "collapsed": false
   },
   "outputs": [
    {
     "data": {
      "text/plain": [
       "Int64Index([0, 1, 2, 3], dtype='int64')"
      ]
     },
     "execution_count": 5,
     "metadata": {},
     "output_type": "execute_result"
    }
   ],
   "source": [
    "# can also get the index \n",
    "obj.index"
   ]
  },
  {
   "cell_type": "code",
   "execution_count": 6,
   "metadata": {
    "collapsed": false
   },
   "outputs": [
    {
     "data": {
      "text/plain": [
       "USSR       8700000\n",
       "Germany    4300000\n",
       "China      3000000\n",
       "Japan      2100000\n",
       "USA         400000\n",
       "dtype: int64"
      ]
     },
     "execution_count": 6,
     "metadata": {},
     "output_type": "execute_result"
    }
   ],
   "source": [
    "# 构造Series的时候可以指定index\n",
    "ww2_cas = Series([8700000,4300000,3000000,2100000,400000],index=['USSR','Germany','China','Japan','USA'])\n",
    "\n",
    "ww2_cas"
   ]
  },
  {
   "cell_type": "code",
   "execution_count": 7,
   "metadata": {
    "collapsed": false
   },
   "outputs": [
    {
     "data": {
      "text/plain": [
       "3000000"
      ]
     },
     "execution_count": 7,
     "metadata": {},
     "output_type": "execute_result"
    }
   ],
   "source": [
    "# 有了index的好处之一就是可以像字典一样通过key来取值\n",
    "# 这里的key就是index\n",
    "ww2_cas['China']"
   ]
  },
  {
   "cell_type": "code",
   "execution_count": 8,
   "metadata": {
    "collapsed": false
   },
   "outputs": [
    {
     "data": {
      "text/plain": [
       "USSR       8700000\n",
       "Germany    4300000\n",
       "dtype: int64"
      ]
     },
     "execution_count": 8,
     "metadata": {},
     "output_type": "execute_result"
    }
   ],
   "source": [
    "# 可以直接做numpy 中的各种array操作\n",
    "# 例如filter\n",
    "ww2_cas[ww2_cas > 4000000]"
   ]
  },
  {
   "cell_type": "code",
   "execution_count": 9,
   "metadata": {
    "collapsed": false
   },
   "outputs": [
    {
     "data": {
      "text/plain": [
       "True"
      ]
     },
     "execution_count": 9,
     "metadata": {},
     "output_type": "execute_result"
    }
   ],
   "source": [
    "# in 操作\n",
    "# 需要注意这里的in操作只会判断数值是否在index里面，而不是在value里面\n",
    "# 这一点也是和字典很像\n",
    "\n",
    "'USSR' in ww2_cas"
   ]
  },
  {
   "cell_type": "code",
   "execution_count": 13,
   "metadata": {
    "collapsed": false
   },
   "outputs": [
    {
     "data": {
      "text/plain": [
       "False"
      ]
     },
     "execution_count": 13,
     "metadata": {},
     "output_type": "execute_result"
    }
   ],
   "source": [
    "400000 in ww2_cas"
   ]
  },
  {
   "cell_type": "code",
   "execution_count": 14,
   "metadata": {
    "collapsed": false
   },
   "outputs": [
    {
     "data": {
      "text/plain": [
       "True"
      ]
     },
     "execution_count": 14,
     "metadata": {},
     "output_type": "execute_result"
    }
   ],
   "source": [
    "# 如果要对value进行in判断的话，可以这样：\n",
    "400000 in ww2_cas.values"
   ]
  },
  {
   "cell_type": "code",
   "execution_count": 15,
   "metadata": {
    "collapsed": false
   },
   "outputs": [
    {
     "data": {
      "text/plain": [
       "{'China': 3000000,\n",
       " 'Germany': 4300000,\n",
       " 'Japan': 2100000,\n",
       " 'USA': 400000,\n",
       " 'USSR': 8700000}"
      ]
     },
     "execution_count": 15,
     "metadata": {},
     "output_type": "execute_result"
    }
   ],
   "source": [
    "# 由于数据结构和字典很像，两个数据结构中的转换也很简单：\n",
    "ww2_dict = ww2_cas.to_dict()\n",
    "ww2_dict"
   ]
  },
  {
   "cell_type": "code",
   "execution_count": 16,
   "metadata": {
    "collapsed": false
   },
   "outputs": [
    {
     "data": {
      "text/plain": [
       "China      3000000\n",
       "Germany    4300000\n",
       "Japan      2100000\n",
       "USA         400000\n",
       "USSR       8700000\n",
       "dtype: int64"
      ]
     },
     "execution_count": 16,
     "metadata": {},
     "output_type": "execute_result"
    }
   ],
   "source": [
    "#Can convert back into a Series\n",
    "WW2_Series = Series(ww2_dict)\n",
    "WW2_Series"
   ]
  },
  {
   "cell_type": "code",
   "execution_count": 17,
   "metadata": {
    "collapsed": true
   },
   "outputs": [],
   "source": [
    "ww2_dict = {\n",
    " 'Germany': 4300000,\n",
    " 'Japan': 2100000,\n",
    " 'USA': 400000,\n",
    " 'USSR': 8700000,\n",
    "'China': 3000000,}"
   ]
  },
  {
   "cell_type": "code",
   "execution_count": 18,
   "metadata": {
    "collapsed": false
   },
   "outputs": [
    {
     "data": {
      "text/plain": [
       "China      3000000\n",
       "Germany    4300000\n",
       "Japan      2100000\n",
       "USA         400000\n",
       "USSR       8700000\n",
       "dtype: int64"
      ]
     },
     "execution_count": 18,
     "metadata": {},
     "output_type": "execute_result"
    }
   ],
   "source": [
    "# 当使用字典转变为series的时候，index会自动排序\n",
    "WW2_Series = Series(ww2_dict)\n",
    "WW2_Series"
   ]
  },
  {
   "cell_type": "code",
   "execution_count": 19,
   "metadata": {
    "collapsed": false
   },
   "outputs": [
    {
     "data": {
      "text/plain": [
       "China        3000000\n",
       "Germany      4300000\n",
       "Japan        2100000\n",
       "USA           400000\n",
       "USSR         8700000\n",
       "Argentina        NaN\n",
       "dtype: float64"
      ]
     },
     "execution_count": 19,
     "metadata": {},
     "output_type": "execute_result"
    }
   ],
   "source": [
    "# 指定一个不存在的index，自动填充NaN值\n",
    "countries = ['China','Germany','Japan','USA','USSR','Argentina']\n",
    "#Lets redefine a Series\n",
    "obj2 = Series(ww2_dict,index=countries)\n",
    "obj2"
   ]
  },
  {
   "cell_type": "code",
   "execution_count": 20,
   "metadata": {
    "collapsed": false
   },
   "outputs": [
    {
     "data": {
      "text/plain": [
       "China        False\n",
       "Germany      False\n",
       "Japan        False\n",
       "USA          False\n",
       "USSR         False\n",
       "Argentina     True\n",
       "dtype: bool"
      ]
     },
     "execution_count": 20,
     "metadata": {},
     "output_type": "execute_result"
    }
   ],
   "source": [
    "# NaN 是 pandas中 missing data的意思\n",
    "# 有专门的接口判断某值是否为Null\n",
    "\n",
    "pd.isnull(obj2)"
   ]
  },
  {
   "cell_type": "code",
   "execution_count": 21,
   "metadata": {
    "collapsed": false
   },
   "outputs": [
    {
     "data": {
      "text/plain": [
       "China         True\n",
       "Germany       True\n",
       "Japan         True\n",
       "USA           True\n",
       "USSR          True\n",
       "Argentina    False\n",
       "dtype: bool"
      ]
     },
     "execution_count": 21,
     "metadata": {},
     "output_type": "execute_result"
    }
   ],
   "source": [
    "pd.notnull(obj2)"
   ]
  },
  {
   "cell_type": "code",
   "execution_count": 22,
   "metadata": {
    "collapsed": false
   },
   "outputs": [
    {
     "data": {
      "text/plain": [
       "China      3000000\n",
       "Germany    4300000\n",
       "Japan      2100000\n",
       "USA         400000\n",
       "USSR       8700000\n",
       "dtype: int64"
      ]
     },
     "execution_count": 22,
     "metadata": {},
     "output_type": "execute_result"
    }
   ],
   "source": [
    "# 两个 series的相互操作，会自动选择index作为key\n",
    "WW2_Series"
   ]
  },
  {
   "cell_type": "code",
   "execution_count": 23,
   "metadata": {
    "collapsed": false
   },
   "outputs": [
    {
     "data": {
      "text/plain": [
       "China        3000000\n",
       "Germany      4300000\n",
       "Japan        2100000\n",
       "USA           400000\n",
       "USSR         8700000\n",
       "Argentina        NaN\n",
       "dtype: float64"
      ]
     },
     "execution_count": 23,
     "metadata": {},
     "output_type": "execute_result"
    }
   ],
   "source": [
    "obj2"
   ]
  },
  {
   "cell_type": "code",
   "execution_count": 24,
   "metadata": {
    "collapsed": false
   },
   "outputs": [
    {
     "data": {
      "text/plain": [
       "Argentina         NaN\n",
       "China         6000000\n",
       "Germany       8600000\n",
       "Japan         4200000\n",
       "USA            800000\n",
       "USSR         17400000\n",
       "dtype: float64"
      ]
     },
     "execution_count": 24,
     "metadata": {},
     "output_type": "execute_result"
    }
   ],
   "source": [
    "WW2_Series + obj2"
   ]
  },
  {
   "cell_type": "code",
   "execution_count": 25,
   "metadata": {
    "collapsed": false
   },
   "outputs": [
    {
     "data": {
      "text/plain": [
       "Countries\n",
       "China        3000000\n",
       "Germany      4300000\n",
       "Japan        2100000\n",
       "USA           400000\n",
       "USSR         8700000\n",
       "Argentina        NaN\n",
       "Name: World War 2 Casualties, dtype: float64"
      ]
     },
     "execution_count": 25,
     "metadata": {},
     "output_type": "execute_result"
    }
   ],
   "source": [
    "# 我们可以分别给series和index取名字\n",
    "# 但是不知道具体的用处有哪些\n",
    "obj2.name = \"World War 2 Casualties\"\n",
    "#We can also name index\n",
    "obj2.index.name = 'Countries'\n",
    "obj2"
   ]
  },
  {
   "cell_type": "markdown",
   "metadata": {},
   "source": [
    "# DataFrames 基础"
   ]
  },
  {
   "cell_type": "code",
   "execution_count": 28,
   "metadata": {
    "collapsed": false
   },
   "outputs": [],
   "source": [
    "# 可以直接拷贝一个表格的数据， 然后运行下面的方法。。。\n",
    "nfl_frame = pd.read_clipboard()"
   ]
  },
  {
   "cell_type": "code",
   "execution_count": 29,
   "metadata": {
    "collapsed": false
   },
   "outputs": [
    {
     "data": {
      "text/html": [
       "<div>\n",
       "<table border=\"1\" class=\"dataframe\">\n",
       "  <thead>\n",
       "    <tr style=\"text-align: right;\">\n",
       "      <th></th>\n",
       "      <th>Rank</th>\n",
       "      <th>Team</th>\n",
       "      <th>Won</th>\n",
       "      <th>Lost</th>\n",
       "      <th>Tied*</th>\n",
       "      <th>Pct.</th>\n",
       "      <th>First Season</th>\n",
       "      <th>Total Games</th>\n",
       "      <th>Conference</th>\n",
       "    </tr>\n",
       "  </thead>\n",
       "  <tbody>\n",
       "    <tr>\n",
       "      <th>0</th>\n",
       "      <td>1</td>\n",
       "      <td>Dallas Cowboys</td>\n",
       "      <td>511</td>\n",
       "      <td>378</td>\n",
       "      <td>6</td>\n",
       "      <td>0.574</td>\n",
       "      <td>1960</td>\n",
       "      <td>894</td>\n",
       "      <td>NFC East</td>\n",
       "    </tr>\n",
       "    <tr>\n",
       "      <th>1</th>\n",
       "      <td>2</td>\n",
       "      <td>Chicago Bears</td>\n",
       "      <td>752</td>\n",
       "      <td>563</td>\n",
       "      <td>42</td>\n",
       "      <td>0.570</td>\n",
       "      <td>1920</td>\n",
       "      <td>1357</td>\n",
       "      <td>NFC North</td>\n",
       "    </tr>\n",
       "    <tr>\n",
       "      <th>2</th>\n",
       "      <td>3</td>\n",
       "      <td>Green Bay Packers</td>\n",
       "      <td>741</td>\n",
       "      <td>561</td>\n",
       "      <td>37</td>\n",
       "      <td>0.567</td>\n",
       "      <td>1921</td>\n",
       "      <td>1339</td>\n",
       "      <td>NFC North</td>\n",
       "    </tr>\n",
       "    <tr>\n",
       "      <th>3</th>\n",
       "      <td>4</td>\n",
       "      <td>Miami Dolphins</td>\n",
       "      <td>443</td>\n",
       "      <td>345</td>\n",
       "      <td>4</td>\n",
       "      <td>0.562</td>\n",
       "      <td>1966</td>\n",
       "      <td>792</td>\n",
       "      <td>AFC East</td>\n",
       "    </tr>\n",
       "    <tr>\n",
       "      <th>4</th>\n",
       "      <td>5</td>\n",
       "      <td>Baltimore Ravens</td>\n",
       "      <td>182</td>\n",
       "      <td>143</td>\n",
       "      <td>1</td>\n",
       "      <td>0.560</td>\n",
       "      <td>1996</td>\n",
       "      <td>326</td>\n",
       "      <td>AFC North</td>\n",
       "    </tr>\n",
       "    <tr>\n",
       "      <th>5</th>\n",
       "      <td>6</td>\n",
       "      <td>San Francisco 49ers</td>\n",
       "      <td>545</td>\n",
       "      <td>444</td>\n",
       "      <td>14</td>\n",
       "      <td>0.550</td>\n",
       "      <td>1950</td>\n",
       "      <td>1003</td>\n",
       "      <td>NFC West</td>\n",
       "    </tr>\n",
       "    <tr>\n",
       "      <th>6</th>\n",
       "      <td>7</td>\n",
       "      <td>New England Patriots</td>\n",
       "      <td>478</td>\n",
       "      <td>395</td>\n",
       "      <td>9</td>\n",
       "      <td>0.547</td>\n",
       "      <td>1960</td>\n",
       "      <td>882</td>\n",
       "      <td>AFC East</td>\n",
       "    </tr>\n",
       "    <tr>\n",
       "      <th>7</th>\n",
       "      <td>8</td>\n",
       "      <td>New York Giants</td>\n",
       "      <td>691</td>\n",
       "      <td>581</td>\n",
       "      <td>33</td>\n",
       "      <td>0.542</td>\n",
       "      <td>1925</td>\n",
       "      <td>1305</td>\n",
       "      <td>NFC East</td>\n",
       "    </tr>\n",
       "    <tr>\n",
       "      <th>8</th>\n",
       "      <td>9</td>\n",
       "      <td>Denver Broncos</td>\n",
       "      <td>464</td>\n",
       "      <td>400</td>\n",
       "      <td>10</td>\n",
       "      <td>0.537</td>\n",
       "      <td>1960</td>\n",
       "      <td>874</td>\n",
       "      <td>AFC West</td>\n",
       "    </tr>\n",
       "    <tr>\n",
       "      <th>9</th>\n",
       "      <td>10</td>\n",
       "      <td>Minnesota Vikings</td>\n",
       "      <td>457</td>\n",
       "      <td>401</td>\n",
       "      <td>10</td>\n",
       "      <td>0.532</td>\n",
       "      <td>1961</td>\n",
       "      <td>868</td>\n",
       "      <td>NFC North</td>\n",
       "    </tr>\n",
       "    <tr>\n",
       "      <th>10</th>\n",
       "      <td>11</td>\n",
       "      <td>Oakland Raiders</td>\n",
       "      <td>462</td>\n",
       "      <td>406</td>\n",
       "      <td>11</td>\n",
       "      <td>0.532</td>\n",
       "      <td>1960</td>\n",
       "      <td>879</td>\n",
       "      <td>AFC West</td>\n",
       "    </tr>\n",
       "    <tr>\n",
       "      <th>11</th>\n",
       "      <td>12</td>\n",
       "      <td>Indianapolis Colts</td>\n",
       "      <td>508</td>\n",
       "      <td>448</td>\n",
       "      <td>7</td>\n",
       "      <td>0.531</td>\n",
       "      <td>1953</td>\n",
       "      <td>963</td>\n",
       "      <td>AFC South</td>\n",
       "    </tr>\n",
       "  </tbody>\n",
       "</table>\n",
       "</div>"
      ],
      "text/plain": [
       "    Rank                  Team  Won  Lost  Tied*   Pct.  First Season  \\\n",
       "0      1        Dallas Cowboys  511   378      6  0.574          1960   \n",
       "1      2         Chicago Bears  752   563     42  0.570          1920   \n",
       "2      3     Green Bay Packers  741   561     37  0.567          1921   \n",
       "3      4        Miami Dolphins  443   345      4  0.562          1966   \n",
       "4      5      Baltimore Ravens  182   143      1  0.560          1996   \n",
       "5      6   San Francisco 49ers  545   444     14  0.550          1950   \n",
       "6      7  New England Patriots  478   395      9  0.547          1960   \n",
       "7      8       New York Giants  691   581     33  0.542          1925   \n",
       "8      9        Denver Broncos  464   400     10  0.537          1960   \n",
       "9     10     Minnesota Vikings  457   401     10  0.532          1961   \n",
       "10    11       Oakland Raiders  462   406     11  0.532          1960   \n",
       "11    12    Indianapolis Colts  508   448      7  0.531          1953   \n",
       "\n",
       "    Total Games Conference  \n",
       "0           894   NFC East  \n",
       "1          1357  NFC North  \n",
       "2          1339  NFC North  \n",
       "3           792   AFC East  \n",
       "4           326  AFC North  \n",
       "5          1003   NFC West  \n",
       "6           882   AFC East  \n",
       "7          1305   NFC East  \n",
       "8           874   AFC West  \n",
       "9           868  NFC North  \n",
       "10          879   AFC West  \n",
       "11          963  AFC South  "
      ]
     },
     "execution_count": 29,
     "metadata": {},
     "output_type": "execute_result"
    }
   ],
   "source": [
    "nfl_frame"
   ]
  },
  {
   "cell_type": "code",
   "execution_count": 30,
   "metadata": {
    "collapsed": false
   },
   "outputs": [
    {
     "data": {
      "text/plain": [
       "Index([u'Rank', u'Team', u'Won', u'Lost', u'Tied*', u'Pct.', u'First Season',\n",
       "       u'Total Games', u'Conference'],\n",
       "      dtype='object')"
      ]
     },
     "execution_count": 30,
     "metadata": {},
     "output_type": "execute_result"
    }
   ],
   "source": [
    "# We can grab the oclumn names with .columns\n",
    "nfl_frame.columns"
   ]
  },
  {
   "cell_type": "code",
   "execution_count": 32,
   "metadata": {
    "collapsed": false
   },
   "outputs": [
    {
     "data": {
      "text/plain": [
       "0           Dallas Cowboys\n",
       "1            Chicago Bears\n",
       "2        Green Bay Packers\n",
       "3           Miami Dolphins\n",
       "4         Baltimore Ravens\n",
       "5      San Francisco 49ers\n",
       "6     New England Patriots\n",
       "7          New York Giants\n",
       "8           Denver Broncos\n",
       "9        Minnesota Vikings\n",
       "10         Oakland Raiders\n",
       "11      Indianapolis Colts\n",
       "Name: Team, dtype: object"
      ]
     },
     "execution_count": 32,
     "metadata": {},
     "output_type": "execute_result"
    }
   ],
   "source": [
    "# 取单列的数据\n",
    "nfl_frame.Team"
   ]
  },
  {
   "cell_type": "code",
   "execution_count": 36,
   "metadata": {
    "collapsed": false
   },
   "outputs": [
    {
     "data": {
      "text/plain": [
       "0      894\n",
       "1     1357\n",
       "2     1339\n",
       "3      792\n",
       "4      326\n",
       "5     1003\n",
       "6      882\n",
       "7     1305\n",
       "8      874\n",
       "9      868\n",
       "10     879\n",
       "11     963\n",
       "Name: Total Games, dtype: int64"
      ]
     },
     "execution_count": 36,
     "metadata": {},
     "output_type": "execute_result"
    }
   ],
   "source": [
    "# 也可以这样取\n",
    "nfl_frame['Total Games']"
   ]
  },
  {
   "cell_type": "code",
   "execution_count": 34,
   "metadata": {
    "collapsed": false
   },
   "outputs": [
    {
     "data": {
      "text/html": [
       "<div>\n",
       "<table border=\"1\" class=\"dataframe\">\n",
       "  <thead>\n",
       "    <tr style=\"text-align: right;\">\n",
       "      <th></th>\n",
       "      <th>Team</th>\n",
       "      <th>First Season</th>\n",
       "      <th>Total Games</th>\n",
       "    </tr>\n",
       "  </thead>\n",
       "  <tbody>\n",
       "    <tr>\n",
       "      <th>0</th>\n",
       "      <td>Dallas Cowboys</td>\n",
       "      <td>1960</td>\n",
       "      <td>894</td>\n",
       "    </tr>\n",
       "    <tr>\n",
       "      <th>1</th>\n",
       "      <td>Chicago Bears</td>\n",
       "      <td>1920</td>\n",
       "      <td>1357</td>\n",
       "    </tr>\n",
       "    <tr>\n",
       "      <th>2</th>\n",
       "      <td>Green Bay Packers</td>\n",
       "      <td>1921</td>\n",
       "      <td>1339</td>\n",
       "    </tr>\n",
       "    <tr>\n",
       "      <th>3</th>\n",
       "      <td>Miami Dolphins</td>\n",
       "      <td>1966</td>\n",
       "      <td>792</td>\n",
       "    </tr>\n",
       "    <tr>\n",
       "      <th>4</th>\n",
       "      <td>Baltimore Ravens</td>\n",
       "      <td>1996</td>\n",
       "      <td>326</td>\n",
       "    </tr>\n",
       "    <tr>\n",
       "      <th>5</th>\n",
       "      <td>San Francisco 49ers</td>\n",
       "      <td>1950</td>\n",
       "      <td>1003</td>\n",
       "    </tr>\n",
       "    <tr>\n",
       "      <th>6</th>\n",
       "      <td>New England Patriots</td>\n",
       "      <td>1960</td>\n",
       "      <td>882</td>\n",
       "    </tr>\n",
       "    <tr>\n",
       "      <th>7</th>\n",
       "      <td>New York Giants</td>\n",
       "      <td>1925</td>\n",
       "      <td>1305</td>\n",
       "    </tr>\n",
       "    <tr>\n",
       "      <th>8</th>\n",
       "      <td>Denver Broncos</td>\n",
       "      <td>1960</td>\n",
       "      <td>874</td>\n",
       "    </tr>\n",
       "    <tr>\n",
       "      <th>9</th>\n",
       "      <td>Minnesota Vikings</td>\n",
       "      <td>1961</td>\n",
       "      <td>868</td>\n",
       "    </tr>\n",
       "    <tr>\n",
       "      <th>10</th>\n",
       "      <td>Oakland Raiders</td>\n",
       "      <td>1960</td>\n",
       "      <td>879</td>\n",
       "    </tr>\n",
       "    <tr>\n",
       "      <th>11</th>\n",
       "      <td>Indianapolis Colts</td>\n",
       "      <td>1953</td>\n",
       "      <td>963</td>\n",
       "    </tr>\n",
       "  </tbody>\n",
       "</table>\n",
       "</div>"
      ],
      "text/plain": [
       "                    Team  First Season  Total Games\n",
       "0         Dallas Cowboys          1960          894\n",
       "1          Chicago Bears          1920         1357\n",
       "2      Green Bay Packers          1921         1339\n",
       "3         Miami Dolphins          1966          792\n",
       "4       Baltimore Ravens          1996          326\n",
       "5    San Francisco 49ers          1950         1003\n",
       "6   New England Patriots          1960          882\n",
       "7        New York Giants          1925         1305\n",
       "8         Denver Broncos          1960          874\n",
       "9      Minnesota Vikings          1961          868\n",
       "10       Oakland Raiders          1960          879\n",
       "11    Indianapolis Colts          1953          963"
      ]
     },
     "execution_count": 34,
     "metadata": {},
     "output_type": "execute_result"
    }
   ],
   "source": [
    "# 取多列的数据\n",
    "nfl_frame[['Team','First Season','Total Games']]"
   ]
  },
  {
   "cell_type": "code",
   "execution_count": 31,
   "metadata": {
    "collapsed": false
   },
   "outputs": [
    {
     "data": {
      "text/html": [
       "<div>\n",
       "<table border=\"1\" class=\"dataframe\">\n",
       "  <thead>\n",
       "    <tr style=\"text-align: right;\">\n",
       "      <th></th>\n",
       "      <th>Team</th>\n",
       "      <th>First Season</th>\n",
       "      <th>Total Games</th>\n",
       "    </tr>\n",
       "  </thead>\n",
       "  <tbody>\n",
       "    <tr>\n",
       "      <th>0</th>\n",
       "      <td>Dallas Cowboys</td>\n",
       "      <td>1960</td>\n",
       "      <td>894</td>\n",
       "    </tr>\n",
       "    <tr>\n",
       "      <th>1</th>\n",
       "      <td>Chicago Bears</td>\n",
       "      <td>1920</td>\n",
       "      <td>1357</td>\n",
       "    </tr>\n",
       "    <tr>\n",
       "      <th>2</th>\n",
       "      <td>Green Bay Packers</td>\n",
       "      <td>1921</td>\n",
       "      <td>1339</td>\n",
       "    </tr>\n",
       "    <tr>\n",
       "      <th>3</th>\n",
       "      <td>Miami Dolphins</td>\n",
       "      <td>1966</td>\n",
       "      <td>792</td>\n",
       "    </tr>\n",
       "    <tr>\n",
       "      <th>4</th>\n",
       "      <td>Baltimore Ravens</td>\n",
       "      <td>1996</td>\n",
       "      <td>326</td>\n",
       "    </tr>\n",
       "    <tr>\n",
       "      <th>5</th>\n",
       "      <td>San Francisco 49ers</td>\n",
       "      <td>1950</td>\n",
       "      <td>1003</td>\n",
       "    </tr>\n",
       "    <tr>\n",
       "      <th>6</th>\n",
       "      <td>New England Patriots</td>\n",
       "      <td>1960</td>\n",
       "      <td>882</td>\n",
       "    </tr>\n",
       "    <tr>\n",
       "      <th>7</th>\n",
       "      <td>New York Giants</td>\n",
       "      <td>1925</td>\n",
       "      <td>1305</td>\n",
       "    </tr>\n",
       "    <tr>\n",
       "      <th>8</th>\n",
       "      <td>Denver Broncos</td>\n",
       "      <td>1960</td>\n",
       "      <td>874</td>\n",
       "    </tr>\n",
       "    <tr>\n",
       "      <th>9</th>\n",
       "      <td>Minnesota Vikings</td>\n",
       "      <td>1961</td>\n",
       "      <td>868</td>\n",
       "    </tr>\n",
       "    <tr>\n",
       "      <th>10</th>\n",
       "      <td>Oakland Raiders</td>\n",
       "      <td>1960</td>\n",
       "      <td>879</td>\n",
       "    </tr>\n",
       "    <tr>\n",
       "      <th>11</th>\n",
       "      <td>Indianapolis Colts</td>\n",
       "      <td>1953</td>\n",
       "      <td>963</td>\n",
       "    </tr>\n",
       "  </tbody>\n",
       "</table>\n",
       "</div>"
      ],
      "text/plain": [
       "                    Team  First Season  Total Games\n",
       "0         Dallas Cowboys          1960          894\n",
       "1          Chicago Bears          1920         1357\n",
       "2      Green Bay Packers          1921         1339\n",
       "3         Miami Dolphins          1966          792\n",
       "4       Baltimore Ravens          1996          326\n",
       "5    San Francisco 49ers          1950         1003\n",
       "6   New England Patriots          1960          882\n",
       "7        New York Giants          1925         1305\n",
       "8         Denver Broncos          1960          874\n",
       "9      Minnesota Vikings          1961          868\n",
       "10       Oakland Raiders          1960          879\n",
       "11    Indianapolis Colts          1953          963"
      ]
     },
     "execution_count": 31,
     "metadata": {},
     "output_type": "execute_result"
    }
   ],
   "source": [
    "#Lets see some specific data columns\n",
    "# 这种方法会产生一个新的DF\n",
    "DataFrame(nfl_frame,columns=['Team','First Season','Total Games'])"
   ]
  },
  {
   "cell_type": "code",
   "execution_count": 35,
   "metadata": {
    "collapsed": false
   },
   "outputs": [
    {
     "data": {
      "text/html": [
       "<div>\n",
       "<table border=\"1\" class=\"dataframe\">\n",
       "  <thead>\n",
       "    <tr style=\"text-align: right;\">\n",
       "      <th></th>\n",
       "      <th>Team</th>\n",
       "      <th>First Season</th>\n",
       "      <th>Total Games</th>\n",
       "      <th>Stadium</th>\n",
       "    </tr>\n",
       "  </thead>\n",
       "  <tbody>\n",
       "    <tr>\n",
       "      <th>0</th>\n",
       "      <td>Dallas Cowboys</td>\n",
       "      <td>1960</td>\n",
       "      <td>894</td>\n",
       "      <td>NaN</td>\n",
       "    </tr>\n",
       "    <tr>\n",
       "      <th>1</th>\n",
       "      <td>Chicago Bears</td>\n",
       "      <td>1920</td>\n",
       "      <td>1357</td>\n",
       "      <td>NaN</td>\n",
       "    </tr>\n",
       "    <tr>\n",
       "      <th>2</th>\n",
       "      <td>Green Bay Packers</td>\n",
       "      <td>1921</td>\n",
       "      <td>1339</td>\n",
       "      <td>NaN</td>\n",
       "    </tr>\n",
       "    <tr>\n",
       "      <th>3</th>\n",
       "      <td>Miami Dolphins</td>\n",
       "      <td>1966</td>\n",
       "      <td>792</td>\n",
       "      <td>NaN</td>\n",
       "    </tr>\n",
       "    <tr>\n",
       "      <th>4</th>\n",
       "      <td>Baltimore Ravens</td>\n",
       "      <td>1996</td>\n",
       "      <td>326</td>\n",
       "      <td>NaN</td>\n",
       "    </tr>\n",
       "    <tr>\n",
       "      <th>5</th>\n",
       "      <td>San Francisco 49ers</td>\n",
       "      <td>1950</td>\n",
       "      <td>1003</td>\n",
       "      <td>NaN</td>\n",
       "    </tr>\n",
       "    <tr>\n",
       "      <th>6</th>\n",
       "      <td>New England Patriots</td>\n",
       "      <td>1960</td>\n",
       "      <td>882</td>\n",
       "      <td>NaN</td>\n",
       "    </tr>\n",
       "    <tr>\n",
       "      <th>7</th>\n",
       "      <td>New York Giants</td>\n",
       "      <td>1925</td>\n",
       "      <td>1305</td>\n",
       "      <td>NaN</td>\n",
       "    </tr>\n",
       "    <tr>\n",
       "      <th>8</th>\n",
       "      <td>Denver Broncos</td>\n",
       "      <td>1960</td>\n",
       "      <td>874</td>\n",
       "      <td>NaN</td>\n",
       "    </tr>\n",
       "    <tr>\n",
       "      <th>9</th>\n",
       "      <td>Minnesota Vikings</td>\n",
       "      <td>1961</td>\n",
       "      <td>868</td>\n",
       "      <td>NaN</td>\n",
       "    </tr>\n",
       "    <tr>\n",
       "      <th>10</th>\n",
       "      <td>Oakland Raiders</td>\n",
       "      <td>1960</td>\n",
       "      <td>879</td>\n",
       "      <td>NaN</td>\n",
       "    </tr>\n",
       "    <tr>\n",
       "      <th>11</th>\n",
       "      <td>Indianapolis Colts</td>\n",
       "      <td>1953</td>\n",
       "      <td>963</td>\n",
       "      <td>NaN</td>\n",
       "    </tr>\n",
       "  </tbody>\n",
       "</table>\n",
       "</div>"
      ],
      "text/plain": [
       "                    Team  First Season  Total Games  Stadium\n",
       "0         Dallas Cowboys          1960          894      NaN\n",
       "1          Chicago Bears          1920         1357      NaN\n",
       "2      Green Bay Packers          1921         1339      NaN\n",
       "3         Miami Dolphins          1966          792      NaN\n",
       "4       Baltimore Ravens          1996          326      NaN\n",
       "5    San Francisco 49ers          1950         1003      NaN\n",
       "6   New England Patriots          1960          882      NaN\n",
       "7        New York Giants          1925         1305      NaN\n",
       "8         Denver Broncos          1960          874      NaN\n",
       "9      Minnesota Vikings          1961          868      NaN\n",
       "10       Oakland Raiders          1960          879      NaN\n",
       "11    Indianapolis Colts          1953          963      NaN"
      ]
     },
     "execution_count": 35,
     "metadata": {},
     "output_type": "execute_result"
    }
   ],
   "source": [
    "#What happens if we ask for a column that doesn't exist?\n",
    "DataFrame(nfl_frame,columns=['Team','First Season','Total Games','Stadium'])"
   ]
  },
  {
   "cell_type": "code",
   "execution_count": 37,
   "metadata": {
    "collapsed": false
   },
   "outputs": [
    {
     "data": {
      "text/plain": [
       "Rank                         4\n",
       "Team            Miami Dolphins\n",
       "Won                        443\n",
       "Lost                       345\n",
       "Tied*                        4\n",
       "Pct.                     0.562\n",
       "First Season              1966\n",
       "Total Games                792\n",
       "Conference            AFC East\n",
       "Name: 3, dtype: object"
      ]
     },
     "execution_count": 37,
     "metadata": {},
     "output_type": "execute_result"
    }
   ],
   "source": [
    "# 取单行\n",
    "nfl_frame.ix[3]"
   ]
  },
  {
   "cell_type": "code",
   "execution_count": 38,
   "metadata": {
    "collapsed": true
   },
   "outputs": [],
   "source": [
    "#We can also assign value sto entire columns\n",
    "nfl_frame['Stadium']=\"Levi's Stadium\" #Careful with the ' here"
   ]
  },
  {
   "cell_type": "code",
   "execution_count": 39,
   "metadata": {
    "collapsed": false
   },
   "outputs": [
    {
     "data": {
      "text/html": [
       "<div>\n",
       "<table border=\"1\" class=\"dataframe\">\n",
       "  <thead>\n",
       "    <tr style=\"text-align: right;\">\n",
       "      <th></th>\n",
       "      <th>Rank</th>\n",
       "      <th>Team</th>\n",
       "      <th>Won</th>\n",
       "      <th>Lost</th>\n",
       "      <th>Tied*</th>\n",
       "      <th>Pct.</th>\n",
       "      <th>First Season</th>\n",
       "      <th>Total Games</th>\n",
       "      <th>Conference</th>\n",
       "      <th>Stadium</th>\n",
       "    </tr>\n",
       "  </thead>\n",
       "  <tbody>\n",
       "    <tr>\n",
       "      <th>0</th>\n",
       "      <td>1</td>\n",
       "      <td>Dallas Cowboys</td>\n",
       "      <td>511</td>\n",
       "      <td>378</td>\n",
       "      <td>6</td>\n",
       "      <td>0.574</td>\n",
       "      <td>1960</td>\n",
       "      <td>894</td>\n",
       "      <td>NFC East</td>\n",
       "      <td>Levi's Stadium</td>\n",
       "    </tr>\n",
       "    <tr>\n",
       "      <th>1</th>\n",
       "      <td>2</td>\n",
       "      <td>Chicago Bears</td>\n",
       "      <td>752</td>\n",
       "      <td>563</td>\n",
       "      <td>42</td>\n",
       "      <td>0.570</td>\n",
       "      <td>1920</td>\n",
       "      <td>1357</td>\n",
       "      <td>NFC North</td>\n",
       "      <td>Levi's Stadium</td>\n",
       "    </tr>\n",
       "    <tr>\n",
       "      <th>2</th>\n",
       "      <td>3</td>\n",
       "      <td>Green Bay Packers</td>\n",
       "      <td>741</td>\n",
       "      <td>561</td>\n",
       "      <td>37</td>\n",
       "      <td>0.567</td>\n",
       "      <td>1921</td>\n",
       "      <td>1339</td>\n",
       "      <td>NFC North</td>\n",
       "      <td>Levi's Stadium</td>\n",
       "    </tr>\n",
       "    <tr>\n",
       "      <th>3</th>\n",
       "      <td>4</td>\n",
       "      <td>Miami Dolphins</td>\n",
       "      <td>443</td>\n",
       "      <td>345</td>\n",
       "      <td>4</td>\n",
       "      <td>0.562</td>\n",
       "      <td>1966</td>\n",
       "      <td>792</td>\n",
       "      <td>AFC East</td>\n",
       "      <td>Levi's Stadium</td>\n",
       "    </tr>\n",
       "    <tr>\n",
       "      <th>4</th>\n",
       "      <td>5</td>\n",
       "      <td>Baltimore Ravens</td>\n",
       "      <td>182</td>\n",
       "      <td>143</td>\n",
       "      <td>1</td>\n",
       "      <td>0.560</td>\n",
       "      <td>1996</td>\n",
       "      <td>326</td>\n",
       "      <td>AFC North</td>\n",
       "      <td>Levi's Stadium</td>\n",
       "    </tr>\n",
       "  </tbody>\n",
       "</table>\n",
       "</div>"
      ],
      "text/plain": [
       "   Rank               Team  Won  Lost  Tied*   Pct.  First Season  \\\n",
       "0     1     Dallas Cowboys  511   378      6  0.574          1960   \n",
       "1     2      Chicago Bears  752   563     42  0.570          1920   \n",
       "2     3  Green Bay Packers  741   561     37  0.567          1921   \n",
       "3     4     Miami Dolphins  443   345      4  0.562          1966   \n",
       "4     5   Baltimore Ravens  182   143      1  0.560          1996   \n",
       "\n",
       "   Total Games Conference         Stadium  \n",
       "0          894   NFC East  Levi's Stadium  \n",
       "1         1357  NFC North  Levi's Stadium  \n",
       "2         1339  NFC North  Levi's Stadium  \n",
       "3          792   AFC East  Levi's Stadium  \n",
       "4          326  AFC North  Levi's Stadium  "
      ]
     },
     "execution_count": 39,
     "metadata": {},
     "output_type": "execute_result"
    }
   ],
   "source": [
    "nfl_frame.head()"
   ]
  },
  {
   "cell_type": "code",
   "execution_count": 42,
   "metadata": {
    "collapsed": false
   },
   "outputs": [
    {
     "data": {
      "text/html": [
       "<div>\n",
       "<table border=\"1\" class=\"dataframe\">\n",
       "  <thead>\n",
       "    <tr style=\"text-align: right;\">\n",
       "      <th></th>\n",
       "      <th>Rank</th>\n",
       "      <th>Team</th>\n",
       "      <th>Won</th>\n",
       "      <th>Lost</th>\n",
       "      <th>Tied*</th>\n",
       "      <th>Pct.</th>\n",
       "      <th>First Season</th>\n",
       "      <th>Total Games</th>\n",
       "      <th>Conference</th>\n",
       "      <th>Stadium</th>\n",
       "    </tr>\n",
       "  </thead>\n",
       "  <tbody>\n",
       "    <tr>\n",
       "      <th>0</th>\n",
       "      <td>1</td>\n",
       "      <td>Dallas Cowboys</td>\n",
       "      <td>511</td>\n",
       "      <td>378</td>\n",
       "      <td>6</td>\n",
       "      <td>0.574</td>\n",
       "      <td>1960</td>\n",
       "      <td>894</td>\n",
       "      <td>NFC East</td>\n",
       "      <td>0</td>\n",
       "    </tr>\n",
       "    <tr>\n",
       "      <th>1</th>\n",
       "      <td>2</td>\n",
       "      <td>Chicago Bears</td>\n",
       "      <td>752</td>\n",
       "      <td>563</td>\n",
       "      <td>42</td>\n",
       "      <td>0.570</td>\n",
       "      <td>1920</td>\n",
       "      <td>1357</td>\n",
       "      <td>NFC North</td>\n",
       "      <td>1</td>\n",
       "    </tr>\n",
       "    <tr>\n",
       "      <th>2</th>\n",
       "      <td>3</td>\n",
       "      <td>Green Bay Packers</td>\n",
       "      <td>741</td>\n",
       "      <td>561</td>\n",
       "      <td>37</td>\n",
       "      <td>0.567</td>\n",
       "      <td>1921</td>\n",
       "      <td>1339</td>\n",
       "      <td>NFC North</td>\n",
       "      <td>2</td>\n",
       "    </tr>\n",
       "    <tr>\n",
       "      <th>3</th>\n",
       "      <td>4</td>\n",
       "      <td>Miami Dolphins</td>\n",
       "      <td>443</td>\n",
       "      <td>345</td>\n",
       "      <td>4</td>\n",
       "      <td>0.562</td>\n",
       "      <td>1966</td>\n",
       "      <td>792</td>\n",
       "      <td>AFC East</td>\n",
       "      <td>3</td>\n",
       "    </tr>\n",
       "    <tr>\n",
       "      <th>4</th>\n",
       "      <td>5</td>\n",
       "      <td>Baltimore Ravens</td>\n",
       "      <td>182</td>\n",
       "      <td>143</td>\n",
       "      <td>1</td>\n",
       "      <td>0.560</td>\n",
       "      <td>1996</td>\n",
       "      <td>326</td>\n",
       "      <td>AFC North</td>\n",
       "      <td>4</td>\n",
       "    </tr>\n",
       "    <tr>\n",
       "      <th>5</th>\n",
       "      <td>6</td>\n",
       "      <td>San Francisco 49ers</td>\n",
       "      <td>545</td>\n",
       "      <td>444</td>\n",
       "      <td>14</td>\n",
       "      <td>0.550</td>\n",
       "      <td>1950</td>\n",
       "      <td>1003</td>\n",
       "      <td>NFC West</td>\n",
       "      <td>5</td>\n",
       "    </tr>\n",
       "    <tr>\n",
       "      <th>6</th>\n",
       "      <td>7</td>\n",
       "      <td>New England Patriots</td>\n",
       "      <td>478</td>\n",
       "      <td>395</td>\n",
       "      <td>9</td>\n",
       "      <td>0.547</td>\n",
       "      <td>1960</td>\n",
       "      <td>882</td>\n",
       "      <td>AFC East</td>\n",
       "      <td>6</td>\n",
       "    </tr>\n",
       "    <tr>\n",
       "      <th>7</th>\n",
       "      <td>8</td>\n",
       "      <td>New York Giants</td>\n",
       "      <td>691</td>\n",
       "      <td>581</td>\n",
       "      <td>33</td>\n",
       "      <td>0.542</td>\n",
       "      <td>1925</td>\n",
       "      <td>1305</td>\n",
       "      <td>NFC East</td>\n",
       "      <td>7</td>\n",
       "    </tr>\n",
       "    <tr>\n",
       "      <th>8</th>\n",
       "      <td>9</td>\n",
       "      <td>Denver Broncos</td>\n",
       "      <td>464</td>\n",
       "      <td>400</td>\n",
       "      <td>10</td>\n",
       "      <td>0.537</td>\n",
       "      <td>1960</td>\n",
       "      <td>874</td>\n",
       "      <td>AFC West</td>\n",
       "      <td>8</td>\n",
       "    </tr>\n",
       "    <tr>\n",
       "      <th>9</th>\n",
       "      <td>10</td>\n",
       "      <td>Minnesota Vikings</td>\n",
       "      <td>457</td>\n",
       "      <td>401</td>\n",
       "      <td>10</td>\n",
       "      <td>0.532</td>\n",
       "      <td>1961</td>\n",
       "      <td>868</td>\n",
       "      <td>NFC North</td>\n",
       "      <td>9</td>\n",
       "    </tr>\n",
       "    <tr>\n",
       "      <th>10</th>\n",
       "      <td>11</td>\n",
       "      <td>Oakland Raiders</td>\n",
       "      <td>462</td>\n",
       "      <td>406</td>\n",
       "      <td>11</td>\n",
       "      <td>0.532</td>\n",
       "      <td>1960</td>\n",
       "      <td>879</td>\n",
       "      <td>AFC West</td>\n",
       "      <td>10</td>\n",
       "    </tr>\n",
       "    <tr>\n",
       "      <th>11</th>\n",
       "      <td>12</td>\n",
       "      <td>Indianapolis Colts</td>\n",
       "      <td>508</td>\n",
       "      <td>448</td>\n",
       "      <td>7</td>\n",
       "      <td>0.531</td>\n",
       "      <td>1953</td>\n",
       "      <td>963</td>\n",
       "      <td>AFC South</td>\n",
       "      <td>11</td>\n",
       "    </tr>\n",
       "  </tbody>\n",
       "</table>\n",
       "</div>"
      ],
      "text/plain": [
       "    Rank                  Team  Won  Lost  Tied*   Pct.  First Season  \\\n",
       "0      1        Dallas Cowboys  511   378      6  0.574          1960   \n",
       "1      2         Chicago Bears  752   563     42  0.570          1920   \n",
       "2      3     Green Bay Packers  741   561     37  0.567          1921   \n",
       "3      4        Miami Dolphins  443   345      4  0.562          1966   \n",
       "4      5      Baltimore Ravens  182   143      1  0.560          1996   \n",
       "5      6   San Francisco 49ers  545   444     14  0.550          1950   \n",
       "6      7  New England Patriots  478   395      9  0.547          1960   \n",
       "7      8       New York Giants  691   581     33  0.542          1925   \n",
       "8      9        Denver Broncos  464   400     10  0.537          1960   \n",
       "9     10     Minnesota Vikings  457   401     10  0.532          1961   \n",
       "10    11       Oakland Raiders  462   406     11  0.532          1960   \n",
       "11    12    Indianapolis Colts  508   448      7  0.531          1953   \n",
       "\n",
       "    Total Games Conference  Stadium  \n",
       "0           894   NFC East        0  \n",
       "1          1357  NFC North        1  \n",
       "2          1339  NFC North        2  \n",
       "3           792   AFC East        3  \n",
       "4           326  AFC North        4  \n",
       "5          1003   NFC West        5  \n",
       "6           882   AFC East        6  \n",
       "7          1305   NFC East        7  \n",
       "8           874   AFC West        8  \n",
       "9           868  NFC North        9  \n",
       "10          879   AFC West       10  \n",
       "11          963  AFC South       11  "
      ]
     },
     "execution_count": 42,
     "metadata": {},
     "output_type": "execute_result"
    }
   ],
   "source": [
    "#Putting numbers for stadiums\n",
    "nfl_frame[\"Stadium\"] = np.arange(12)\n",
    "\n",
    "#Show\n",
    "nfl_frame"
   ]
  },
  {
   "cell_type": "code",
   "execution_count": 43,
   "metadata": {
    "collapsed": false
   },
   "outputs": [
    {
     "data": {
      "text/plain": [
       "4    Levi's Stadium\n",
       "0      AT&T Stadium\n",
       "dtype: object"
      ]
     },
     "execution_count": 43,
     "metadata": {},
     "output_type": "execute_result"
    }
   ],
   "source": [
    "#Adding a Series to a DataFrame\n",
    "stadiums = Series([\"Levi's Stadium\",\"AT&T Stadium\"],index=[4,0])\n",
    "stadiums"
   ]
  },
  {
   "cell_type": "code",
   "execution_count": 44,
   "metadata": {
    "collapsed": false
   },
   "outputs": [
    {
     "data": {
      "text/html": [
       "<div>\n",
       "<table border=\"1\" class=\"dataframe\">\n",
       "  <thead>\n",
       "    <tr style=\"text-align: right;\">\n",
       "      <th></th>\n",
       "      <th>Rank</th>\n",
       "      <th>Team</th>\n",
       "      <th>Won</th>\n",
       "      <th>Lost</th>\n",
       "      <th>Tied*</th>\n",
       "      <th>Pct.</th>\n",
       "      <th>First Season</th>\n",
       "      <th>Total Games</th>\n",
       "      <th>Conference</th>\n",
       "      <th>Stadium</th>\n",
       "    </tr>\n",
       "  </thead>\n",
       "  <tbody>\n",
       "    <tr>\n",
       "      <th>0</th>\n",
       "      <td>1</td>\n",
       "      <td>Dallas Cowboys</td>\n",
       "      <td>511</td>\n",
       "      <td>378</td>\n",
       "      <td>6</td>\n",
       "      <td>0.574</td>\n",
       "      <td>1960</td>\n",
       "      <td>894</td>\n",
       "      <td>NFC East</td>\n",
       "      <td>AT&amp;T Stadium</td>\n",
       "    </tr>\n",
       "    <tr>\n",
       "      <th>1</th>\n",
       "      <td>2</td>\n",
       "      <td>Chicago Bears</td>\n",
       "      <td>752</td>\n",
       "      <td>563</td>\n",
       "      <td>42</td>\n",
       "      <td>0.570</td>\n",
       "      <td>1920</td>\n",
       "      <td>1357</td>\n",
       "      <td>NFC North</td>\n",
       "      <td>NaN</td>\n",
       "    </tr>\n",
       "    <tr>\n",
       "      <th>2</th>\n",
       "      <td>3</td>\n",
       "      <td>Green Bay Packers</td>\n",
       "      <td>741</td>\n",
       "      <td>561</td>\n",
       "      <td>37</td>\n",
       "      <td>0.567</td>\n",
       "      <td>1921</td>\n",
       "      <td>1339</td>\n",
       "      <td>NFC North</td>\n",
       "      <td>NaN</td>\n",
       "    </tr>\n",
       "    <tr>\n",
       "      <th>3</th>\n",
       "      <td>4</td>\n",
       "      <td>Miami Dolphins</td>\n",
       "      <td>443</td>\n",
       "      <td>345</td>\n",
       "      <td>4</td>\n",
       "      <td>0.562</td>\n",
       "      <td>1966</td>\n",
       "      <td>792</td>\n",
       "      <td>AFC East</td>\n",
       "      <td>NaN</td>\n",
       "    </tr>\n",
       "    <tr>\n",
       "      <th>4</th>\n",
       "      <td>5</td>\n",
       "      <td>Baltimore Ravens</td>\n",
       "      <td>182</td>\n",
       "      <td>143</td>\n",
       "      <td>1</td>\n",
       "      <td>0.560</td>\n",
       "      <td>1996</td>\n",
       "      <td>326</td>\n",
       "      <td>AFC North</td>\n",
       "      <td>Levi's Stadium</td>\n",
       "    </tr>\n",
       "    <tr>\n",
       "      <th>5</th>\n",
       "      <td>6</td>\n",
       "      <td>San Francisco 49ers</td>\n",
       "      <td>545</td>\n",
       "      <td>444</td>\n",
       "      <td>14</td>\n",
       "      <td>0.550</td>\n",
       "      <td>1950</td>\n",
       "      <td>1003</td>\n",
       "      <td>NFC West</td>\n",
       "      <td>NaN</td>\n",
       "    </tr>\n",
       "    <tr>\n",
       "      <th>6</th>\n",
       "      <td>7</td>\n",
       "      <td>New England Patriots</td>\n",
       "      <td>478</td>\n",
       "      <td>395</td>\n",
       "      <td>9</td>\n",
       "      <td>0.547</td>\n",
       "      <td>1960</td>\n",
       "      <td>882</td>\n",
       "      <td>AFC East</td>\n",
       "      <td>NaN</td>\n",
       "    </tr>\n",
       "    <tr>\n",
       "      <th>7</th>\n",
       "      <td>8</td>\n",
       "      <td>New York Giants</td>\n",
       "      <td>691</td>\n",
       "      <td>581</td>\n",
       "      <td>33</td>\n",
       "      <td>0.542</td>\n",
       "      <td>1925</td>\n",
       "      <td>1305</td>\n",
       "      <td>NFC East</td>\n",
       "      <td>NaN</td>\n",
       "    </tr>\n",
       "    <tr>\n",
       "      <th>8</th>\n",
       "      <td>9</td>\n",
       "      <td>Denver Broncos</td>\n",
       "      <td>464</td>\n",
       "      <td>400</td>\n",
       "      <td>10</td>\n",
       "      <td>0.537</td>\n",
       "      <td>1960</td>\n",
       "      <td>874</td>\n",
       "      <td>AFC West</td>\n",
       "      <td>NaN</td>\n",
       "    </tr>\n",
       "    <tr>\n",
       "      <th>9</th>\n",
       "      <td>10</td>\n",
       "      <td>Minnesota Vikings</td>\n",
       "      <td>457</td>\n",
       "      <td>401</td>\n",
       "      <td>10</td>\n",
       "      <td>0.532</td>\n",
       "      <td>1961</td>\n",
       "      <td>868</td>\n",
       "      <td>NFC North</td>\n",
       "      <td>NaN</td>\n",
       "    </tr>\n",
       "    <tr>\n",
       "      <th>10</th>\n",
       "      <td>11</td>\n",
       "      <td>Oakland Raiders</td>\n",
       "      <td>462</td>\n",
       "      <td>406</td>\n",
       "      <td>11</td>\n",
       "      <td>0.532</td>\n",
       "      <td>1960</td>\n",
       "      <td>879</td>\n",
       "      <td>AFC West</td>\n",
       "      <td>NaN</td>\n",
       "    </tr>\n",
       "    <tr>\n",
       "      <th>11</th>\n",
       "      <td>12</td>\n",
       "      <td>Indianapolis Colts</td>\n",
       "      <td>508</td>\n",
       "      <td>448</td>\n",
       "      <td>7</td>\n",
       "      <td>0.531</td>\n",
       "      <td>1953</td>\n",
       "      <td>963</td>\n",
       "      <td>AFC South</td>\n",
       "      <td>NaN</td>\n",
       "    </tr>\n",
       "  </tbody>\n",
       "</table>\n",
       "</div>"
      ],
      "text/plain": [
       "    Rank                  Team  Won  Lost  Tied*   Pct.  First Season  \\\n",
       "0      1        Dallas Cowboys  511   378      6  0.574          1960   \n",
       "1      2         Chicago Bears  752   563     42  0.570          1920   \n",
       "2      3     Green Bay Packers  741   561     37  0.567          1921   \n",
       "3      4        Miami Dolphins  443   345      4  0.562          1966   \n",
       "4      5      Baltimore Ravens  182   143      1  0.560          1996   \n",
       "5      6   San Francisco 49ers  545   444     14  0.550          1950   \n",
       "6      7  New England Patriots  478   395      9  0.547          1960   \n",
       "7      8       New York Giants  691   581     33  0.542          1925   \n",
       "8      9        Denver Broncos  464   400     10  0.537          1960   \n",
       "9     10     Minnesota Vikings  457   401     10  0.532          1961   \n",
       "10    11       Oakland Raiders  462   406     11  0.532          1960   \n",
       "11    12    Indianapolis Colts  508   448      7  0.531          1953   \n",
       "\n",
       "    Total Games Conference         Stadium  \n",
       "0           894   NFC East    AT&T Stadium  \n",
       "1          1357  NFC North             NaN  \n",
       "2          1339  NFC North             NaN  \n",
       "3           792   AFC East             NaN  \n",
       "4           326  AFC North  Levi's Stadium  \n",
       "5          1003   NFC West             NaN  \n",
       "6           882   AFC East             NaN  \n",
       "7          1305   NFC East             NaN  \n",
       "8           874   AFC West             NaN  \n",
       "9           868  NFC North             NaN  \n",
       "10          879   AFC West             NaN  \n",
       "11          963  AFC South             NaN  "
      ]
     },
     "execution_count": 44,
     "metadata": {},
     "output_type": "execute_result"
    }
   ],
   "source": [
    "# 当把Series加到DF里的时候，会对应index进行加\n",
    "#Now input into the nfl DataFrame\n",
    "nfl_frame['Stadium']=stadiums\n",
    "\n",
    "#Show\n",
    "nfl_frame"
   ]
  },
  {
   "cell_type": "code",
   "execution_count": 45,
   "metadata": {
    "collapsed": false
   },
   "outputs": [
    {
     "data": {
      "text/html": [
       "<div>\n",
       "<table border=\"1\" class=\"dataframe\">\n",
       "  <thead>\n",
       "    <tr style=\"text-align: right;\">\n",
       "      <th></th>\n",
       "      <th>Rank</th>\n",
       "      <th>Team</th>\n",
       "      <th>Won</th>\n",
       "      <th>Lost</th>\n",
       "      <th>Tied*</th>\n",
       "      <th>Pct.</th>\n",
       "      <th>First Season</th>\n",
       "      <th>Total Games</th>\n",
       "      <th>Conference</th>\n",
       "    </tr>\n",
       "  </thead>\n",
       "  <tbody>\n",
       "    <tr>\n",
       "      <th>0</th>\n",
       "      <td>1</td>\n",
       "      <td>Dallas Cowboys</td>\n",
       "      <td>511</td>\n",
       "      <td>378</td>\n",
       "      <td>6</td>\n",
       "      <td>0.574</td>\n",
       "      <td>1960</td>\n",
       "      <td>894</td>\n",
       "      <td>NFC East</td>\n",
       "    </tr>\n",
       "    <tr>\n",
       "      <th>1</th>\n",
       "      <td>2</td>\n",
       "      <td>Chicago Bears</td>\n",
       "      <td>752</td>\n",
       "      <td>563</td>\n",
       "      <td>42</td>\n",
       "      <td>0.570</td>\n",
       "      <td>1920</td>\n",
       "      <td>1357</td>\n",
       "      <td>NFC North</td>\n",
       "    </tr>\n",
       "    <tr>\n",
       "      <th>2</th>\n",
       "      <td>3</td>\n",
       "      <td>Green Bay Packers</td>\n",
       "      <td>741</td>\n",
       "      <td>561</td>\n",
       "      <td>37</td>\n",
       "      <td>0.567</td>\n",
       "      <td>1921</td>\n",
       "      <td>1339</td>\n",
       "      <td>NFC North</td>\n",
       "    </tr>\n",
       "    <tr>\n",
       "      <th>3</th>\n",
       "      <td>4</td>\n",
       "      <td>Miami Dolphins</td>\n",
       "      <td>443</td>\n",
       "      <td>345</td>\n",
       "      <td>4</td>\n",
       "      <td>0.562</td>\n",
       "      <td>1966</td>\n",
       "      <td>792</td>\n",
       "      <td>AFC East</td>\n",
       "    </tr>\n",
       "    <tr>\n",
       "      <th>4</th>\n",
       "      <td>5</td>\n",
       "      <td>Baltimore Ravens</td>\n",
       "      <td>182</td>\n",
       "      <td>143</td>\n",
       "      <td>1</td>\n",
       "      <td>0.560</td>\n",
       "      <td>1996</td>\n",
       "      <td>326</td>\n",
       "      <td>AFC North</td>\n",
       "    </tr>\n",
       "    <tr>\n",
       "      <th>5</th>\n",
       "      <td>6</td>\n",
       "      <td>San Francisco 49ers</td>\n",
       "      <td>545</td>\n",
       "      <td>444</td>\n",
       "      <td>14</td>\n",
       "      <td>0.550</td>\n",
       "      <td>1950</td>\n",
       "      <td>1003</td>\n",
       "      <td>NFC West</td>\n",
       "    </tr>\n",
       "    <tr>\n",
       "      <th>6</th>\n",
       "      <td>7</td>\n",
       "      <td>New England Patriots</td>\n",
       "      <td>478</td>\n",
       "      <td>395</td>\n",
       "      <td>9</td>\n",
       "      <td>0.547</td>\n",
       "      <td>1960</td>\n",
       "      <td>882</td>\n",
       "      <td>AFC East</td>\n",
       "    </tr>\n",
       "    <tr>\n",
       "      <th>7</th>\n",
       "      <td>8</td>\n",
       "      <td>New York Giants</td>\n",
       "      <td>691</td>\n",
       "      <td>581</td>\n",
       "      <td>33</td>\n",
       "      <td>0.542</td>\n",
       "      <td>1925</td>\n",
       "      <td>1305</td>\n",
       "      <td>NFC East</td>\n",
       "    </tr>\n",
       "    <tr>\n",
       "      <th>8</th>\n",
       "      <td>9</td>\n",
       "      <td>Denver Broncos</td>\n",
       "      <td>464</td>\n",
       "      <td>400</td>\n",
       "      <td>10</td>\n",
       "      <td>0.537</td>\n",
       "      <td>1960</td>\n",
       "      <td>874</td>\n",
       "      <td>AFC West</td>\n",
       "    </tr>\n",
       "    <tr>\n",
       "      <th>9</th>\n",
       "      <td>10</td>\n",
       "      <td>Minnesota Vikings</td>\n",
       "      <td>457</td>\n",
       "      <td>401</td>\n",
       "      <td>10</td>\n",
       "      <td>0.532</td>\n",
       "      <td>1961</td>\n",
       "      <td>868</td>\n",
       "      <td>NFC North</td>\n",
       "    </tr>\n",
       "    <tr>\n",
       "      <th>10</th>\n",
       "      <td>11</td>\n",
       "      <td>Oakland Raiders</td>\n",
       "      <td>462</td>\n",
       "      <td>406</td>\n",
       "      <td>11</td>\n",
       "      <td>0.532</td>\n",
       "      <td>1960</td>\n",
       "      <td>879</td>\n",
       "      <td>AFC West</td>\n",
       "    </tr>\n",
       "    <tr>\n",
       "      <th>11</th>\n",
       "      <td>12</td>\n",
       "      <td>Indianapolis Colts</td>\n",
       "      <td>508</td>\n",
       "      <td>448</td>\n",
       "      <td>7</td>\n",
       "      <td>0.531</td>\n",
       "      <td>1953</td>\n",
       "      <td>963</td>\n",
       "      <td>AFC South</td>\n",
       "    </tr>\n",
       "  </tbody>\n",
       "</table>\n",
       "</div>"
      ],
      "text/plain": [
       "    Rank                  Team  Won  Lost  Tied*   Pct.  First Season  \\\n",
       "0      1        Dallas Cowboys  511   378      6  0.574          1960   \n",
       "1      2         Chicago Bears  752   563     42  0.570          1920   \n",
       "2      3     Green Bay Packers  741   561     37  0.567          1921   \n",
       "3      4        Miami Dolphins  443   345      4  0.562          1966   \n",
       "4      5      Baltimore Ravens  182   143      1  0.560          1996   \n",
       "5      6   San Francisco 49ers  545   444     14  0.550          1950   \n",
       "6      7  New England Patriots  478   395      9  0.547          1960   \n",
       "7      8       New York Giants  691   581     33  0.542          1925   \n",
       "8      9        Denver Broncos  464   400     10  0.537          1960   \n",
       "9     10     Minnesota Vikings  457   401     10  0.532          1961   \n",
       "10    11       Oakland Raiders  462   406     11  0.532          1960   \n",
       "11    12    Indianapolis Colts  508   448      7  0.531          1953   \n",
       "\n",
       "    Total Games Conference  \n",
       "0           894   NFC East  \n",
       "1          1357  NFC North  \n",
       "2          1339  NFC North  \n",
       "3           792   AFC East  \n",
       "4           326  AFC North  \n",
       "5          1003   NFC West  \n",
       "6           882   AFC East  \n",
       "7          1305   NFC East  \n",
       "8           874   AFC West  \n",
       "9           868  NFC North  \n",
       "10          879   AFC West  \n",
       "11          963  AFC South  "
      ]
     },
     "execution_count": 45,
     "metadata": {},
     "output_type": "execute_result"
    }
   ],
   "source": [
    "# 删除一个列\n",
    "#We can also delete columns\n",
    "del nfl_frame['Stadium']\n",
    "\n",
    "nfl_frame"
   ]
  },
  {
   "cell_type": "code",
   "execution_count": 46,
   "metadata": {
    "collapsed": false
   },
   "outputs": [
    {
     "data": {
      "text/html": [
       "<div>\n",
       "<table border=\"1\" class=\"dataframe\">\n",
       "  <thead>\n",
       "    <tr style=\"text-align: right;\">\n",
       "      <th></th>\n",
       "      <th>City</th>\n",
       "      <th>Population</th>\n",
       "    </tr>\n",
       "  </thead>\n",
       "  <tbody>\n",
       "    <tr>\n",
       "      <th>0</th>\n",
       "      <td>SF</td>\n",
       "      <td>837000</td>\n",
       "    </tr>\n",
       "    <tr>\n",
       "      <th>1</th>\n",
       "      <td>LA</td>\n",
       "      <td>3880000</td>\n",
       "    </tr>\n",
       "    <tr>\n",
       "      <th>2</th>\n",
       "      <td>NYC</td>\n",
       "      <td>8400000</td>\n",
       "    </tr>\n",
       "  </tbody>\n",
       "</table>\n",
       "</div>"
      ],
      "text/plain": [
       "  City  Population\n",
       "0   SF      837000\n",
       "1   LA     3880000\n",
       "2  NYC     8400000"
      ]
     },
     "execution_count": 46,
     "metadata": {},
     "output_type": "execute_result"
    }
   ],
   "source": [
    "#DataFrames can be constructed many ways. Another way is from a dictionary of equal length lists\n",
    "# 注意是等长的list\n",
    "# key会变成column的名字\n",
    "# 不像Series中会将其变成index\n",
    "data = {'City':['SF','LA','NYC'],\n",
    "        'Population':[837000,3880000,8400000]}\n",
    "\n",
    "city_frame = DataFrame(data)\n",
    "\n",
    "#Show\n",
    "city_frame"
   ]
  },
  {
   "cell_type": "code",
   "execution_count": 47,
   "metadata": {
    "collapsed": true
   },
   "outputs": [],
   "source": [
    "# 官方关于DataFrame的文档\n",
    "website = 'http://pandas.pydata.org/pandas-docs/dev/generated/pandas.DataFrame.html'\n"
   ]
  },
  {
   "cell_type": "markdown",
   "metadata": {},
   "source": [
    "# index object"
   ]
  },
  {
   "cell_type": "code",
   "execution_count": 48,
   "metadata": {
    "collapsed": true
   },
   "outputs": [],
   "source": [
    "#Let's learn/review about Index Objects\n",
    "my_ser = Series([1,2,3,4],index=['A','B','C','D'])\n",
    "\n",
    "#Get the index\n",
    "my_index = my_ser.index"
   ]
  },
  {
   "cell_type": "code",
   "execution_count": 49,
   "metadata": {
    "collapsed": false
   },
   "outputs": [
    {
     "data": {
      "text/plain": [
       "Index([u'A', u'B', u'C', u'D'], dtype='object')"
      ]
     },
     "execution_count": 49,
     "metadata": {},
     "output_type": "execute_result"
    }
   ],
   "source": [
    "my_index"
   ]
  },
  {
   "cell_type": "code",
   "execution_count": 50,
   "metadata": {
    "collapsed": false
   },
   "outputs": [
    {
     "data": {
      "text/plain": [
       "Index([u'C', u'D'], dtype='object')"
      ]
     },
     "execution_count": 50,
     "metadata": {},
     "output_type": "execute_result"
    }
   ],
   "source": [
    "# 注意这里是Index Object\n",
    "# 和list一样可以区间取值\n",
    "#Can grab index ranges\n",
    "my_index[2:]"
   ]
  },
  {
   "cell_type": "code",
   "execution_count": 51,
   "metadata": {
    "collapsed": false
   },
   "outputs": [
    {
     "ename": "TypeError",
     "evalue": "Indexes does not support mutable operations",
     "output_type": "error",
     "traceback": [
      "\u001b[1;31m---------------------------------------------------------------------------\u001b[0m",
      "\u001b[1;31mTypeError\u001b[0m                                 Traceback (most recent call last)",
      "\u001b[1;32m<ipython-input-51-a4f65e336f3c>\u001b[0m in \u001b[0;36m<module>\u001b[1;34m()\u001b[0m\n\u001b[0;32m      1\u001b[0m \u001b[1;31m# 但是！ index的特定是不可以改变他的值~\u001b[0m\u001b[1;33m\u001b[0m\u001b[1;33m\u001b[0m\u001b[0m\n\u001b[0;32m      2\u001b[0m \u001b[1;31m#What happens if we try to change an index value?\u001b[0m\u001b[1;33m\u001b[0m\u001b[1;33m\u001b[0m\u001b[0m\n\u001b[1;32m----> 3\u001b[1;33m \u001b[0mmy_index\u001b[0m\u001b[1;33m[\u001b[0m\u001b[1;36m0\u001b[0m\u001b[1;33m]\u001b[0m \u001b[1;33m=\u001b[0m \u001b[1;34m'Z'\u001b[0m\u001b[1;33m\u001b[0m\u001b[0m\n\u001b[0m",
      "\u001b[1;32mC:\\Users\\Wen Weikun\\Anaconda\\lib\\site-packages\\pandas\\core\\index.pyc\u001b[0m in \u001b[0;36m__setitem__\u001b[1;34m(self, key, value)\u001b[0m\n\u001b[0;32m   1055\u001b[0m \u001b[1;33m\u001b[0m\u001b[0m\n\u001b[0;32m   1056\u001b[0m     \u001b[1;32mdef\u001b[0m \u001b[0m__setitem__\u001b[0m\u001b[1;33m(\u001b[0m\u001b[0mself\u001b[0m\u001b[1;33m,\u001b[0m \u001b[0mkey\u001b[0m\u001b[1;33m,\u001b[0m \u001b[0mvalue\u001b[0m\u001b[1;33m)\u001b[0m\u001b[1;33m:\u001b[0m\u001b[1;33m\u001b[0m\u001b[0m\n\u001b[1;32m-> 1057\u001b[1;33m         \u001b[1;32mraise\u001b[0m \u001b[0mTypeError\u001b[0m\u001b[1;33m(\u001b[0m\u001b[1;34m\"Indexes does not support mutable operations\"\u001b[0m\u001b[1;33m)\u001b[0m\u001b[1;33m\u001b[0m\u001b[0m\n\u001b[0m\u001b[0;32m   1058\u001b[0m \u001b[1;33m\u001b[0m\u001b[0m\n\u001b[0;32m   1059\u001b[0m     \u001b[1;32mdef\u001b[0m \u001b[0m__getitem__\u001b[0m\u001b[1;33m(\u001b[0m\u001b[0mself\u001b[0m\u001b[1;33m,\u001b[0m \u001b[0mkey\u001b[0m\u001b[1;33m)\u001b[0m\u001b[1;33m:\u001b[0m\u001b[1;33m\u001b[0m\u001b[0m\n",
      "\u001b[1;31mTypeError\u001b[0m: Indexes does not support mutable operations"
     ]
    }
   ],
   "source": [
    "# 但是！ index的特定是不可以改变他的值~\n",
    "#What happens if we try to change an index value?\n",
    "my_index[0] = 'Z'"
   ]
  },
  {
   "cell_type": "code",
   "execution_count": 52,
   "metadata": {
    "collapsed": true
   },
   "outputs": [],
   "source": [
    "#Indexes are immutable!"
   ]
  },
  {
   "cell_type": "markdown",
   "metadata": {},
   "source": [
    "# Reindexing"
   ]
  },
  {
   "cell_type": "code",
   "execution_count": 53,
   "metadata": {
    "collapsed": false
   },
   "outputs": [
    {
     "data": {
      "text/plain": [
       "A    1\n",
       "B    2\n",
       "C    3\n",
       "D    4\n",
       "dtype: int64"
      ]
     },
     "execution_count": 53,
     "metadata": {},
     "output_type": "execute_result"
    }
   ],
   "source": [
    "ser1 = Series([1,2,3,4],index=['A','B','C','D'])\n",
    "ser1"
   ]
  },
  {
   "cell_type": "code",
   "execution_count": 54,
   "metadata": {
    "collapsed": false
   },
   "outputs": [
    {
     "data": {
      "text/plain": [
       "A     1\n",
       "B     2\n",
       "C     3\n",
       "D     4\n",
       "E   NaN\n",
       "F   NaN\n",
       "dtype: float64"
      ]
     },
     "execution_count": 54,
     "metadata": {},
     "output_type": "execute_result"
    }
   ],
   "source": [
    "#Call reindex to rearrange the data to a new index\n",
    "ser2 = ser1.reindex(['A','B','C','D','E','F'])\n",
    "\n",
    "ser2\n",
    "\n",
    "# reindex 之后多出来的会用NaN填充"
   ]
  },
  {
   "cell_type": "code",
   "execution_count": 55,
   "metadata": {
    "collapsed": false
   },
   "outputs": [
    {
     "data": {
      "text/plain": [
       "A     1\n",
       "B     2\n",
       "C     3\n",
       "D     4\n",
       "E   NaN\n",
       "F   NaN\n",
       "G     0\n",
       "dtype: float64"
      ]
     },
     "execution_count": 55,
     "metadata": {},
     "output_type": "execute_result"
    }
   ],
   "source": [
    "# 当然可以指定填充物\n",
    "ser2.reindex(['A','B','C','D','E','F','G'],fill_value=0)"
   ]
  },
  {
   "cell_type": "code",
   "execution_count": 56,
   "metadata": {
    "collapsed": false
   },
   "outputs": [
    {
     "data": {
      "text/plain": [
       "0        USA\n",
       "5     Mexico\n",
       "10    Canada\n",
       "dtype: object"
      ]
     },
     "execution_count": 56,
     "metadata": {},
     "output_type": "execute_result"
    }
   ],
   "source": [
    "#Using a particular method for filling values\n",
    "ser3 = Series(['USA','Mexico','Canada'],index=[0,5,10])\n",
    "\n",
    "#Show\n",
    "ser3"
   ]
  },
  {
   "cell_type": "code",
   "execution_count": 57,
   "metadata": {
    "collapsed": false
   },
   "outputs": [
    {
     "data": {
      "text/plain": [
       "0        USA\n",
       "1        USA\n",
       "2        USA\n",
       "3        USA\n",
       "4        USA\n",
       "5     Mexico\n",
       "6     Mexico\n",
       "7     Mexico\n",
       "8     Mexico\n",
       "9     Mexico\n",
       "10    Canada\n",
       "11    Canada\n",
       "12    Canada\n",
       "13    Canada\n",
       "14    Canada\n",
       "dtype: object"
      ]
     },
     "execution_count": 57,
     "metadata": {},
     "output_type": "execute_result"
    }
   ],
   "source": [
    "#Can use a forward fill 去填充\n",
    "ser3.reindex(range(15),method='ffill')"
   ]
  },
  {
   "cell_type": "code",
   "execution_count": 58,
   "metadata": {
    "collapsed": false
   },
   "outputs": [
    {
     "data": {
      "text/html": [
       "<div>\n",
       "<table border=\"1\" class=\"dataframe\">\n",
       "  <thead>\n",
       "    <tr style=\"text-align: right;\">\n",
       "      <th></th>\n",
       "      <th>col1</th>\n",
       "      <th>col2</th>\n",
       "      <th>col3</th>\n",
       "      <th>col4</th>\n",
       "      <th>col5</th>\n",
       "    </tr>\n",
       "  </thead>\n",
       "  <tbody>\n",
       "    <tr>\n",
       "      <th>A</th>\n",
       "      <td>0.519198</td>\n",
       "      <td>-0.167774</td>\n",
       "      <td>-0.410447</td>\n",
       "      <td>-0.562567</td>\n",
       "      <td>-0.465879</td>\n",
       "    </tr>\n",
       "    <tr>\n",
       "      <th>B</th>\n",
       "      <td>-2.355173</td>\n",
       "      <td>-0.049336</td>\n",
       "      <td>1.263391</td>\n",
       "      <td>-1.200909</td>\n",
       "      <td>-2.008524</td>\n",
       "    </tr>\n",
       "    <tr>\n",
       "      <th>D</th>\n",
       "      <td>0.921488</td>\n",
       "      <td>-0.695005</td>\n",
       "      <td>-0.892167</td>\n",
       "      <td>-0.097087</td>\n",
       "      <td>-1.853306</td>\n",
       "    </tr>\n",
       "    <tr>\n",
       "      <th>E</th>\n",
       "      <td>-2.186199</td>\n",
       "      <td>-0.956981</td>\n",
       "      <td>-1.059911</td>\n",
       "      <td>0.213244</td>\n",
       "      <td>-1.001633</td>\n",
       "    </tr>\n",
       "    <tr>\n",
       "      <th>F</th>\n",
       "      <td>1.072603</td>\n",
       "      <td>-0.467804</td>\n",
       "      <td>2.031873</td>\n",
       "      <td>1.361518</td>\n",
       "      <td>-0.254492</td>\n",
       "    </tr>\n",
       "  </tbody>\n",
       "</table>\n",
       "</div>"
      ],
      "text/plain": [
       "       col1      col2      col3      col4      col5\n",
       "A  0.519198 -0.167774 -0.410447 -0.562567 -0.465879\n",
       "B -2.355173 -0.049336  1.263391 -1.200909 -2.008524\n",
       "D  0.921488 -0.695005 -0.892167 -0.097087 -1.853306\n",
       "E -2.186199 -0.956981 -1.059911  0.213244 -1.001633\n",
       "F  1.072603 -0.467804  2.031873  1.361518 -0.254492"
      ]
     },
     "execution_count": 58,
     "metadata": {},
     "output_type": "execute_result"
    }
   ],
   "source": [
    "#Reindexing rows, columns or both\n",
    "\n",
    "#Lets make a datafram ewith some random values\n",
    "dframe = DataFrame(np.random.randn(25).reshape((5,5)),index=['A','B','D','E','F'],columns=['col1','col2','col3','col4','col5'])\n",
    "\n",
    "#Show\n",
    "dframe"
   ]
  },
  {
   "cell_type": "code",
   "execution_count": 59,
   "metadata": {
    "collapsed": false
   },
   "outputs": [
    {
     "data": {
      "text/html": [
       "<div>\n",
       "<table border=\"1\" class=\"dataframe\">\n",
       "  <thead>\n",
       "    <tr style=\"text-align: right;\">\n",
       "      <th></th>\n",
       "      <th>col1</th>\n",
       "      <th>col2</th>\n",
       "      <th>col3</th>\n",
       "      <th>col4</th>\n",
       "      <th>col5</th>\n",
       "      <th>col6</th>\n",
       "    </tr>\n",
       "  </thead>\n",
       "  <tbody>\n",
       "    <tr>\n",
       "      <th>A</th>\n",
       "      <td>0.519198</td>\n",
       "      <td>-0.167774</td>\n",
       "      <td>-0.410447</td>\n",
       "      <td>-0.562567</td>\n",
       "      <td>-0.465879</td>\n",
       "      <td>NaN</td>\n",
       "    </tr>\n",
       "    <tr>\n",
       "      <th>B</th>\n",
       "      <td>-2.355173</td>\n",
       "      <td>-0.049336</td>\n",
       "      <td>1.263391</td>\n",
       "      <td>-1.200909</td>\n",
       "      <td>-2.008524</td>\n",
       "      <td>NaN</td>\n",
       "    </tr>\n",
       "    <tr>\n",
       "      <th>C</th>\n",
       "      <td>NaN</td>\n",
       "      <td>NaN</td>\n",
       "      <td>NaN</td>\n",
       "      <td>NaN</td>\n",
       "      <td>NaN</td>\n",
       "      <td>NaN</td>\n",
       "    </tr>\n",
       "    <tr>\n",
       "      <th>D</th>\n",
       "      <td>0.921488</td>\n",
       "      <td>-0.695005</td>\n",
       "      <td>-0.892167</td>\n",
       "      <td>-0.097087</td>\n",
       "      <td>-1.853306</td>\n",
       "      <td>NaN</td>\n",
       "    </tr>\n",
       "    <tr>\n",
       "      <th>E</th>\n",
       "      <td>-2.186199</td>\n",
       "      <td>-0.956981</td>\n",
       "      <td>-1.059911</td>\n",
       "      <td>0.213244</td>\n",
       "      <td>-1.001633</td>\n",
       "      <td>NaN</td>\n",
       "    </tr>\n",
       "    <tr>\n",
       "      <th>F</th>\n",
       "      <td>1.072603</td>\n",
       "      <td>-0.467804</td>\n",
       "      <td>2.031873</td>\n",
       "      <td>1.361518</td>\n",
       "      <td>-0.254492</td>\n",
       "      <td>NaN</td>\n",
       "    </tr>\n",
       "  </tbody>\n",
       "</table>\n",
       "</div>"
      ],
      "text/plain": [
       "       col1      col2      col3      col4      col5  col6\n",
       "A  0.519198 -0.167774 -0.410447 -0.562567 -0.465879   NaN\n",
       "B -2.355173 -0.049336  1.263391 -1.200909 -2.008524   NaN\n",
       "C       NaN       NaN       NaN       NaN       NaN   NaN\n",
       "D  0.921488 -0.695005 -0.892167 -0.097087 -1.853306   NaN\n",
       "E -2.186199 -0.956981 -1.059911  0.213244 -1.001633   NaN\n",
       "F  1.072603 -0.467804  2.031873  1.361518 -0.254492   NaN"
      ]
     },
     "execution_count": 59,
     "metadata": {},
     "output_type": "execute_result"
    }
   ],
   "source": [
    "#Notice we forgot 'C' , lets reindex it into dframe\n",
    "dframe2 = dframe.reindex(['A','B','C','D','E','F'])\n",
    "#Can also explicitly reindex columns\n",
    "new_columns = ['col1','col2','col3','col4','col5','col6']\n",
    "\n",
    "dframe2.reindex(columns=new_columns)"
   ]
  },
  {
   "cell_type": "code",
   "execution_count": 63,
   "metadata": {
    "collapsed": false
   },
   "outputs": [
    {
     "data": {
      "text/plain": [
       "True"
      ]
     },
     "execution_count": 63,
     "metadata": {},
     "output_type": "execute_result"
    }
   ],
   "source": [
    "dframe2._is_view\n",
    "\n",
    "# 注意这是一个view"
   ]
  },
  {
   "cell_type": "code",
   "execution_count": 64,
   "metadata": {
    "collapsed": false
   },
   "outputs": [
    {
     "data": {
      "text/html": [
       "<div>\n",
       "<table border=\"1\" class=\"dataframe\">\n",
       "  <thead>\n",
       "    <tr style=\"text-align: right;\">\n",
       "      <th></th>\n",
       "      <th>col1</th>\n",
       "      <th>col2</th>\n",
       "      <th>col3</th>\n",
       "      <th>col4</th>\n",
       "      <th>col5</th>\n",
       "    </tr>\n",
       "  </thead>\n",
       "  <tbody>\n",
       "    <tr>\n",
       "      <th>A</th>\n",
       "      <td>0.519198</td>\n",
       "      <td>-0.167774</td>\n",
       "      <td>-0.410447</td>\n",
       "      <td>-0.562567</td>\n",
       "      <td>-0.465879</td>\n",
       "    </tr>\n",
       "    <tr>\n",
       "      <th>B</th>\n",
       "      <td>-2.355173</td>\n",
       "      <td>-0.049336</td>\n",
       "      <td>1.263391</td>\n",
       "      <td>-1.200909</td>\n",
       "      <td>-2.008524</td>\n",
       "    </tr>\n",
       "    <tr>\n",
       "      <th>D</th>\n",
       "      <td>0.921488</td>\n",
       "      <td>-0.695005</td>\n",
       "      <td>-0.892167</td>\n",
       "      <td>-0.097087</td>\n",
       "      <td>-1.853306</td>\n",
       "    </tr>\n",
       "    <tr>\n",
       "      <th>E</th>\n",
       "      <td>-2.186199</td>\n",
       "      <td>-0.956981</td>\n",
       "      <td>-1.059911</td>\n",
       "      <td>0.213244</td>\n",
       "      <td>-1.001633</td>\n",
       "    </tr>\n",
       "    <tr>\n",
       "      <th>F</th>\n",
       "      <td>1.072603</td>\n",
       "      <td>-0.467804</td>\n",
       "      <td>2.031873</td>\n",
       "      <td>1.361518</td>\n",
       "      <td>-0.254492</td>\n",
       "    </tr>\n",
       "  </tbody>\n",
       "</table>\n",
       "</div>"
      ],
      "text/plain": [
       "       col1      col2      col3      col4      col5\n",
       "A  0.519198 -0.167774 -0.410447 -0.562567 -0.465879\n",
       "B -2.355173 -0.049336  1.263391 -1.200909 -2.008524\n",
       "D  0.921488 -0.695005 -0.892167 -0.097087 -1.853306\n",
       "E -2.186199 -0.956981 -1.059911  0.213244 -1.001633\n",
       "F  1.072603 -0.467804  2.031873  1.361518 -0.254492"
      ]
     },
     "execution_count": 64,
     "metadata": {},
     "output_type": "execute_result"
    }
   ],
   "source": [
    "#Reindex quickly using the label-indexing with ix \n",
    "\n",
    "#Show original\n",
    "dframe"
   ]
  },
  {
   "cell_type": "code",
   "execution_count": 65,
   "metadata": {
    "collapsed": false
   },
   "outputs": [
    {
     "data": {
      "text/html": [
       "<div>\n",
       "<table border=\"1\" class=\"dataframe\">\n",
       "  <thead>\n",
       "    <tr style=\"text-align: right;\">\n",
       "      <th></th>\n",
       "      <th>col1</th>\n",
       "      <th>col2</th>\n",
       "      <th>col3</th>\n",
       "      <th>col4</th>\n",
       "      <th>col5</th>\n",
       "      <th>col6</th>\n",
       "    </tr>\n",
       "  </thead>\n",
       "  <tbody>\n",
       "    <tr>\n",
       "      <th>A</th>\n",
       "      <td>0.519198</td>\n",
       "      <td>-0.167774</td>\n",
       "      <td>-0.410447</td>\n",
       "      <td>-0.562567</td>\n",
       "      <td>-0.465879</td>\n",
       "      <td>NaN</td>\n",
       "    </tr>\n",
       "    <tr>\n",
       "      <th>B</th>\n",
       "      <td>-2.355173</td>\n",
       "      <td>-0.049336</td>\n",
       "      <td>1.263391</td>\n",
       "      <td>-1.200909</td>\n",
       "      <td>-2.008524</td>\n",
       "      <td>NaN</td>\n",
       "    </tr>\n",
       "    <tr>\n",
       "      <th>C</th>\n",
       "      <td>NaN</td>\n",
       "      <td>NaN</td>\n",
       "      <td>NaN</td>\n",
       "      <td>NaN</td>\n",
       "      <td>NaN</td>\n",
       "      <td>NaN</td>\n",
       "    </tr>\n",
       "    <tr>\n",
       "      <th>D</th>\n",
       "      <td>0.921488</td>\n",
       "      <td>-0.695005</td>\n",
       "      <td>-0.892167</td>\n",
       "      <td>-0.097087</td>\n",
       "      <td>-1.853306</td>\n",
       "      <td>NaN</td>\n",
       "    </tr>\n",
       "    <tr>\n",
       "      <th>E</th>\n",
       "      <td>-2.186199</td>\n",
       "      <td>-0.956981</td>\n",
       "      <td>-1.059911</td>\n",
       "      <td>0.213244</td>\n",
       "      <td>-1.001633</td>\n",
       "      <td>NaN</td>\n",
       "    </tr>\n",
       "    <tr>\n",
       "      <th>F</th>\n",
       "      <td>1.072603</td>\n",
       "      <td>-0.467804</td>\n",
       "      <td>2.031873</td>\n",
       "      <td>1.361518</td>\n",
       "      <td>-0.254492</td>\n",
       "      <td>NaN</td>\n",
       "    </tr>\n",
       "  </tbody>\n",
       "</table>\n",
       "</div>"
      ],
      "text/plain": [
       "       col1      col2      col3      col4      col5  col6\n",
       "A  0.519198 -0.167774 -0.410447 -0.562567 -0.465879   NaN\n",
       "B -2.355173 -0.049336  1.263391 -1.200909 -2.008524   NaN\n",
       "C       NaN       NaN       NaN       NaN       NaN   NaN\n",
       "D  0.921488 -0.695005 -0.892167 -0.097087 -1.853306   NaN\n",
       "E -2.186199 -0.956981 -1.059911  0.213244 -1.001633   NaN\n",
       "F  1.072603 -0.467804  2.031873  1.361518 -0.254492   NaN"
      ]
     },
     "execution_count": 65,
     "metadata": {},
     "output_type": "execute_result"
    }
   ],
   "source": [
    "dframe.ix[['A','B','C','D','E','F'],new_columns]"
   ]
  },
  {
   "cell_type": "markdown",
   "metadata": {},
   "source": [
    "# dropping entries"
   ]
  },
  {
   "cell_type": "code",
   "execution_count": 66,
   "metadata": {
    "collapsed": false
   },
   "outputs": [
    {
     "data": {
      "text/plain": [
       "a    0\n",
       "b    1\n",
       "c    2\n",
       "dtype: int32"
      ]
     },
     "execution_count": 66,
     "metadata": {},
     "output_type": "execute_result"
    }
   ],
   "source": [
    "#Create a new series to play with\n",
    "ser1 = Series(np.arange(3),index=['a','b','c'])\n",
    "\n",
    "#Show\n",
    "ser1"
   ]
  },
  {
   "cell_type": "code",
   "execution_count": 67,
   "metadata": {
    "collapsed": false
   },
   "outputs": [
    {
     "data": {
      "text/plain": [
       "a    0\n",
       "c    2\n",
       "dtype: int32"
      ]
     },
     "execution_count": 67,
     "metadata": {},
     "output_type": "execute_result"
    }
   ],
   "source": [
    "#Now let's drop an index\n",
    "ser1.drop('b')"
   ]
  },
  {
   "cell_type": "code",
   "execution_count": 68,
   "metadata": {
    "collapsed": false
   },
   "outputs": [
    {
     "data": {
      "text/html": [
       "<div>\n",
       "<table border=\"1\" class=\"dataframe\">\n",
       "  <thead>\n",
       "    <tr style=\"text-align: right;\">\n",
       "      <th></th>\n",
       "      <th>pop</th>\n",
       "      <th>size</th>\n",
       "      <th>year</th>\n",
       "    </tr>\n",
       "  </thead>\n",
       "  <tbody>\n",
       "    <tr>\n",
       "      <th>SF</th>\n",
       "      <td>0</td>\n",
       "      <td>1</td>\n",
       "      <td>2</td>\n",
       "    </tr>\n",
       "    <tr>\n",
       "      <th>LA</th>\n",
       "      <td>3</td>\n",
       "      <td>4</td>\n",
       "      <td>5</td>\n",
       "    </tr>\n",
       "    <tr>\n",
       "      <th>NY</th>\n",
       "      <td>6</td>\n",
       "      <td>7</td>\n",
       "      <td>8</td>\n",
       "    </tr>\n",
       "  </tbody>\n",
       "</table>\n",
       "</div>"
      ],
      "text/plain": [
       "    pop  size  year\n",
       "SF    0     1     2\n",
       "LA    3     4     5\n",
       "NY    6     7     8"
      ]
     },
     "execution_count": 68,
     "metadata": {},
     "output_type": "execute_result"
    }
   ],
   "source": [
    "# drop可以drop row或者column， 只要指定aixs就好\n",
    "#With a DataFrame we can drop values from either axis\n",
    "dframe1 = DataFrame(np.arange(9).reshape((3,3)),index=['SF','LA','NY'],columns=['pop','size','year'])\n",
    "\n",
    "#Show (remember just random values)\n",
    "dframe1"
   ]
  },
  {
   "cell_type": "code",
   "execution_count": 69,
   "metadata": {
    "collapsed": false
   },
   "outputs": [
    {
     "data": {
      "text/html": [
       "<div>\n",
       "<table border=\"1\" class=\"dataframe\">\n",
       "  <thead>\n",
       "    <tr style=\"text-align: right;\">\n",
       "      <th></th>\n",
       "      <th>pop</th>\n",
       "      <th>size</th>\n",
       "      <th>year</th>\n",
       "    </tr>\n",
       "  </thead>\n",
       "  <tbody>\n",
       "    <tr>\n",
       "      <th>SF</th>\n",
       "      <td>0</td>\n",
       "      <td>1</td>\n",
       "      <td>2</td>\n",
       "    </tr>\n",
       "    <tr>\n",
       "      <th>NY</th>\n",
       "      <td>6</td>\n",
       "      <td>7</td>\n",
       "      <td>8</td>\n",
       "    </tr>\n",
       "  </tbody>\n",
       "</table>\n",
       "</div>"
      ],
      "text/plain": [
       "    pop  size  year\n",
       "SF    0     1     2\n",
       "NY    6     7     8"
      ]
     },
     "execution_count": 69,
     "metadata": {},
     "output_type": "execute_result"
    }
   ],
   "source": [
    "#Now dropping a row\n",
    "dframe1.drop('LA')"
   ]
  },
  {
   "cell_type": "code",
   "execution_count": 70,
   "metadata": {
    "collapsed": false
   },
   "outputs": [
    {
     "data": {
      "text/html": [
       "<div>\n",
       "<table border=\"1\" class=\"dataframe\">\n",
       "  <thead>\n",
       "    <tr style=\"text-align: right;\">\n",
       "      <th></th>\n",
       "      <th>pop</th>\n",
       "      <th>size</th>\n",
       "    </tr>\n",
       "  </thead>\n",
       "  <tbody>\n",
       "    <tr>\n",
       "      <th>SF</th>\n",
       "      <td>0</td>\n",
       "      <td>1</td>\n",
       "    </tr>\n",
       "    <tr>\n",
       "      <th>LA</th>\n",
       "      <td>3</td>\n",
       "      <td>4</td>\n",
       "    </tr>\n",
       "    <tr>\n",
       "      <th>NY</th>\n",
       "      <td>6</td>\n",
       "      <td>7</td>\n",
       "    </tr>\n",
       "  </tbody>\n",
       "</table>\n",
       "</div>"
      ],
      "text/plain": [
       "    pop  size\n",
       "SF    0     1\n",
       "LA    3     4\n",
       "NY    6     7"
      ]
     },
     "execution_count": 70,
     "metadata": {},
     "output_type": "execute_result"
    }
   ],
   "source": [
    "#Or we could drop a column\n",
    "\n",
    "#Need to specify that axis is 1, not 0\n",
    "dframe1.drop('year',axis=1)"
   ]
  },
  {
   "cell_type": "code",
   "execution_count": 71,
   "metadata": {
    "collapsed": false
   },
   "outputs": [
    {
     "data": {
      "text/html": [
       "<div>\n",
       "<table border=\"1\" class=\"dataframe\">\n",
       "  <thead>\n",
       "    <tr style=\"text-align: right;\">\n",
       "      <th></th>\n",
       "      <th>pop</th>\n",
       "      <th>size</th>\n",
       "      <th>year</th>\n",
       "    </tr>\n",
       "  </thead>\n",
       "  <tbody>\n",
       "    <tr>\n",
       "      <th>SF</th>\n",
       "      <td>0</td>\n",
       "      <td>1</td>\n",
       "      <td>2</td>\n",
       "    </tr>\n",
       "    <tr>\n",
       "      <th>LA</th>\n",
       "      <td>3</td>\n",
       "      <td>4</td>\n",
       "      <td>5</td>\n",
       "    </tr>\n",
       "    <tr>\n",
       "      <th>NY</th>\n",
       "      <td>6</td>\n",
       "      <td>7</td>\n",
       "      <td>8</td>\n",
       "    </tr>\n",
       "  </tbody>\n",
       "</table>\n",
       "</div>"
      ],
      "text/plain": [
       "    pop  size  year\n",
       "SF    0     1     2\n",
       "LA    3     4     5\n",
       "NY    6     7     8"
      ]
     },
     "execution_count": 71,
     "metadata": {},
     "output_type": "execute_result"
    }
   ],
   "source": [
    "# 你会发现原始DF并没有改变，因为刚的操作放回的都是一个view\n",
    "# 如果需要改变原Df， 需要指定inplace=True\n",
    "dframe1"
   ]
  },
  {
   "cell_type": "code",
   "execution_count": 72,
   "metadata": {
    "collapsed": false
   },
   "outputs": [
    {
     "data": {
      "text/html": [
       "<div>\n",
       "<table border=\"1\" class=\"dataframe\">\n",
       "  <thead>\n",
       "    <tr style=\"text-align: right;\">\n",
       "      <th></th>\n",
       "      <th>pop</th>\n",
       "      <th>size</th>\n",
       "    </tr>\n",
       "  </thead>\n",
       "  <tbody>\n",
       "    <tr>\n",
       "      <th>SF</th>\n",
       "      <td>0</td>\n",
       "      <td>1</td>\n",
       "    </tr>\n",
       "    <tr>\n",
       "      <th>LA</th>\n",
       "      <td>3</td>\n",
       "      <td>4</td>\n",
       "    </tr>\n",
       "    <tr>\n",
       "      <th>NY</th>\n",
       "      <td>6</td>\n",
       "      <td>7</td>\n",
       "    </tr>\n",
       "  </tbody>\n",
       "</table>\n",
       "</div>"
      ],
      "text/plain": [
       "    pop  size\n",
       "SF    0     1\n",
       "LA    3     4\n",
       "NY    6     7"
      ]
     },
     "execution_count": 72,
     "metadata": {},
     "output_type": "execute_result"
    }
   ],
   "source": [
    "dframe1.drop('year',axis=1, inplace=True)\n",
    "dframe1"
   ]
  },
  {
   "cell_type": "markdown",
   "metadata": {},
   "source": [
    "# Selecting Entries"
   ]
  },
  {
   "cell_type": "code",
   "execution_count": 73,
   "metadata": {
    "collapsed": false
   },
   "outputs": [
    {
     "data": {
      "text/plain": [
       "A    0\n",
       "B    2\n",
       "C    4\n",
       "dtype: int32"
      ]
     },
     "execution_count": 73,
     "metadata": {},
     "output_type": "execute_result"
    }
   ],
   "source": [
    "#Lets try some Series indexing\n",
    "ser1 = Series(np.arange(3),index=['A','B','C'])\n",
    "\n",
    "#multiply all values by 2, to avoid confusion in future\n",
    "ser1 = 2*ser1\n",
    "\n",
    "#Show\n",
    "ser1 "
   ]
  },
  {
   "cell_type": "code",
   "execution_count": 74,
   "metadata": {
    "collapsed": false
   },
   "outputs": [
    {
     "data": {
      "text/plain": [
       "2"
      ]
     },
     "execution_count": 74,
     "metadata": {},
     "output_type": "execute_result"
    }
   ],
   "source": [
    "#Can grab entry by index name\n",
    "# 注意和df的不同，df中的这个操作是抓取一列\n",
    "ser1['B']"
   ]
  },
  {
   "cell_type": "code",
   "execution_count": 75,
   "metadata": {
    "collapsed": false
   },
   "outputs": [
    {
     "data": {
      "text/plain": [
       "2"
      ]
     },
     "execution_count": 75,
     "metadata": {},
     "output_type": "execute_result"
    }
   ],
   "source": [
    "#Or grab by index \n",
    "ser1[1]"
   ]
  },
  {
   "cell_type": "code",
   "execution_count": 76,
   "metadata": {
    "collapsed": false
   },
   "outputs": [
    {
     "data": {
      "text/plain": [
       "A    0\n",
       "B    2\n",
       "C    4\n",
       "dtype: int32"
      ]
     },
     "execution_count": 76,
     "metadata": {},
     "output_type": "execute_result"
    }
   ],
   "source": [
    "#Can also grab by index range\n",
    "ser1[0:3]"
   ]
  },
  {
   "cell_type": "code",
   "execution_count": 77,
   "metadata": {
    "collapsed": false
   },
   "outputs": [
    {
     "data": {
      "text/plain": [
       "A    0\n",
       "B    2\n",
       "C    4\n",
       "dtype: int32"
      ]
     },
     "execution_count": 77,
     "metadata": {},
     "output_type": "execute_result"
    }
   ],
   "source": [
    "#Or grab range by range of index values\n",
    "ser1[['A','B','C']]"
   ]
  },
  {
   "cell_type": "code",
   "execution_count": 78,
   "metadata": {
    "collapsed": false
   },
   "outputs": [
    {
     "data": {
      "text/plain": [
       "C    4\n",
       "dtype: int32"
      ]
     },
     "execution_count": 78,
     "metadata": {},
     "output_type": "execute_result"
    }
   ],
   "source": [
    "#Or grab by logic\n",
    "ser1[ser1>3]"
   ]
  },
  {
   "cell_type": "code",
   "execution_count": 79,
   "metadata": {
    "collapsed": false
   },
   "outputs": [
    {
     "data": {
      "text/plain": [
       "A     0\n",
       "B     2\n",
       "C    10\n",
       "dtype: int32"
      ]
     },
     "execution_count": 79,
     "metadata": {},
     "output_type": "execute_result"
    }
   ],
   "source": [
    "#Can also ser using these methods\n",
    "ser1[ser1>3] = 10\n",
    "\n",
    "#Show\n",
    "ser1"
   ]
  },
  {
   "cell_type": "code",
   "execution_count": 80,
   "metadata": {
    "collapsed": false
   },
   "outputs": [
    {
     "data": {
      "text/html": [
       "<div>\n",
       "<table border=\"1\" class=\"dataframe\">\n",
       "  <thead>\n",
       "    <tr style=\"text-align: right;\">\n",
       "      <th></th>\n",
       "      <th>A</th>\n",
       "      <th>B</th>\n",
       "      <th>C</th>\n",
       "      <th>D</th>\n",
       "      <th>E</th>\n",
       "    </tr>\n",
       "  </thead>\n",
       "  <tbody>\n",
       "    <tr>\n",
       "      <th>NYC</th>\n",
       "      <td>0</td>\n",
       "      <td>1</td>\n",
       "      <td>2</td>\n",
       "      <td>3</td>\n",
       "      <td>4</td>\n",
       "    </tr>\n",
       "    <tr>\n",
       "      <th>LA</th>\n",
       "      <td>5</td>\n",
       "      <td>6</td>\n",
       "      <td>7</td>\n",
       "      <td>8</td>\n",
       "      <td>9</td>\n",
       "    </tr>\n",
       "    <tr>\n",
       "      <th>SF</th>\n",
       "      <td>10</td>\n",
       "      <td>11</td>\n",
       "      <td>12</td>\n",
       "      <td>13</td>\n",
       "      <td>14</td>\n",
       "    </tr>\n",
       "    <tr>\n",
       "      <th>DC</th>\n",
       "      <td>15</td>\n",
       "      <td>16</td>\n",
       "      <td>17</td>\n",
       "      <td>18</td>\n",
       "      <td>19</td>\n",
       "    </tr>\n",
       "    <tr>\n",
       "      <th>Chi</th>\n",
       "      <td>20</td>\n",
       "      <td>21</td>\n",
       "      <td>22</td>\n",
       "      <td>23</td>\n",
       "      <td>24</td>\n",
       "    </tr>\n",
       "  </tbody>\n",
       "</table>\n",
       "</div>"
      ],
      "text/plain": [
       "      A   B   C   D   E\n",
       "NYC   0   1   2   3   4\n",
       "LA    5   6   7   8   9\n",
       "SF   10  11  12  13  14\n",
       "DC   15  16  17  18  19\n",
       "Chi  20  21  22  23  24"
      ]
     },
     "execution_count": 80,
     "metadata": {},
     "output_type": "execute_result"
    }
   ],
   "source": [
    "#Now let's see sleection in a DataFrame\n",
    "\n",
    "dframe = DataFrame(np.arange(25).reshape((5,5)),index=['NYC','LA','SF','DC','Chi'],columns=['A','B','C','D','E'])\n",
    "\n",
    "#Show\n",
    "dframe"
   ]
  },
  {
   "cell_type": "code",
   "execution_count": 81,
   "metadata": {
    "collapsed": false
   },
   "outputs": [
    {
     "data": {
      "text/plain": [
       "NYC     1\n",
       "LA      6\n",
       "SF     11\n",
       "DC     16\n",
       "Chi    21\n",
       "Name: B, dtype: int32"
      ]
     },
     "execution_count": 81,
     "metadata": {},
     "output_type": "execute_result"
    }
   ],
   "source": [
    "#Select by column name\n",
    "dframe['B']"
   ]
  },
  {
   "cell_type": "code",
   "execution_count": 82,
   "metadata": {
    "collapsed": false
   },
   "outputs": [
    {
     "data": {
      "text/html": [
       "<div>\n",
       "<table border=\"1\" class=\"dataframe\">\n",
       "  <thead>\n",
       "    <tr style=\"text-align: right;\">\n",
       "      <th></th>\n",
       "      <th>B</th>\n",
       "      <th>E</th>\n",
       "    </tr>\n",
       "  </thead>\n",
       "  <tbody>\n",
       "    <tr>\n",
       "      <th>NYC</th>\n",
       "      <td>1</td>\n",
       "      <td>4</td>\n",
       "    </tr>\n",
       "    <tr>\n",
       "      <th>LA</th>\n",
       "      <td>6</td>\n",
       "      <td>9</td>\n",
       "    </tr>\n",
       "    <tr>\n",
       "      <th>SF</th>\n",
       "      <td>11</td>\n",
       "      <td>14</td>\n",
       "    </tr>\n",
       "    <tr>\n",
       "      <th>DC</th>\n",
       "      <td>16</td>\n",
       "      <td>19</td>\n",
       "    </tr>\n",
       "    <tr>\n",
       "      <th>Chi</th>\n",
       "      <td>21</td>\n",
       "      <td>24</td>\n",
       "    </tr>\n",
       "  </tbody>\n",
       "</table>\n",
       "</div>"
      ],
      "text/plain": [
       "      B   E\n",
       "NYC   1   4\n",
       "LA    6   9\n",
       "SF   11  14\n",
       "DC   16  19\n",
       "Chi  21  24"
      ]
     },
     "execution_count": 82,
     "metadata": {},
     "output_type": "execute_result"
    }
   ],
   "source": [
    "#Select by multiple columns\n",
    "dframe[['B','E']]"
   ]
  },
  {
   "cell_type": "code",
   "execution_count": 83,
   "metadata": {
    "collapsed": false
   },
   "outputs": [
    {
     "data": {
      "text/html": [
       "<div>\n",
       "<table border=\"1\" class=\"dataframe\">\n",
       "  <thead>\n",
       "    <tr style=\"text-align: right;\">\n",
       "      <th></th>\n",
       "      <th>A</th>\n",
       "      <th>B</th>\n",
       "      <th>C</th>\n",
       "      <th>D</th>\n",
       "      <th>E</th>\n",
       "    </tr>\n",
       "  </thead>\n",
       "  <tbody>\n",
       "    <tr>\n",
       "      <th>SF</th>\n",
       "      <td>10</td>\n",
       "      <td>11</td>\n",
       "      <td>12</td>\n",
       "      <td>13</td>\n",
       "      <td>14</td>\n",
       "    </tr>\n",
       "    <tr>\n",
       "      <th>DC</th>\n",
       "      <td>15</td>\n",
       "      <td>16</td>\n",
       "      <td>17</td>\n",
       "      <td>18</td>\n",
       "      <td>19</td>\n",
       "    </tr>\n",
       "    <tr>\n",
       "      <th>Chi</th>\n",
       "      <td>20</td>\n",
       "      <td>21</td>\n",
       "      <td>22</td>\n",
       "      <td>23</td>\n",
       "      <td>24</td>\n",
       "    </tr>\n",
       "  </tbody>\n",
       "</table>\n",
       "</div>"
      ],
      "text/plain": [
       "      A   B   C   D   E\n",
       "SF   10  11  12  13  14\n",
       "DC   15  16  17  18  19\n",
       "Chi  20  21  22  23  24"
      ]
     },
     "execution_count": 83,
     "metadata": {},
     "output_type": "execute_result"
    }
   ],
   "source": [
    "#Can also use boolean\n",
    "dframe[dframe['C']>8]"
   ]
  },
  {
   "cell_type": "code",
   "execution_count": 84,
   "metadata": {
    "collapsed": false
   },
   "outputs": [
    {
     "data": {
      "text/html": [
       "<div>\n",
       "<table border=\"1\" class=\"dataframe\">\n",
       "  <thead>\n",
       "    <tr style=\"text-align: right;\">\n",
       "      <th></th>\n",
       "      <th>A</th>\n",
       "      <th>B</th>\n",
       "      <th>C</th>\n",
       "      <th>D</th>\n",
       "      <th>E</th>\n",
       "    </tr>\n",
       "  </thead>\n",
       "  <tbody>\n",
       "    <tr>\n",
       "      <th>NYC</th>\n",
       "      <td>False</td>\n",
       "      <td>False</td>\n",
       "      <td>False</td>\n",
       "      <td>False</td>\n",
       "      <td>False</td>\n",
       "    </tr>\n",
       "    <tr>\n",
       "      <th>LA</th>\n",
       "      <td>False</td>\n",
       "      <td>False</td>\n",
       "      <td>False</td>\n",
       "      <td>False</td>\n",
       "      <td>False</td>\n",
       "    </tr>\n",
       "    <tr>\n",
       "      <th>SF</th>\n",
       "      <td>False</td>\n",
       "      <td>True</td>\n",
       "      <td>True</td>\n",
       "      <td>True</td>\n",
       "      <td>True</td>\n",
       "    </tr>\n",
       "    <tr>\n",
       "      <th>DC</th>\n",
       "      <td>True</td>\n",
       "      <td>True</td>\n",
       "      <td>True</td>\n",
       "      <td>True</td>\n",
       "      <td>True</td>\n",
       "    </tr>\n",
       "    <tr>\n",
       "      <th>Chi</th>\n",
       "      <td>True</td>\n",
       "      <td>True</td>\n",
       "      <td>True</td>\n",
       "      <td>True</td>\n",
       "      <td>True</td>\n",
       "    </tr>\n",
       "  </tbody>\n",
       "</table>\n",
       "</div>"
      ],
      "text/plain": [
       "         A      B      C      D      E\n",
       "NYC  False  False  False  False  False\n",
       "LA   False  False  False  False  False\n",
       "SF   False   True   True   True   True\n",
       "DC    True   True   True   True   True\n",
       "Chi   True   True   True   True   True"
      ]
     },
     "execution_count": 84,
     "metadata": {},
     "output_type": "execute_result"
    }
   ],
   "source": [
    "#Can also just shoe a boolean DataFrame\n",
    "dframe> 10"
   ]
  },
  {
   "cell_type": "code",
   "execution_count": 85,
   "metadata": {
    "collapsed": false
   },
   "outputs": [
    {
     "data": {
      "text/plain": [
       "A    5\n",
       "B    6\n",
       "C    7\n",
       "D    8\n",
       "E    9\n",
       "Name: LA, dtype: int32"
      ]
     },
     "execution_count": 85,
     "metadata": {},
     "output_type": "execute_result"
    }
   ],
   "source": [
    "#Can alos use ix as previously discussed to label-index\n",
    "# 通过index选取\n",
    "dframe.ix['LA']"
   ]
  },
  {
   "cell_type": "code",
   "execution_count": 86,
   "metadata": {
    "collapsed": false
   },
   "outputs": [
    {
     "data": {
      "text/plain": [
       "A    5\n",
       "B    6\n",
       "C    7\n",
       "D    8\n",
       "E    9\n",
       "Name: LA, dtype: int32"
      ]
     },
     "execution_count": 86,
     "metadata": {},
     "output_type": "execute_result"
    }
   ],
   "source": [
    "#Another example\n",
    "dframe.ix[1]"
   ]
  },
  {
   "cell_type": "markdown",
   "metadata": {},
   "source": [
    "# Data Alignment"
   ]
  },
  {
   "cell_type": "code",
   "execution_count": 87,
   "metadata": {
    "collapsed": false
   },
   "outputs": [
    {
     "data": {
      "text/plain": [
       "A    0\n",
       "B    1\n",
       "C    2\n",
       "dtype: int64"
      ]
     },
     "execution_count": 87,
     "metadata": {},
     "output_type": "execute_result"
    }
   ],
   "source": [
    "#Lets start by making two Series\n",
    "\n",
    "ser1 = Series([0,1,2],index=['A','B','C'])\n",
    "\n",
    "#Show\n",
    "ser1"
   ]
  },
  {
   "cell_type": "code",
   "execution_count": 88,
   "metadata": {
    "collapsed": false
   },
   "outputs": [
    {
     "data": {
      "text/plain": [
       "A    3\n",
       "B    4\n",
       "C    5\n",
       "D    6\n",
       "dtype: int64"
      ]
     },
     "execution_count": 88,
     "metadata": {},
     "output_type": "execute_result"
    }
   ],
   "source": [
    "#Now second Series 2\n",
    "ser2 = Series([3,4,5,6],index=['A','B','C','D'])\n",
    "\n",
    "#Show \n",
    "ser2 "
   ]
  },
  {
   "cell_type": "code",
   "execution_count": 89,
   "metadata": {
    "collapsed": false
   },
   "outputs": [
    {
     "data": {
      "text/plain": [
       "A     3\n",
       "B     5\n",
       "C     7\n",
       "D   NaN\n",
       "dtype: float64"
      ]
     },
     "execution_count": 89,
     "metadata": {},
     "output_type": "execute_result"
    }
   ],
   "source": [
    "#So what happens when we add these together\n",
    "ser1 + ser2\n",
    "\n",
    "# 多出来的将会是NaN代替"
   ]
  },
  {
   "cell_type": "code",
   "execution_count": 90,
   "metadata": {
    "collapsed": false
   },
   "outputs": [
    {
     "data": {
      "text/html": [
       "<div>\n",
       "<table border=\"1\" class=\"dataframe\">\n",
       "  <thead>\n",
       "    <tr style=\"text-align: right;\">\n",
       "      <th></th>\n",
       "      <th>A</th>\n",
       "      <th>B</th>\n",
       "    </tr>\n",
       "  </thead>\n",
       "  <tbody>\n",
       "    <tr>\n",
       "      <th>NYC</th>\n",
       "      <td>0</td>\n",
       "      <td>1</td>\n",
       "    </tr>\n",
       "    <tr>\n",
       "      <th>LA</th>\n",
       "      <td>2</td>\n",
       "      <td>3</td>\n",
       "    </tr>\n",
       "  </tbody>\n",
       "</table>\n",
       "</div>"
      ],
      "text/plain": [
       "     A  B\n",
       "NYC  0  1\n",
       "LA   2  3"
      ]
     },
     "execution_count": 90,
     "metadata": {},
     "output_type": "execute_result"
    }
   ],
   "source": [
    "# Now let's try it with DataFrames!\n",
    "dframe1 = DataFrame(np.arange(4).reshape(2,2),columns=list('AB'),index=['NYC','LA'])\n",
    "\n",
    "#Show\n",
    "dframe1"
   ]
  },
  {
   "cell_type": "code",
   "execution_count": 91,
   "metadata": {
    "collapsed": false
   },
   "outputs": [
    {
     "data": {
      "text/html": [
       "<div>\n",
       "<table border=\"1\" class=\"dataframe\">\n",
       "  <thead>\n",
       "    <tr style=\"text-align: right;\">\n",
       "      <th></th>\n",
       "      <th>A</th>\n",
       "      <th>D</th>\n",
       "      <th>C</th>\n",
       "    </tr>\n",
       "  </thead>\n",
       "  <tbody>\n",
       "    <tr>\n",
       "      <th>NYC</th>\n",
       "      <td>0</td>\n",
       "      <td>1</td>\n",
       "      <td>2</td>\n",
       "    </tr>\n",
       "    <tr>\n",
       "      <th>SF</th>\n",
       "      <td>3</td>\n",
       "      <td>4</td>\n",
       "      <td>5</td>\n",
       "    </tr>\n",
       "    <tr>\n",
       "      <th>LA</th>\n",
       "      <td>6</td>\n",
       "      <td>7</td>\n",
       "      <td>8</td>\n",
       "    </tr>\n",
       "  </tbody>\n",
       "</table>\n",
       "</div>"
      ],
      "text/plain": [
       "     A  D  C\n",
       "NYC  0  1  2\n",
       "SF   3  4  5\n",
       "LA   6  7  8"
      ]
     },
     "execution_count": 91,
     "metadata": {},
     "output_type": "execute_result"
    }
   ],
   "source": [
    "#Second DataFrame\n",
    "dframe2 = DataFrame(np.arange(9).reshape(3,3),columns=list('ADC'),index=['NYC','SF','LA'])\n",
    "\n",
    "#Show\n",
    "dframe2"
   ]
  },
  {
   "cell_type": "code",
   "execution_count": 92,
   "metadata": {
    "collapsed": false
   },
   "outputs": [
    {
     "data": {
      "text/html": [
       "<div>\n",
       "<table border=\"1\" class=\"dataframe\">\n",
       "  <thead>\n",
       "    <tr style=\"text-align: right;\">\n",
       "      <th></th>\n",
       "      <th>A</th>\n",
       "      <th>B</th>\n",
       "      <th>C</th>\n",
       "      <th>D</th>\n",
       "    </tr>\n",
       "  </thead>\n",
       "  <tbody>\n",
       "    <tr>\n",
       "      <th>LA</th>\n",
       "      <td>8</td>\n",
       "      <td>NaN</td>\n",
       "      <td>NaN</td>\n",
       "      <td>NaN</td>\n",
       "    </tr>\n",
       "    <tr>\n",
       "      <th>NYC</th>\n",
       "      <td>0</td>\n",
       "      <td>NaN</td>\n",
       "      <td>NaN</td>\n",
       "      <td>NaN</td>\n",
       "    </tr>\n",
       "    <tr>\n",
       "      <th>SF</th>\n",
       "      <td>NaN</td>\n",
       "      <td>NaN</td>\n",
       "      <td>NaN</td>\n",
       "      <td>NaN</td>\n",
       "    </tr>\n",
       "  </tbody>\n",
       "</table>\n",
       "</div>"
      ],
      "text/plain": [
       "      A   B   C   D\n",
       "LA    8 NaN NaN NaN\n",
       "NYC   0 NaN NaN NaN\n",
       "SF  NaN NaN NaN NaN"
      ]
     },
     "execution_count": 92,
     "metadata": {},
     "output_type": "execute_result"
    }
   ],
   "source": [
    "#What happens when we add them together?\n",
    "\n",
    "dframe1 + dframe2\n",
    "\n",
    "# 没相应的index或者column的时候，就等于 数字+NaN = NaN"
   ]
  },
  {
   "cell_type": "code",
   "execution_count": 93,
   "metadata": {
    "collapsed": false
   },
   "outputs": [
    {
     "data": {
      "text/html": [
       "<div>\n",
       "<table border=\"1\" class=\"dataframe\">\n",
       "  <thead>\n",
       "    <tr style=\"text-align: right;\">\n",
       "      <th></th>\n",
       "      <th>A</th>\n",
       "      <th>B</th>\n",
       "      <th>C</th>\n",
       "      <th>D</th>\n",
       "    </tr>\n",
       "  </thead>\n",
       "  <tbody>\n",
       "    <tr>\n",
       "      <th>LA</th>\n",
       "      <td>8</td>\n",
       "      <td>3</td>\n",
       "      <td>8</td>\n",
       "      <td>7</td>\n",
       "    </tr>\n",
       "    <tr>\n",
       "      <th>NYC</th>\n",
       "      <td>0</td>\n",
       "      <td>1</td>\n",
       "      <td>2</td>\n",
       "      <td>1</td>\n",
       "    </tr>\n",
       "    <tr>\n",
       "      <th>SF</th>\n",
       "      <td>3</td>\n",
       "      <td>NaN</td>\n",
       "      <td>5</td>\n",
       "      <td>4</td>\n",
       "    </tr>\n",
       "  </tbody>\n",
       "</table>\n",
       "</div>"
      ],
      "text/plain": [
       "     A   B  C  D\n",
       "LA   8   3  8  7\n",
       "NYC  0   1  2  1\n",
       "SF   3 NaN  5  4"
      ]
     },
     "execution_count": 93,
     "metadata": {},
     "output_type": "execute_result"
    }
   ],
   "source": [
    "#What if we want to replace the NaN values\n",
    "# Then we can use .add()\n",
    "\n",
    "dframe1.add(dframe2,fill_value=0)"
   ]
  },
  {
   "cell_type": "code",
   "execution_count": 94,
   "metadata": {
    "collapsed": true
   },
   "outputs": [],
   "source": [
    "#Now we can see that the values are filled, however there was no SF,B value so that is still NaN\n"
   ]
  },
  {
   "cell_type": "code",
   "execution_count": 96,
   "metadata": {
    "collapsed": true
   },
   "outputs": [],
   "source": [
    "#Lets learn about operations betwen a Series and a DataFrame"
   ]
  },
  {
   "cell_type": "code",
   "execution_count": 97,
   "metadata": {
    "collapsed": false
   },
   "outputs": [
    {
     "data": {
      "text/html": [
       "<div>\n",
       "<table border=\"1\" class=\"dataframe\">\n",
       "  <thead>\n",
       "    <tr style=\"text-align: right;\">\n",
       "      <th></th>\n",
       "      <th>A</th>\n",
       "      <th>D</th>\n",
       "      <th>C</th>\n",
       "    </tr>\n",
       "  </thead>\n",
       "  <tbody>\n",
       "    <tr>\n",
       "      <th>NYC</th>\n",
       "      <td>0</td>\n",
       "      <td>1</td>\n",
       "      <td>2</td>\n",
       "    </tr>\n",
       "    <tr>\n",
       "      <th>SF</th>\n",
       "      <td>3</td>\n",
       "      <td>4</td>\n",
       "      <td>5</td>\n",
       "    </tr>\n",
       "    <tr>\n",
       "      <th>LA</th>\n",
       "      <td>6</td>\n",
       "      <td>7</td>\n",
       "      <td>8</td>\n",
       "    </tr>\n",
       "  </tbody>\n",
       "</table>\n",
       "</div>"
      ],
      "text/plain": [
       "     A  D  C\n",
       "NYC  0  1  2\n",
       "SF   3  4  5\n",
       "LA   6  7  8"
      ]
     },
     "execution_count": 97,
     "metadata": {},
     "output_type": "execute_result"
    }
   ],
   "source": [
    "#Show\n",
    "dframe2"
   ]
  },
  {
   "cell_type": "code",
   "execution_count": 98,
   "metadata": {
    "collapsed": false
   },
   "outputs": [
    {
     "data": {
      "text/plain": [
       "A    0\n",
       "D    1\n",
       "C    2\n",
       "Name: NYC, dtype: int32"
      ]
     },
     "execution_count": 98,
     "metadata": {},
     "output_type": "execute_result"
    }
   ],
   "source": [
    "#Create a Series from DataFrame's 0 row\n",
    "ser3 = dframe2.ix[0]\n",
    "\n",
    "#Show\n",
    "ser3"
   ]
  },
  {
   "cell_type": "code",
   "execution_count": 99,
   "metadata": {
    "collapsed": false
   },
   "outputs": [
    {
     "data": {
      "text/html": [
       "<div>\n",
       "<table border=\"1\" class=\"dataframe\">\n",
       "  <thead>\n",
       "    <tr style=\"text-align: right;\">\n",
       "      <th></th>\n",
       "      <th>A</th>\n",
       "      <th>D</th>\n",
       "      <th>C</th>\n",
       "    </tr>\n",
       "  </thead>\n",
       "  <tbody>\n",
       "    <tr>\n",
       "      <th>NYC</th>\n",
       "      <td>0</td>\n",
       "      <td>0</td>\n",
       "      <td>0</td>\n",
       "    </tr>\n",
       "    <tr>\n",
       "      <th>SF</th>\n",
       "      <td>3</td>\n",
       "      <td>3</td>\n",
       "      <td>3</td>\n",
       "    </tr>\n",
       "    <tr>\n",
       "      <th>LA</th>\n",
       "      <td>6</td>\n",
       "      <td>6</td>\n",
       "      <td>6</td>\n",
       "    </tr>\n",
       "  </tbody>\n",
       "</table>\n",
       "</div>"
      ],
      "text/plain": [
       "     A  D  C\n",
       "NYC  0  0  0\n",
       "SF   3  3  3\n",
       "LA   6  6  6"
      ]
     },
     "execution_count": 99,
     "metadata": {},
     "output_type": "execute_result"
    }
   ],
   "source": [
    "#Now we can use arithmetic operations\n",
    "dframe2-ser3"
   ]
  },
  {
   "cell_type": "markdown",
   "metadata": {},
   "source": [
    "# Rank and Sort"
   ]
  },
  {
   "cell_type": "code",
   "execution_count": 105,
   "metadata": {
    "collapsed": false
   },
   "outputs": [
    {
     "data": {
      "text/plain": [
       "C    3\n",
       "A    1\n",
       "B    5\n",
       "dtype: int64"
      ]
     },
     "execution_count": 105,
     "metadata": {},
     "output_type": "execute_result"
    }
   ],
   "source": [
    "#Sorting by index\n",
    "ser1 = Series([3,1,5],index=['C','A','B'])\n",
    "\n",
    "#show\n",
    "ser1"
   ]
  },
  {
   "cell_type": "code",
   "execution_count": 106,
   "metadata": {
    "collapsed": false
   },
   "outputs": [
    {
     "data": {
      "text/plain": [
       "A    1\n",
       "B    5\n",
       "C    3\n",
       "dtype: int64"
      ]
     },
     "execution_count": 106,
     "metadata": {},
     "output_type": "execute_result"
    }
   ],
   "source": [
    "#Now sort_index\n",
    "ser1.sort_index()"
   ]
  },
  {
   "cell_type": "code",
   "execution_count": 107,
   "metadata": {
    "collapsed": false
   },
   "outputs": [
    {
     "data": {
      "text/plain": [
       "C    3\n",
       "A    1\n",
       "B    5\n",
       "dtype: int64"
      ]
     },
     "execution_count": 107,
     "metadata": {},
     "output_type": "execute_result"
    }
   ],
   "source": [
    "ser1\n",
    "# 源数据并不会变化"
   ]
  },
  {
   "cell_type": "code",
   "execution_count": 108,
   "metadata": {
    "collapsed": false
   },
   "outputs": [
    {
     "data": {
      "text/plain": [
       "A    1\n",
       "C    3\n",
       "B    5\n",
       "dtype: int64"
      ]
     },
     "execution_count": 108,
     "metadata": {},
     "output_type": "execute_result"
    }
   ],
   "source": [
    "#Can sort a Series by its values\n",
    "ser1.order()"
   ]
  },
  {
   "cell_type": "code",
   "execution_count": 109,
   "metadata": {
    "collapsed": false
   },
   "outputs": [
    {
     "data": {
      "text/plain": [
       "C    3\n",
       "A    1\n",
       "B    5\n",
       "dtype: int64"
      ]
     },
     "execution_count": 109,
     "metadata": {},
     "output_type": "execute_result"
    }
   ],
   "source": [
    "ser1\n",
    "\n",
    "# 源数据同样不会改变"
   ]
  },
  {
   "cell_type": "code",
   "execution_count": 110,
   "metadata": {
    "collapsed": false
   },
   "outputs": [
    {
     "data": {
      "text/plain": [
       "0    1.175582\n",
       "1    1.270593\n",
       "2   -0.527585\n",
       "3    0.397114\n",
       "4    0.772506\n",
       "5   -0.547295\n",
       "6    0.296857\n",
       "7   -0.145982\n",
       "8    0.217200\n",
       "9    0.708120\n",
       "dtype: float64"
      ]
     },
     "execution_count": 110,
     "metadata": {},
     "output_type": "execute_result"
    }
   ],
   "source": [
    "# 关于Ranking\n",
    "\n",
    "from numpy.random import randn\n",
    "ser2 = Series(randn(10))\n",
    "\n",
    "#Show\n",
    "ser2"
   ]
  },
  {
   "cell_type": "code",
   "execution_count": 111,
   "metadata": {
    "collapsed": false,
    "scrolled": true
   },
   "outputs": [
    {
     "data": {
      "text/plain": [
       "0     9\n",
       "1    10\n",
       "2     2\n",
       "3     6\n",
       "4     8\n",
       "5     1\n",
       "6     5\n",
       "7     3\n",
       "8     4\n",
       "9     7\n",
       "dtype: float64"
      ]
     },
     "execution_count": 111,
     "metadata": {},
     "output_type": "execute_result"
    }
   ],
   "source": [
    "ser2.rank()\n",
    "\n",
    "# 会直接更加value的大小给他们得出排名"
   ]
  },
  {
   "cell_type": "code",
   "execution_count": 112,
   "metadata": {
    "collapsed": false
   },
   "outputs": [
    {
     "data": {
      "text/plain": [
       "5   -0.547295\n",
       "2   -0.527585\n",
       "7   -0.145982\n",
       "8    0.217200\n",
       "6    0.296857\n",
       "3    0.397114\n",
       "9    0.708120\n",
       "4    0.772506\n",
       "0    1.175582\n",
       "1    1.270593\n",
       "dtype: float64"
      ]
     },
     "execution_count": 112,
     "metadata": {},
     "output_type": "execute_result"
    }
   ],
   "source": [
    "#Lets sort it now\n",
    "ser2.sort()\n",
    "\n",
    "#Show\n",
    "ser2\n",
    "\n",
    "# 这里需要注意的是！sort之后源数据会改变！"
   ]
  },
  {
   "cell_type": "code",
   "execution_count": 113,
   "metadata": {
    "collapsed": false
   },
   "outputs": [
    {
     "data": {
      "text/plain": [
       "5     1\n",
       "2     2\n",
       "7     3\n",
       "8     4\n",
       "6     5\n",
       "3     6\n",
       "9     7\n",
       "4     8\n",
       "0     9\n",
       "1    10\n",
       "dtype: float64"
      ]
     },
     "execution_count": 113,
     "metadata": {},
     "output_type": "execute_result"
    }
   ],
   "source": [
    "#After sorting let's check the rank and see iof it makes sense\n",
    "ser2.rank()"
   ]
  },
  {
   "cell_type": "markdown",
   "metadata": {},
   "source": [
    "# Summary Statistics"
   ]
  },
  {
   "cell_type": "code",
   "execution_count": 1,
   "metadata": {
    "collapsed": true
   },
   "outputs": [],
   "source": [
    "import numpy as np\n",
    "from pandas import Series,DataFrame\n",
    "import pandas as pd"
   ]
  },
  {
   "cell_type": "code",
   "execution_count": 2,
   "metadata": {
    "collapsed": false
   },
   "outputs": [
    {
     "data": {
      "text/html": [
       "<div>\n",
       "<table border=\"1\" class=\"dataframe\">\n",
       "  <thead>\n",
       "    <tr style=\"text-align: right;\">\n",
       "      <th></th>\n",
       "      <th>One</th>\n",
       "      <th>Two</th>\n",
       "      <th>Three</th>\n",
       "    </tr>\n",
       "  </thead>\n",
       "  <tbody>\n",
       "    <tr>\n",
       "      <th>A</th>\n",
       "      <td>1</td>\n",
       "      <td>2</td>\n",
       "      <td>NaN</td>\n",
       "    </tr>\n",
       "    <tr>\n",
       "      <th>B</th>\n",
       "      <td>NaN</td>\n",
       "      <td>3</td>\n",
       "      <td>4</td>\n",
       "    </tr>\n",
       "  </tbody>\n",
       "</table>\n",
       "</div>"
      ],
      "text/plain": [
       "   One  Two  Three\n",
       "A    1    2    NaN\n",
       "B  NaN    3      4"
      ]
     },
     "execution_count": 2,
     "metadata": {},
     "output_type": "execute_result"
    }
   ],
   "source": [
    "arr = np.array([[1,2,np.nan],[np.nan,3,4]])\n",
    "dframe1 = DataFrame(arr,index=['A','B'],columns = ['One','Two','Three'])\n",
    "\n",
    "#Show\n",
    "dframe1"
   ]
  },
  {
   "cell_type": "code",
   "execution_count": 3,
   "metadata": {
    "collapsed": false
   },
   "outputs": [
    {
     "data": {
      "text/plain": [
       "One      1\n",
       "Two      5\n",
       "Three    4\n",
       "dtype: float64"
      ]
     },
     "execution_count": 3,
     "metadata": {},
     "output_type": "execute_result"
    }
   ],
   "source": [
    "# 默认的sum操作是axis=0，也就是说每row相加，得出每列一个sum结果\n",
    "dframe1.sum()"
   ]
  },
  {
   "cell_type": "code",
   "execution_count": 4,
   "metadata": {
    "collapsed": false
   },
   "outputs": [
    {
     "data": {
      "text/plain": [
       "A    3\n",
       "B    7\n",
       "dtype: float64"
      ]
     },
     "execution_count": 4,
     "metadata": {},
     "output_type": "execute_result"
    }
   ],
   "source": [
    "# 注意这里的NaN相加并不会为NaN，这个与DF相互操作是不一样的，类似于这种情况下的NaN被视为0\n",
    "dframe1.sum(axis=1)"
   ]
  },
  {
   "cell_type": "code",
   "execution_count": 5,
   "metadata": {
    "collapsed": false
   },
   "outputs": [
    {
     "data": {
      "text/plain": [
       "One      1\n",
       "Two      2\n",
       "Three    4\n",
       "dtype: float64"
      ]
     },
     "execution_count": 5,
     "metadata": {},
     "output_type": "execute_result"
    }
   ],
   "source": [
    "# 一些其他的方式也是可以直接用的\n",
    "# 例如得出每一列的最小值最大值\n",
    "dframe1.min()"
   ]
  },
  {
   "cell_type": "code",
   "execution_count": 6,
   "metadata": {
    "collapsed": false
   },
   "outputs": [
    {
     "data": {
      "text/plain": [
       "One      A\n",
       "Two      B\n",
       "Three    B\n",
       "dtype: object"
      ]
     },
     "execution_count": 6,
     "metadata": {},
     "output_type": "execute_result"
    }
   ],
   "source": [
    "# 可以得出他们对应的index是多少\n",
    "dframe1.idxmax()"
   ]
  },
  {
   "cell_type": "code",
   "execution_count": 7,
   "metadata": {
    "collapsed": false
   },
   "outputs": [
    {
     "data": {
      "text/html": [
       "<div>\n",
       "<table border=\"1\" class=\"dataframe\">\n",
       "  <thead>\n",
       "    <tr style=\"text-align: right;\">\n",
       "      <th></th>\n",
       "      <th>One</th>\n",
       "      <th>Two</th>\n",
       "      <th>Three</th>\n",
       "    </tr>\n",
       "  </thead>\n",
       "  <tbody>\n",
       "    <tr>\n",
       "      <th>A</th>\n",
       "      <td>1</td>\n",
       "      <td>2</td>\n",
       "      <td>NaN</td>\n",
       "    </tr>\n",
       "    <tr>\n",
       "      <th>B</th>\n",
       "      <td>NaN</td>\n",
       "      <td>5</td>\n",
       "      <td>4</td>\n",
       "    </tr>\n",
       "  </tbody>\n",
       "</table>\n",
       "</div>"
      ],
      "text/plain": [
       "   One  Two  Three\n",
       "A    1    2    NaN\n",
       "B  NaN    5      4"
      ]
     },
     "execution_count": 7,
     "metadata": {},
     "output_type": "execute_result"
    }
   ],
   "source": [
    "# cumsum()遇到NaN是的情况。。\n",
    "dframe1.cumsum()"
   ]
  },
  {
   "cell_type": "code",
   "execution_count": 8,
   "metadata": {
    "collapsed": false
   },
   "outputs": [
    {
     "data": {
      "text/html": [
       "<div>\n",
       "<table border=\"1\" class=\"dataframe\">\n",
       "  <thead>\n",
       "    <tr style=\"text-align: right;\">\n",
       "      <th></th>\n",
       "      <th>One</th>\n",
       "      <th>Two</th>\n",
       "      <th>Three</th>\n",
       "    </tr>\n",
       "  </thead>\n",
       "  <tbody>\n",
       "    <tr>\n",
       "      <th>count</th>\n",
       "      <td>1</td>\n",
       "      <td>2.000000</td>\n",
       "      <td>1</td>\n",
       "    </tr>\n",
       "    <tr>\n",
       "      <th>mean</th>\n",
       "      <td>1</td>\n",
       "      <td>2.500000</td>\n",
       "      <td>4</td>\n",
       "    </tr>\n",
       "    <tr>\n",
       "      <th>std</th>\n",
       "      <td>NaN</td>\n",
       "      <td>0.707107</td>\n",
       "      <td>NaN</td>\n",
       "    </tr>\n",
       "    <tr>\n",
       "      <th>min</th>\n",
       "      <td>1</td>\n",
       "      <td>2.000000</td>\n",
       "      <td>4</td>\n",
       "    </tr>\n",
       "    <tr>\n",
       "      <th>25%</th>\n",
       "      <td>1</td>\n",
       "      <td>2.250000</td>\n",
       "      <td>4</td>\n",
       "    </tr>\n",
       "    <tr>\n",
       "      <th>50%</th>\n",
       "      <td>1</td>\n",
       "      <td>2.500000</td>\n",
       "      <td>4</td>\n",
       "    </tr>\n",
       "    <tr>\n",
       "      <th>75%</th>\n",
       "      <td>1</td>\n",
       "      <td>2.750000</td>\n",
       "      <td>4</td>\n",
       "    </tr>\n",
       "    <tr>\n",
       "      <th>max</th>\n",
       "      <td>1</td>\n",
       "      <td>3.000000</td>\n",
       "      <td>4</td>\n",
       "    </tr>\n",
       "  </tbody>\n",
       "</table>\n",
       "</div>"
      ],
      "text/plain": [
       "       One       Two  Three\n",
       "count    1  2.000000      1\n",
       "mean     1  2.500000      4\n",
       "std    NaN  0.707107    NaN\n",
       "min      1  2.000000      4\n",
       "25%      1  2.250000      4\n",
       "50%      1  2.500000      4\n",
       "75%      1  2.750000      4\n",
       "max      1  3.000000      4"
      ]
     },
     "execution_count": 8,
     "metadata": {},
     "output_type": "execute_result"
    }
   ],
   "source": [
    "# 一个很有用的方法：\n",
    "# 得到对应df的一个大概情况\n",
    "dframe1.describe()"
   ]
  },
  {
   "cell_type": "code",
   "execution_count": 11,
   "metadata": {
    "collapsed": true
   },
   "outputs": [],
   "source": [
    "# We can also get information on correlation and covariance\n",
    "\n",
    "#For more info on correlation and covariance, check out the videos below!\n",
    "\n",
    "# youtube 上一堆很好的关于statistics的资源"
   ]
  },
  {
   "cell_type": "code",
   "execution_count": 10,
   "metadata": {
    "collapsed": true
   },
   "outputs": [],
   "source": [
    "from IPython.display import YouTubeVideo"
   ]
  },
  {
   "cell_type": "code",
   "execution_count": 115,
   "metadata": {
    "collapsed": false
   },
   "outputs": [
    {
     "data": {
      "text/html": [
       "\n",
       "        <iframe\n",
       "            width=\"400\"\n",
       "            height=\"300\"\n",
       "            src=\"https://www.youtube.com/embed/xGbpuFNR1ME\"\n",
       "            frameborder=\"0\"\n",
       "            allowfullscreen\n",
       "        ></iframe>\n",
       "        "
      ],
      "text/plain": [
       "<IPython.lib.display.YouTubeVideo at 0xaf63710>"
      ]
     },
     "execution_count": 115,
     "metadata": {},
     "output_type": "execute_result"
    }
   ],
   "source": [
    "YouTubeVideo('xGbpuFNR1ME')"
   ]
  },
  {
   "cell_type": "code",
   "execution_count": 12,
   "metadata": {
    "collapsed": false
   },
   "outputs": [
    {
     "data": {
      "text/html": [
       "\n",
       "        <iframe\n",
       "            width=\"400\"\n",
       "            height=\"300\"\n",
       "            src=\"https://www.youtube.com/embed/4EXNedimDMs\"\n",
       "            frameborder=\"0\"\n",
       "            allowfullscreen\n",
       "        ></iframe>\n",
       "        "
      ],
      "text/plain": [
       "<IPython.lib.display.YouTubeVideo at 0xa79c828>"
      ]
     },
     "execution_count": 12,
     "metadata": {},
     "output_type": "execute_result"
    }
   ],
   "source": [
    "#Correlation\n",
    "YouTubeVideo('4EXNedimDMs')"
   ]
  },
  {
   "cell_type": "code",
   "execution_count": 13,
   "metadata": {
    "collapsed": false
   },
   "outputs": [
    {
     "data": {
      "text/html": [
       "<div>\n",
       "<table border=\"1\" class=\"dataframe\">\n",
       "  <thead>\n",
       "    <tr style=\"text-align: right;\">\n",
       "      <th></th>\n",
       "      <th>BP</th>\n",
       "      <th>CVX</th>\n",
       "      <th>XOM</th>\n",
       "    </tr>\n",
       "    <tr>\n",
       "      <th>Date</th>\n",
       "      <th></th>\n",
       "      <th></th>\n",
       "      <th></th>\n",
       "    </tr>\n",
       "  </thead>\n",
       "  <tbody>\n",
       "    <tr>\n",
       "      <th>2010-01-04</th>\n",
       "      <td>45.569012</td>\n",
       "      <td>63.917128</td>\n",
       "      <td>58.703696</td>\n",
       "    </tr>\n",
       "    <tr>\n",
       "      <th>2010-01-05</th>\n",
       "      <td>45.892578</td>\n",
       "      <td>64.369872</td>\n",
       "      <td>58.932905</td>\n",
       "    </tr>\n",
       "    <tr>\n",
       "      <th>2010-01-06</th>\n",
       "      <td>46.131402</td>\n",
       "      <td>64.377952</td>\n",
       "      <td>59.442264</td>\n",
       "    </tr>\n",
       "    <tr>\n",
       "      <th>2010-01-07</th>\n",
       "      <td>46.115994</td>\n",
       "      <td>64.135417</td>\n",
       "      <td>59.255504</td>\n",
       "    </tr>\n",
       "    <tr>\n",
       "      <th>2010-01-08</th>\n",
       "      <td>46.223849</td>\n",
       "      <td>64.248601</td>\n",
       "      <td>59.017797</td>\n",
       "    </tr>\n",
       "  </tbody>\n",
       "</table>\n",
       "</div>"
      ],
      "text/plain": [
       "                   BP        CVX        XOM\n",
       "Date                                       \n",
       "2010-01-04  45.569012  63.917128  58.703696\n",
       "2010-01-05  45.892578  64.369872  58.932905\n",
       "2010-01-06  46.131402  64.377952  59.442264\n",
       "2010-01-07  46.115994  64.135417  59.255504\n",
       "2010-01-08  46.223849  64.248601  59.017797"
      ]
     },
     "execution_count": 13,
     "metadata": {},
     "output_type": "execute_result"
    }
   ],
   "source": [
    "#Now lets check correlation and covariance on some stock prices!\n",
    "\n",
    "#Pandas can get info off the web\n",
    "import pandas.io.data as pdweb\n",
    "\n",
    "#Set datetime for date input\n",
    "import datetime\n",
    "\n",
    "#Get the closing prices\n",
    "\n",
    "prices = pdweb.get_data_yahoo(['CVX','XOM','BP'], \n",
    "                               start=datetime.datetime(2010, 1, 1), \n",
    "                               end=datetime.datetime(2013, 1, 1))['Adj Close']\n",
    "#Show preview\n",
    "prices.head()"
   ]
  },
  {
   "cell_type": "code",
   "execution_count": 14,
   "metadata": {
    "collapsed": false,
    "scrolled": true
   },
   "outputs": [
    {
     "data": {
      "text/html": [
       "<div>\n",
       "<table border=\"1\" class=\"dataframe\">\n",
       "  <thead>\n",
       "    <tr style=\"text-align: right;\">\n",
       "      <th></th>\n",
       "      <th>BP</th>\n",
       "      <th>CVX</th>\n",
       "      <th>XOM</th>\n",
       "    </tr>\n",
       "    <tr>\n",
       "      <th>Date</th>\n",
       "      <th></th>\n",
       "      <th></th>\n",
       "      <th></th>\n",
       "    </tr>\n",
       "  </thead>\n",
       "  <tbody>\n",
       "    <tr>\n",
       "      <th>2010-01-04</th>\n",
       "      <td>3956100</td>\n",
       "      <td>10173800</td>\n",
       "      <td>27809100</td>\n",
       "    </tr>\n",
       "    <tr>\n",
       "      <th>2010-01-05</th>\n",
       "      <td>4109600</td>\n",
       "      <td>10593700</td>\n",
       "      <td>30174700</td>\n",
       "    </tr>\n",
       "    <tr>\n",
       "      <th>2010-01-06</th>\n",
       "      <td>6227900</td>\n",
       "      <td>11014600</td>\n",
       "      <td>35044700</td>\n",
       "    </tr>\n",
       "    <tr>\n",
       "      <th>2010-01-07</th>\n",
       "      <td>4431300</td>\n",
       "      <td>9626900</td>\n",
       "      <td>27192100</td>\n",
       "    </tr>\n",
       "    <tr>\n",
       "      <th>2010-01-08</th>\n",
       "      <td>3786100</td>\n",
       "      <td>5624300</td>\n",
       "      <td>24891800</td>\n",
       "    </tr>\n",
       "  </tbody>\n",
       "</table>\n",
       "</div>"
      ],
      "text/plain": [
       "                 BP       CVX       XOM\n",
       "Date                                   \n",
       "2010-01-04  3956100  10173800  27809100\n",
       "2010-01-05  4109600  10593700  30174700\n",
       "2010-01-06  6227900  11014600  35044700\n",
       "2010-01-07  4431300   9626900  27192100\n",
       "2010-01-08  3786100   5624300  24891800"
      ]
     },
     "execution_count": 14,
     "metadata": {},
     "output_type": "execute_result"
    }
   ],
   "source": [
    "#Now lets get the volume trades\n",
    "\n",
    "volume = pdweb.get_data_yahoo(['CVX','XOM','BP'], \n",
    "                               start=datetime.datetime(2010, 1, 1), \n",
    "                               end=datetime.datetime(2013, 1, 1))['Volume']\n",
    "\n",
    "#Show preview\n",
    "volume.head()"
   ]
  },
  {
   "cell_type": "code",
   "execution_count": 15,
   "metadata": {
    "collapsed": false
   },
   "outputs": [
    {
     "data": {
      "text/html": [
       "<div>\n",
       "<table border=\"1\" class=\"dataframe\">\n",
       "  <thead>\n",
       "    <tr style=\"text-align: right;\">\n",
       "      <th></th>\n",
       "      <th>BP</th>\n",
       "      <th>CVX</th>\n",
       "      <th>XOM</th>\n",
       "    </tr>\n",
       "    <tr>\n",
       "      <th>Date</th>\n",
       "      <th></th>\n",
       "      <th></th>\n",
       "      <th></th>\n",
       "    </tr>\n",
       "  </thead>\n",
       "  <tbody>\n",
       "    <tr>\n",
       "      <th>2010-01-04</th>\n",
       "      <td>NaN</td>\n",
       "      <td>NaN</td>\n",
       "      <td>NaN</td>\n",
       "    </tr>\n",
       "    <tr>\n",
       "      <th>2010-01-05</th>\n",
       "      <td>0.007101</td>\n",
       "      <td>0.007083</td>\n",
       "      <td>0.003905</td>\n",
       "    </tr>\n",
       "    <tr>\n",
       "      <th>2010-01-06</th>\n",
       "      <td>0.005204</td>\n",
       "      <td>0.000126</td>\n",
       "      <td>0.008643</td>\n",
       "    </tr>\n",
       "    <tr>\n",
       "      <th>2010-01-07</th>\n",
       "      <td>-0.000334</td>\n",
       "      <td>-0.003767</td>\n",
       "      <td>-0.003142</td>\n",
       "    </tr>\n",
       "    <tr>\n",
       "      <th>2010-01-08</th>\n",
       "      <td>0.002339</td>\n",
       "      <td>0.001765</td>\n",
       "      <td>-0.004012</td>\n",
       "    </tr>\n",
       "  </tbody>\n",
       "</table>\n",
       "</div>"
      ],
      "text/plain": [
       "                  BP       CVX       XOM\n",
       "Date                                    \n",
       "2010-01-04       NaN       NaN       NaN\n",
       "2010-01-05  0.007101  0.007083  0.003905\n",
       "2010-01-06  0.005204  0.000126  0.008643\n",
       "2010-01-07 -0.000334 -0.003767 -0.003142\n",
       "2010-01-08  0.002339  0.001765 -0.004012"
      ]
     },
     "execution_count": 15,
     "metadata": {},
     "output_type": "execute_result"
    }
   ],
   "source": [
    "#Lets get the return\n",
    "rets = prices.pct_change()\n",
    "rets.head()\n",
    "# Percent change over given number of periods.\n",
    "# 参考： http://pandas.pydata.org/pandas-docs/version/0.17.0/generated/pandas.Series.pct_change.html\n",
    "# 下面0.007101的结果是（45.892578-45.569012）/45.569012"
   ]
  },
  {
   "cell_type": "code",
   "execution_count": 18,
   "metadata": {
    "collapsed": false
   },
   "outputs": [],
   "source": [
    "#Get the correlation of the stocks\n",
    "corr = rets.corr\n"
   ]
  },
  {
   "cell_type": "code",
   "execution_count": 19,
   "metadata": {
    "collapsed": false
   },
   "outputs": [
    {
     "data": {
      "text/plain": [
       "<matplotlib.axes._subplots.AxesSubplot at 0xc64e0b8>"
      ]
     },
     "execution_count": 19,
     "metadata": {},
     "output_type": "execute_result"
    }
   ],
   "source": [
    "#Lets see the prices over time to get a very rough idea of the correlation between the stock prices\n",
    "prices.plot()"
   ]
  },
  {
   "cell_type": "code",
   "execution_count": 20,
   "metadata": {
    "collapsed": true
   },
   "outputs": [],
   "source": [
    "# 以上 正常情况下是不能看到 plot 的\n",
    "# 需要\n",
    "%matplotlib inline"
   ]
  },
  {
   "cell_type": "code",
   "execution_count": 21,
   "metadata": {
    "collapsed": false
   },
   "outputs": [
    {
     "data": {
      "text/plain": [
       "<matplotlib.axes._subplots.AxesSubplot at 0xc72bda0>"
      ]
     },
     "execution_count": 21,
     "metadata": {},
     "output_type": "execute_result"
    },
    {
     "data": {
      "image/png": "[encoded data removed]",
      "text/plain": [
       "<matplotlib.figure.Figure at 0xc812a90>"
      ]
     },
     "metadata": {},
     "output_type": "display_data"
    }
   ],
   "source": [
    "prices.plot()"
   ]
  },
  {
   "cell_type": "code",
   "execution_count": 22,
   "metadata": {
    "collapsed": false
   },
   "outputs": [
    {
     "data": {
      "text/plain": [
       "<matplotlib.axes._subplots.AxesSubplot at 0x1aa3fac8>"
      ]
     },
     "execution_count": 22,
     "metadata": {},
     "output_type": "execute_result"
    },
    {
     "data": {
      "image/png": "[encoded data removed]",
      "text/plain": [
       "<matplotlib.figure.Figure at 0x1aa3f5f8>"
      ]
     },
     "metadata": {},
     "output_type": "display_data"
    }
   ],
   "source": [
    "import seaborn as sns\n",
    "import matplotlib.pyplot as plt\n",
    "%matplotlib inline\n",
    "\n",
    "#As expected pretty strong correlations with eachother\n",
    "sns.heatmap(rets.corr())\n",
    "\n",
    "#We'll learn much more about seaborn later!\n",
    "\n",
    "# 查看两者的相关性： 一个变化，另一个同样变化的程度\n"
   ]
  },
  {
   "cell_type": "code",
   "execution_count": 23,
   "metadata": {
    "collapsed": true
   },
   "outputs": [],
   "source": [
    "# 图上可以看出CVX和XDM的相关性非常高，渠道0.8以上"
   ]
  },
  {
   "cell_type": "code",
   "execution_count": 24,
   "metadata": {
    "collapsed": false
   },
   "outputs": [
    {
     "name": "stderr",
     "output_type": "stream",
     "text": [
      "C:\\Users\\Wen Weikun\\Anaconda\\lib\\site-packages\\seaborn\\linearmodels.py:1283: UserWarning: The `corrplot` function has been deprecated in favor of `heatmap` and will be removed in a forthcoming release. Please update your code.\n",
      "  warnings.warn((\"The `corrplot` function has been deprecated in favor \"\n",
      "C:\\Users\\Wen Weikun\\Anaconda\\lib\\site-packages\\seaborn\\linearmodels.py:1349: UserWarning: The `symmatplot` function has been deprecated in favor of `heatmap` and will be removed in a forthcoming release. Please update your code.\n",
      "  warnings.warn((\"The `symmatplot` function has been deprecated in favor \"\n"
     ]
    },
    {
     "data": {
      "text/plain": [
       "<matplotlib.axes._subplots.AxesSubplot at 0x1ad89400>"
      ]
     },
     "execution_count": 24,
     "metadata": {},
     "output_type": "execute_result"
    },
    {
     "data": {
      "image/png": "[encoded data removed]",
      "text/plain": [
       "<matplotlib.figure.Figure at 0x1ad890f0>"
      ]
     },
     "metadata": {},
     "output_type": "display_data"
    }
   ],
   "source": [
    "sns.corrplot(rets, annot=False, diag_names=False)"
   ]
  },
  {
   "cell_type": "code",
   "execution_count": 25,
   "metadata": {
    "collapsed": false
   },
   "outputs": [
    {
     "data": {
      "text/plain": [
       "0     w\n",
       "1     w\n",
       "2     x\n",
       "3     y\n",
       "4     z\n",
       "5     w\n",
       "6     w\n",
       "7     x\n",
       "8     x\n",
       "9     y\n",
       "10    a\n",
       "11    z\n",
       "dtype: object"
      ]
     },
     "execution_count": 25,
     "metadata": {},
     "output_type": "execute_result"
    }
   ],
   "source": [
    "# We can also check for unique values and their counts \n",
    "\n",
    "#For example\n",
    "ser1 = Series(['w','w','x', 'y', 'z' ,'w' ,'w' ,'x' ,'x' ,'y' ,'a' ,'z' ])\n",
    "\n",
    "#Show\n",
    "ser1"
   ]
  },
  {
   "cell_type": "code",
   "execution_count": 26,
   "metadata": {
    "collapsed": false
   },
   "outputs": [
    {
     "data": {
      "text/plain": [
       "array(['w', 'x', 'y', 'z', 'a'], dtype=object)"
      ]
     },
     "execution_count": 26,
     "metadata": {},
     "output_type": "execute_result"
    }
   ],
   "source": [
    "#Grab the unique values\n",
    "ser1.unique()"
   ]
  },
  {
   "cell_type": "code",
   "execution_count": 27,
   "metadata": {
    "collapsed": false
   },
   "outputs": [
    {
     "data": {
      "text/plain": [
       "w    4\n",
       "x    3\n",
       "z    2\n",
       "y    2\n",
       "a    1\n",
       "dtype: int64"
      ]
     },
     "execution_count": 27,
     "metadata": {},
     "output_type": "execute_result"
    }
   ],
   "source": [
    "#Now get the count of the unique values\n",
    "ser1.value_counts()"
   ]
  },
  {
   "cell_type": "markdown",
   "metadata": {},
   "source": [
    "# Missing Data"
   ]
  },
  {
   "cell_type": "code",
   "execution_count": 28,
   "metadata": {
    "collapsed": true
   },
   "outputs": [],
   "source": [
    "import numpy as np\n",
    "from pandas import Series,DataFrame\n",
    "import pandas as pd"
   ]
  },
  {
   "cell_type": "code",
   "execution_count": 29,
   "metadata": {
    "collapsed": false
   },
   "outputs": [
    {
     "data": {
      "text/plain": [
       "0     one\n",
       "1     two\n",
       "2     NaN\n",
       "3    four\n",
       "dtype: object"
      ]
     },
     "execution_count": 29,
     "metadata": {},
     "output_type": "execute_result"
    }
   ],
   "source": [
    "#Now we'll learn how to deal with missing data, a very common task when analyzing datasets!\n",
    "\n",
    "data = Series(['one','two', np.nan, 'four'])\n",
    "data"
   ]
  },
  {
   "cell_type": "code",
   "execution_count": 30,
   "metadata": {
    "collapsed": false
   },
   "outputs": [
    {
     "data": {
      "text/plain": [
       "0    False\n",
       "1    False\n",
       "2     True\n",
       "3    False\n",
       "dtype: bool"
      ]
     },
     "execution_count": 30,
     "metadata": {},
     "output_type": "execute_result"
    }
   ],
   "source": [
    "data.isnull()"
   ]
  },
  {
   "cell_type": "code",
   "execution_count": 31,
   "metadata": {
    "collapsed": false
   },
   "outputs": [
    {
     "data": {
      "text/plain": [
       "0     one\n",
       "1     two\n",
       "3    four\n",
       "dtype: object"
      ]
     },
     "execution_count": 31,
     "metadata": {},
     "output_type": "execute_result"
    }
   ],
   "source": [
    "#We can simply drop the NAN \n",
    "data.dropna()"
   ]
  },
  {
   "cell_type": "code",
   "execution_count": 32,
   "metadata": {
    "collapsed": true
   },
   "outputs": [],
   "source": [
    "# In a DataFrame we need to be a little more careful!\n",
    "\n",
    "dframe = DataFrame([[1,2,3],[np.nan,5,6],[7,np.nan,9],[np.nan,np.nan,np.nan]])"
   ]
  },
  {
   "cell_type": "code",
   "execution_count": 33,
   "metadata": {
    "collapsed": false
   },
   "outputs": [
    {
     "data": {
      "text/html": [
       "<div>\n",
       "<table border=\"1\" class=\"dataframe\">\n",
       "  <thead>\n",
       "    <tr style=\"text-align: right;\">\n",
       "      <th></th>\n",
       "      <th>0</th>\n",
       "      <th>1</th>\n",
       "      <th>2</th>\n",
       "    </tr>\n",
       "  </thead>\n",
       "  <tbody>\n",
       "    <tr>\n",
       "      <th>0</th>\n",
       "      <td>1</td>\n",
       "      <td>2</td>\n",
       "      <td>3</td>\n",
       "    </tr>\n",
       "    <tr>\n",
       "      <th>1</th>\n",
       "      <td>NaN</td>\n",
       "      <td>5</td>\n",
       "      <td>6</td>\n",
       "    </tr>\n",
       "    <tr>\n",
       "      <th>2</th>\n",
       "      <td>7</td>\n",
       "      <td>NaN</td>\n",
       "      <td>9</td>\n",
       "    </tr>\n",
       "    <tr>\n",
       "      <th>3</th>\n",
       "      <td>NaN</td>\n",
       "      <td>NaN</td>\n",
       "      <td>NaN</td>\n",
       "    </tr>\n",
       "  </tbody>\n",
       "</table>\n",
       "</div>"
      ],
      "text/plain": [
       "    0   1   2\n",
       "0   1   2   3\n",
       "1 NaN   5   6\n",
       "2   7 NaN   9\n",
       "3 NaN NaN NaN"
      ]
     },
     "execution_count": 33,
     "metadata": {},
     "output_type": "execute_result"
    }
   ],
   "source": [
    "dframe"
   ]
  },
  {
   "cell_type": "code",
   "execution_count": 34,
   "metadata": {
    "collapsed": true
   },
   "outputs": [],
   "source": [
    "# df 使用dropna的时候要非常小心，会将所有包含na的行都删掉\n",
    "clean_df = dframe.dropna()"
   ]
  },
  {
   "cell_type": "code",
   "execution_count": 35,
   "metadata": {
    "collapsed": false
   },
   "outputs": [
    {
     "data": {
      "text/html": [
       "<div>\n",
       "<table border=\"1\" class=\"dataframe\">\n",
       "  <thead>\n",
       "    <tr style=\"text-align: right;\">\n",
       "      <th></th>\n",
       "      <th>0</th>\n",
       "      <th>1</th>\n",
       "      <th>2</th>\n",
       "    </tr>\n",
       "  </thead>\n",
       "  <tbody>\n",
       "    <tr>\n",
       "      <th>0</th>\n",
       "      <td>1</td>\n",
       "      <td>2</td>\n",
       "      <td>3</td>\n",
       "    </tr>\n",
       "  </tbody>\n",
       "</table>\n",
       "</div>"
      ],
      "text/plain": [
       "   0  1  2\n",
       "0  1  2  3"
      ]
     },
     "execution_count": 35,
     "metadata": {},
     "output_type": "execute_result"
    }
   ],
   "source": [
    "clean_df"
   ]
  },
  {
   "cell_type": "code",
   "execution_count": 36,
   "metadata": {
    "collapsed": false
   },
   "outputs": [
    {
     "data": {
      "text/html": [
       "<div>\n",
       "<table border=\"1\" class=\"dataframe\">\n",
       "  <thead>\n",
       "    <tr style=\"text-align: right;\">\n",
       "      <th></th>\n",
       "      <th>0</th>\n",
       "      <th>1</th>\n",
       "      <th>2</th>\n",
       "    </tr>\n",
       "  </thead>\n",
       "  <tbody>\n",
       "    <tr>\n",
       "      <th>0</th>\n",
       "      <td>1</td>\n",
       "      <td>2</td>\n",
       "      <td>3</td>\n",
       "    </tr>\n",
       "    <tr>\n",
       "      <th>1</th>\n",
       "      <td>NaN</td>\n",
       "      <td>5</td>\n",
       "      <td>6</td>\n",
       "    </tr>\n",
       "    <tr>\n",
       "      <th>2</th>\n",
       "      <td>7</td>\n",
       "      <td>NaN</td>\n",
       "      <td>9</td>\n",
       "    </tr>\n",
       "  </tbody>\n",
       "</table>\n",
       "</div>"
      ],
      "text/plain": [
       "    0   1  2\n",
       "0   1   2  3\n",
       "1 NaN   5  6\n",
       "2   7 NaN  9"
      ]
     },
     "execution_count": 36,
     "metadata": {},
     "output_type": "execute_result"
    }
   ],
   "source": [
    "# 我们可以指定只有整row都是na的时候才drop\n",
    "dframe.dropna(how='all')"
   ]
  },
  {
   "cell_type": "code",
   "execution_count": 37,
   "metadata": {
    "collapsed": false
   },
   "outputs": [
    {
     "data": {
      "text/html": [
       "<div>\n",
       "<table border=\"1\" class=\"dataframe\">\n",
       "  <thead>\n",
       "    <tr style=\"text-align: right;\">\n",
       "      <th></th>\n",
       "    </tr>\n",
       "  </thead>\n",
       "  <tbody>\n",
       "    <tr>\n",
       "      <th>0</th>\n",
       "    </tr>\n",
       "    <tr>\n",
       "      <th>1</th>\n",
       "    </tr>\n",
       "    <tr>\n",
       "      <th>2</th>\n",
       "    </tr>\n",
       "    <tr>\n",
       "      <th>3</th>\n",
       "    </tr>\n",
       "  </tbody>\n",
       "</table>\n",
       "</div>"
      ],
      "text/plain": [
       "Empty DataFrame\n",
       "Columns: []\n",
       "Index: [0, 1, 2, 3]"
      ]
     },
     "execution_count": 37,
     "metadata": {},
     "output_type": "execute_result"
    }
   ],
   "source": [
    "#Or we can specify to drop columns with missing data\n",
    "dframe.dropna(axis=1)\n",
    "\n",
    "#This should drop all columns out since every column contains at least 1 NAN"
   ]
  },
  {
   "cell_type": "code",
   "execution_count": 38,
   "metadata": {
    "collapsed": false
   },
   "outputs": [
    {
     "data": {
      "text/html": [
       "<div>\n",
       "<table border=\"1\" class=\"dataframe\">\n",
       "  <thead>\n",
       "    <tr style=\"text-align: right;\">\n",
       "      <th></th>\n",
       "      <th>0</th>\n",
       "      <th>1</th>\n",
       "      <th>2</th>\n",
       "      <th>3</th>\n",
       "    </tr>\n",
       "  </thead>\n",
       "  <tbody>\n",
       "    <tr>\n",
       "      <th>0</th>\n",
       "      <td>1</td>\n",
       "      <td>2</td>\n",
       "      <td>3</td>\n",
       "      <td>NaN</td>\n",
       "    </tr>\n",
       "    <tr>\n",
       "      <th>1</th>\n",
       "      <td>2</td>\n",
       "      <td>NaN</td>\n",
       "      <td>5</td>\n",
       "      <td>6</td>\n",
       "    </tr>\n",
       "    <tr>\n",
       "      <th>2</th>\n",
       "      <td>NaN</td>\n",
       "      <td>7</td>\n",
       "      <td>NaN</td>\n",
       "      <td>9</td>\n",
       "    </tr>\n",
       "    <tr>\n",
       "      <th>3</th>\n",
       "      <td>1</td>\n",
       "      <td>NaN</td>\n",
       "      <td>NaN</td>\n",
       "      <td>NaN</td>\n",
       "    </tr>\n",
       "  </tbody>\n",
       "</table>\n",
       "</div>"
      ],
      "text/plain": [
       "    0   1   2   3\n",
       "0   1   2   3 NaN\n",
       "1   2 NaN   5   6\n",
       "2 NaN   7 NaN   9\n",
       "3   1 NaN NaN NaN"
      ]
     },
     "execution_count": 38,
     "metadata": {},
     "output_type": "execute_result"
    }
   ],
   "source": [
    "#We can also threshold teh missing data as well\n",
    "\n",
    "#For example if we only want rows with at least 3 data points\n",
    "dframe2 = DataFrame([[1,2,3,np.nan],[2,np.nan,5,6],[np.nan,7,np.nan,9],[1,np.nan,np.nan,np.nan]])\n",
    "\n",
    "#Show\n",
    "dframe2"
   ]
  },
  {
   "cell_type": "code",
   "execution_count": 40,
   "metadata": {
    "collapsed": false
   },
   "outputs": [
    {
     "data": {
      "text/html": [
       "<div>\n",
       "<table border=\"1\" class=\"dataframe\">\n",
       "  <thead>\n",
       "    <tr style=\"text-align: right;\">\n",
       "      <th></th>\n",
       "      <th>0</th>\n",
       "      <th>1</th>\n",
       "      <th>2</th>\n",
       "      <th>3</th>\n",
       "    </tr>\n",
       "  </thead>\n",
       "  <tbody>\n",
       "    <tr>\n",
       "      <th>0</th>\n",
       "      <td>1</td>\n",
       "      <td>2</td>\n",
       "      <td>3</td>\n",
       "      <td>NaN</td>\n",
       "    </tr>\n",
       "    <tr>\n",
       "      <th>1</th>\n",
       "      <td>2</td>\n",
       "      <td>NaN</td>\n",
       "      <td>5</td>\n",
       "      <td>6</td>\n",
       "    </tr>\n",
       "    <tr>\n",
       "      <th>2</th>\n",
       "      <td>NaN</td>\n",
       "      <td>7</td>\n",
       "      <td>NaN</td>\n",
       "      <td>9</td>\n",
       "    </tr>\n",
       "  </tbody>\n",
       "</table>\n",
       "</div>"
      ],
      "text/plain": [
       "    0   1   2   3\n",
       "0   1   2   3 NaN\n",
       "1   2 NaN   5   6\n",
       "2 NaN   7 NaN   9"
      ]
     },
     "execution_count": 40,
     "metadata": {},
     "output_type": "execute_result"
    }
   ],
   "source": [
    "# 这里我们可以要求每一行的数据至少有两个数值\n",
    "#Droppin any rows tht dont have at least 2 data points\n",
    "dframe2.dropna(thresh=2)"
   ]
  },
  {
   "cell_type": "code",
   "execution_count": 41,
   "metadata": {
    "collapsed": false
   },
   "outputs": [
    {
     "data": {
      "text/html": [
       "<div>\n",
       "<table border=\"1\" class=\"dataframe\">\n",
       "  <thead>\n",
       "    <tr style=\"text-align: right;\">\n",
       "      <th></th>\n",
       "      <th>0</th>\n",
       "      <th>1</th>\n",
       "      <th>2</th>\n",
       "      <th>3</th>\n",
       "    </tr>\n",
       "  </thead>\n",
       "  <tbody>\n",
       "    <tr>\n",
       "      <th>0</th>\n",
       "      <td>1</td>\n",
       "      <td>2</td>\n",
       "      <td>3</td>\n",
       "      <td>1</td>\n",
       "    </tr>\n",
       "    <tr>\n",
       "      <th>1</th>\n",
       "      <td>2</td>\n",
       "      <td>1</td>\n",
       "      <td>5</td>\n",
       "      <td>6</td>\n",
       "    </tr>\n",
       "    <tr>\n",
       "      <th>2</th>\n",
       "      <td>1</td>\n",
       "      <td>7</td>\n",
       "      <td>1</td>\n",
       "      <td>9</td>\n",
       "    </tr>\n",
       "    <tr>\n",
       "      <th>3</th>\n",
       "      <td>1</td>\n",
       "      <td>1</td>\n",
       "      <td>1</td>\n",
       "      <td>1</td>\n",
       "    </tr>\n",
       "  </tbody>\n",
       "</table>\n",
       "</div>"
      ],
      "text/plain": [
       "   0  1  2  3\n",
       "0  1  2  3  1\n",
       "1  2  1  5  6\n",
       "2  1  7  1  9\n",
       "3  1  1  1  1"
      ]
     },
     "execution_count": 41,
     "metadata": {},
     "output_type": "execute_result"
    }
   ],
   "source": [
    "#We can also fill any NAN\n",
    "dframe2.fillna(1)"
   ]
  },
  {
   "cell_type": "code",
   "execution_count": 42,
   "metadata": {
    "collapsed": false
   },
   "outputs": [
    {
     "data": {
      "text/html": [
       "<div>\n",
       "<table border=\"1\" class=\"dataframe\">\n",
       "  <thead>\n",
       "    <tr style=\"text-align: right;\">\n",
       "      <th></th>\n",
       "      <th>0</th>\n",
       "      <th>1</th>\n",
       "      <th>2</th>\n",
       "      <th>3</th>\n",
       "    </tr>\n",
       "  </thead>\n",
       "  <tbody>\n",
       "    <tr>\n",
       "      <th>0</th>\n",
       "      <td>1</td>\n",
       "      <td>2</td>\n",
       "      <td>3</td>\n",
       "      <td>3</td>\n",
       "    </tr>\n",
       "    <tr>\n",
       "      <th>1</th>\n",
       "      <td>2</td>\n",
       "      <td>1</td>\n",
       "      <td>5</td>\n",
       "      <td>6</td>\n",
       "    </tr>\n",
       "    <tr>\n",
       "      <th>2</th>\n",
       "      <td>0</td>\n",
       "      <td>7</td>\n",
       "      <td>2</td>\n",
       "      <td>9</td>\n",
       "    </tr>\n",
       "    <tr>\n",
       "      <th>3</th>\n",
       "      <td>1</td>\n",
       "      <td>1</td>\n",
       "      <td>2</td>\n",
       "      <td>3</td>\n",
       "    </tr>\n",
       "  </tbody>\n",
       "</table>\n",
       "</div>"
      ],
      "text/plain": [
       "   0  1  2  3\n",
       "0  1  2  3  3\n",
       "1  2  1  5  6\n",
       "2  0  7  2  9\n",
       "3  1  1  2  3"
      ]
     },
     "execution_count": 42,
     "metadata": {},
     "output_type": "execute_result"
    }
   ],
   "source": [
    "#Can also fill in diff values for diff columns\n",
    "# 指定不同的列使用不同的值来填充\n",
    "dframe2.fillna({0:0,1:1,2:2,3:3})"
   ]
  },
  {
   "cell_type": "code",
   "execution_count": 43,
   "metadata": {
    "collapsed": false
   },
   "outputs": [
    {
     "data": {
      "text/html": [
       "<div>\n",
       "<table border=\"1\" class=\"dataframe\">\n",
       "  <thead>\n",
       "    <tr style=\"text-align: right;\">\n",
       "      <th></th>\n",
       "      <th>0</th>\n",
       "      <th>1</th>\n",
       "      <th>2</th>\n",
       "      <th>3</th>\n",
       "    </tr>\n",
       "  </thead>\n",
       "  <tbody>\n",
       "    <tr>\n",
       "      <th>0</th>\n",
       "      <td>1</td>\n",
       "      <td>2</td>\n",
       "      <td>3</td>\n",
       "      <td>NaN</td>\n",
       "    </tr>\n",
       "    <tr>\n",
       "      <th>1</th>\n",
       "      <td>2</td>\n",
       "      <td>NaN</td>\n",
       "      <td>5</td>\n",
       "      <td>6</td>\n",
       "    </tr>\n",
       "    <tr>\n",
       "      <th>2</th>\n",
       "      <td>NaN</td>\n",
       "      <td>7</td>\n",
       "      <td>NaN</td>\n",
       "      <td>9</td>\n",
       "    </tr>\n",
       "    <tr>\n",
       "      <th>3</th>\n",
       "      <td>1</td>\n",
       "      <td>NaN</td>\n",
       "      <td>NaN</td>\n",
       "      <td>NaN</td>\n",
       "    </tr>\n",
       "  </tbody>\n",
       "</table>\n",
       "</div>"
      ],
      "text/plain": [
       "    0   1   2   3\n",
       "0   1   2   3 NaN\n",
       "1   2 NaN   5   6\n",
       "2 NaN   7 NaN   9\n",
       "3   1 NaN NaN NaN"
      ]
     },
     "execution_count": 43,
     "metadata": {},
     "output_type": "execute_result"
    }
   ],
   "source": [
    "# 注意，以上的操作都是不影响源df的\n",
    "#Note that we still have access to the original dframe\n",
    "dframe2"
   ]
  },
  {
   "cell_type": "code",
   "execution_count": 44,
   "metadata": {
    "collapsed": false
   },
   "outputs": [
    {
     "data": {
      "text/html": [
       "<div>\n",
       "<table border=\"1\" class=\"dataframe\">\n",
       "  <thead>\n",
       "    <tr style=\"text-align: right;\">\n",
       "      <th></th>\n",
       "      <th>0</th>\n",
       "      <th>1</th>\n",
       "      <th>2</th>\n",
       "      <th>3</th>\n",
       "    </tr>\n",
       "  </thead>\n",
       "  <tbody>\n",
       "    <tr>\n",
       "      <th>0</th>\n",
       "      <td>1</td>\n",
       "      <td>2</td>\n",
       "      <td>3</td>\n",
       "      <td>0</td>\n",
       "    </tr>\n",
       "    <tr>\n",
       "      <th>1</th>\n",
       "      <td>2</td>\n",
       "      <td>0</td>\n",
       "      <td>5</td>\n",
       "      <td>6</td>\n",
       "    </tr>\n",
       "    <tr>\n",
       "      <th>2</th>\n",
       "      <td>0</td>\n",
       "      <td>7</td>\n",
       "      <td>0</td>\n",
       "      <td>9</td>\n",
       "    </tr>\n",
       "    <tr>\n",
       "      <th>3</th>\n",
       "      <td>1</td>\n",
       "      <td>0</td>\n",
       "      <td>0</td>\n",
       "      <td>0</td>\n",
       "    </tr>\n",
       "  </tbody>\n",
       "</table>\n",
       "</div>"
      ],
      "text/plain": [
       "   0  1  2  3\n",
       "0  1  2  3  0\n",
       "1  2  0  5  6\n",
       "2  0  7  0  9\n",
       "3  1  0  0  0"
      ]
     },
     "execution_count": 44,
     "metadata": {},
     "output_type": "execute_result"
    }
   ],
   "source": [
    "# 如果要改变源df，可以直接使用inplace=True\n",
    "dframe2.fillna(0,inplace=True)\n",
    "dframe2"
   ]
  },
  {
   "cell_type": "markdown",
   "metadata": {},
   "source": [
    "# index hierarchy"
   ]
  },
  {
   "cell_type": "code",
   "execution_count": 45,
   "metadata": {
    "collapsed": true
   },
   "outputs": [],
   "source": [
    "import numpy as np\n",
    "from pandas import Series,DataFrame\n",
    "import pandas as pd\n",
    "\n",
    "from numpy.random import randn"
   ]
  },
  {
   "cell_type": "code",
   "execution_count": 46,
   "metadata": {
    "collapsed": true
   },
   "outputs": [],
   "source": [
    "#Now we'll learn about Index Hierarchy\n",
    "\n",
    "#pandas allows you to have multiple index levels, which is very clear with this example:\n",
    "\n",
    "ser = Series(np.random.randn(6),index=[[1,1,1,2,2,2],['a','b','c','a','b','c']])"
   ]
  },
  {
   "cell_type": "code",
   "execution_count": 47,
   "metadata": {
    "collapsed": false
   },
   "outputs": [
    {
     "data": {
      "text/plain": [
       "1  a    0.177389\n",
       "   b   -2.535596\n",
       "   c   -1.157193\n",
       "2  a    0.010705\n",
       "   b    0.745423\n",
       "   c   -0.171803\n",
       "dtype: float64"
      ]
     },
     "execution_count": 47,
     "metadata": {},
     "output_type": "execute_result"
    }
   ],
   "source": [
    "ser\n",
    "# 可以拥有多重index\n",
    "# 可以称为inner或outter index"
   ]
  },
  {
   "cell_type": "code",
   "execution_count": 48,
   "metadata": {
    "collapsed": false
   },
   "outputs": [
    {
     "data": {
      "text/plain": [
       "a    0.177389\n",
       "b   -2.535596\n",
       "c   -1.157193\n",
       "dtype: float64"
      ]
     },
     "execution_count": 48,
     "metadata": {},
     "output_type": "execute_result"
    }
   ],
   "source": [
    "ser[1]"
   ]
  },
  {
   "cell_type": "code",
   "execution_count": null,
   "metadata": {
    "collapsed": true
   },
   "outputs": [],
   "source": [
    "# intrnal index 不能直接ser['a']这样\n",
    "# 需要先指定外面的level"
   ]
  },
  {
   "cell_type": "code",
   "execution_count": 50,
   "metadata": {
    "collapsed": false
   },
   "outputs": [
    {
     "data": {
      "text/plain": [
       "1    0.177389\n",
       "2    0.010705\n",
       "dtype: float64"
      ]
     },
     "execution_count": 50,
     "metadata": {},
     "output_type": "execute_result"
    }
   ],
   "source": [
    "ser[: , 'a']"
   ]
  },
  {
   "cell_type": "code",
   "execution_count": 51,
   "metadata": {
    "collapsed": false
   },
   "outputs": [
    {
     "data": {
      "text/html": [
       "<div>\n",
       "<table border=\"1\" class=\"dataframe\">\n",
       "  <thead>\n",
       "    <tr style=\"text-align: right;\">\n",
       "      <th></th>\n",
       "      <th>a</th>\n",
       "      <th>b</th>\n",
       "      <th>c</th>\n",
       "    </tr>\n",
       "  </thead>\n",
       "  <tbody>\n",
       "    <tr>\n",
       "      <th>1</th>\n",
       "      <td>0.177389</td>\n",
       "      <td>-2.535596</td>\n",
       "      <td>-1.157193</td>\n",
       "    </tr>\n",
       "    <tr>\n",
       "      <th>2</th>\n",
       "      <td>0.010705</td>\n",
       "      <td>0.745423</td>\n",
       "      <td>-0.171803</td>\n",
       "    </tr>\n",
       "  </tbody>\n",
       "</table>\n",
       "</div>"
      ],
      "text/plain": [
       "          a         b         c\n",
       "1  0.177389 -2.535596 -1.157193\n",
       "2  0.010705  0.745423 -0.171803"
      ]
     },
     "execution_count": 51,
     "metadata": {},
     "output_type": "execute_result"
    }
   ],
   "source": [
    "# We can also create Data Frames from Series with multiple levels\n",
    "# internal的index将会变成column\n",
    "dframe = ser.unstack()\n",
    "\n",
    "#Show\n",
    "dframe"
   ]
  },
  {
   "cell_type": "code",
   "execution_count": 53,
   "metadata": {
    "collapsed": false
   },
   "outputs": [
    {
     "data": {
      "text/plain": [
       "a  1    0.177389\n",
       "   2    0.010705\n",
       "b  1   -2.535596\n",
       "   2    0.745423\n",
       "c  1   -1.157193\n",
       "   2   -0.171803\n",
       "dtype: float64"
      ]
     },
     "execution_count": 53,
     "metadata": {},
     "output_type": "execute_result"
    }
   ],
   "source": [
    "#Can also reverse\n",
    "dframe.unstack()"
   ]
  },
  {
   "cell_type": "code",
   "execution_count": 54,
   "metadata": {
    "collapsed": false
   },
   "outputs": [
    {
     "data": {
      "text/html": [
       "<div>\n",
       "<table border=\"1\" class=\"dataframe\">\n",
       "  <thead>\n",
       "    <tr>\n",
       "      <th></th>\n",
       "      <th></th>\n",
       "      <th colspan=\"2\" halign=\"left\">NY</th>\n",
       "      <th>LA</th>\n",
       "      <th>SF</th>\n",
       "    </tr>\n",
       "    <tr>\n",
       "      <th></th>\n",
       "      <th></th>\n",
       "      <th>cold</th>\n",
       "      <th>hot</th>\n",
       "      <th>hot</th>\n",
       "      <th>cold</th>\n",
       "    </tr>\n",
       "  </thead>\n",
       "  <tbody>\n",
       "    <tr>\n",
       "      <th rowspan=\"2\" valign=\"top\">a</th>\n",
       "      <th>1</th>\n",
       "      <td>0</td>\n",
       "      <td>1</td>\n",
       "      <td>2</td>\n",
       "      <td>3</td>\n",
       "    </tr>\n",
       "    <tr>\n",
       "      <th>2</th>\n",
       "      <td>4</td>\n",
       "      <td>5</td>\n",
       "      <td>6</td>\n",
       "      <td>7</td>\n",
       "    </tr>\n",
       "    <tr>\n",
       "      <th rowspan=\"2\" valign=\"top\">b</th>\n",
       "      <th>1</th>\n",
       "      <td>8</td>\n",
       "      <td>9</td>\n",
       "      <td>10</td>\n",
       "      <td>11</td>\n",
       "    </tr>\n",
       "    <tr>\n",
       "      <th>2</th>\n",
       "      <td>12</td>\n",
       "      <td>13</td>\n",
       "      <td>14</td>\n",
       "      <td>15</td>\n",
       "    </tr>\n",
       "  </tbody>\n",
       "</table>\n",
       "</div>"
      ],
      "text/plain": [
       "      NY      LA   SF\n",
       "    cold hot hot cold\n",
       "a 1    0   1   2    3\n",
       "  2    4   5   6    7\n",
       "b 1    8   9  10   11\n",
       "  2   12  13  14   15"
      ]
     },
     "execution_count": 54,
     "metadata": {},
     "output_type": "execute_result"
    }
   ],
   "source": [
    "# We can also apply multiple level indexing to DataFrames\n",
    "dframe2 = DataFrame(np.arange(16).reshape(4,4),\n",
    "                    index=[['a','a','b','b'],[1,2,1,2]],\n",
    "                    columns=[['NY','NY','LA','SF'],['cold','hot','hot','cold']])\n",
    "                                                   \n",
    "dframe2  "
   ]
  },
  {
   "cell_type": "code",
   "execution_count": 55,
   "metadata": {
    "collapsed": false
   },
   "outputs": [
    {
     "data": {
      "text/html": [
       "<div>\n",
       "<table border=\"1\" class=\"dataframe\">\n",
       "  <thead>\n",
       "    <tr>\n",
       "      <th></th>\n",
       "      <th>Cities</th>\n",
       "      <th colspan=\"2\" halign=\"left\">NY</th>\n",
       "      <th>LA</th>\n",
       "      <th>SF</th>\n",
       "    </tr>\n",
       "    <tr>\n",
       "      <th></th>\n",
       "      <th>Temp</th>\n",
       "      <th>cold</th>\n",
       "      <th>hot</th>\n",
       "      <th>hot</th>\n",
       "      <th>cold</th>\n",
       "    </tr>\n",
       "    <tr>\n",
       "      <th>INDEX_1</th>\n",
       "      <th>INDEX_2</th>\n",
       "      <th></th>\n",
       "      <th></th>\n",
       "      <th></th>\n",
       "      <th></th>\n",
       "    </tr>\n",
       "  </thead>\n",
       "  <tbody>\n",
       "    <tr>\n",
       "      <th rowspan=\"2\" valign=\"top\">a</th>\n",
       "      <th>1</th>\n",
       "      <td>0</td>\n",
       "      <td>1</td>\n",
       "      <td>2</td>\n",
       "      <td>3</td>\n",
       "    </tr>\n",
       "    <tr>\n",
       "      <th>2</th>\n",
       "      <td>4</td>\n",
       "      <td>5</td>\n",
       "      <td>6</td>\n",
       "      <td>7</td>\n",
       "    </tr>\n",
       "    <tr>\n",
       "      <th rowspan=\"2\" valign=\"top\">b</th>\n",
       "      <th>1</th>\n",
       "      <td>8</td>\n",
       "      <td>9</td>\n",
       "      <td>10</td>\n",
       "      <td>11</td>\n",
       "    </tr>\n",
       "    <tr>\n",
       "      <th>2</th>\n",
       "      <td>12</td>\n",
       "      <td>13</td>\n",
       "      <td>14</td>\n",
       "      <td>15</td>\n",
       "    </tr>\n",
       "  </tbody>\n",
       "</table>\n",
       "</div>"
      ],
      "text/plain": [
       "Cities            NY      LA   SF\n",
       "Temp            cold hot hot cold\n",
       "INDEX_1 INDEX_2                  \n",
       "a       1          0   1   2    3\n",
       "        2          4   5   6    7\n",
       "b       1          8   9  10   11\n",
       "        2         12  13  14   15"
      ]
     },
     "execution_count": 55,
     "metadata": {},
     "output_type": "execute_result"
    }
   ],
   "source": [
    "# We can also give these index levels names\n",
    "\n",
    "#Name the index levels\n",
    "dframe2.index.names = ['INDEX_1','INDEX_2']\n",
    "\n",
    "#Name the column levels\n",
    "dframe2.columns.names = ['Cities','Temp']\n",
    "\n",
    "dframe2"
   ]
  },
  {
   "cell_type": "code",
   "execution_count": 56,
   "metadata": {
    "collapsed": false
   },
   "outputs": [
    {
     "data": {
      "text/html": [
       "<div>\n",
       "<table border=\"1\" class=\"dataframe\">\n",
       "  <thead>\n",
       "    <tr>\n",
       "      <th></th>\n",
       "      <th>Temp</th>\n",
       "      <th>cold</th>\n",
       "      <th colspan=\"2\" halign=\"left\">hot</th>\n",
       "      <th>cold</th>\n",
       "    </tr>\n",
       "    <tr>\n",
       "      <th></th>\n",
       "      <th>Cities</th>\n",
       "      <th>NY</th>\n",
       "      <th>NY</th>\n",
       "      <th>LA</th>\n",
       "      <th>SF</th>\n",
       "    </tr>\n",
       "    <tr>\n",
       "      <th>INDEX_1</th>\n",
       "      <th>INDEX_2</th>\n",
       "      <th></th>\n",
       "      <th></th>\n",
       "      <th></th>\n",
       "      <th></th>\n",
       "    </tr>\n",
       "  </thead>\n",
       "  <tbody>\n",
       "    <tr>\n",
       "      <th rowspan=\"2\" valign=\"top\">a</th>\n",
       "      <th>1</th>\n",
       "      <td>0</td>\n",
       "      <td>1</td>\n",
       "      <td>2</td>\n",
       "      <td>3</td>\n",
       "    </tr>\n",
       "    <tr>\n",
       "      <th>2</th>\n",
       "      <td>4</td>\n",
       "      <td>5</td>\n",
       "      <td>6</td>\n",
       "      <td>7</td>\n",
       "    </tr>\n",
       "    <tr>\n",
       "      <th rowspan=\"2\" valign=\"top\">b</th>\n",
       "      <th>1</th>\n",
       "      <td>8</td>\n",
       "      <td>9</td>\n",
       "      <td>10</td>\n",
       "      <td>11</td>\n",
       "    </tr>\n",
       "    <tr>\n",
       "      <th>2</th>\n",
       "      <td>12</td>\n",
       "      <td>13</td>\n",
       "      <td>14</td>\n",
       "      <td>15</td>\n",
       "    </tr>\n",
       "  </tbody>\n",
       "</table>\n",
       "</div>"
      ],
      "text/plain": [
       "Temp            cold hot     cold\n",
       "Cities            NY  NY  LA   SF\n",
       "INDEX_1 INDEX_2                  \n",
       "a       1          0   1   2    3\n",
       "        2          4   5   6    7\n",
       "b       1          8   9  10   11\n",
       "        2         12  13  14   15"
      ]
     },
     "execution_count": 56,
     "metadata": {},
     "output_type": "execute_result"
    }
   ],
   "source": [
    "# We can also interchange level orders (note the axis=1 for columns)\n",
    "dframe2.swaplevel('Cities','Temp',axis=1)"
   ]
  },
  {
   "cell_type": "code",
   "execution_count": 57,
   "metadata": {
    "collapsed": false
   },
   "outputs": [
    {
     "data": {
      "text/html": [
       "<div>\n",
       "<table border=\"1\" class=\"dataframe\">\n",
       "  <thead>\n",
       "    <tr>\n",
       "      <th></th>\n",
       "      <th>Cities</th>\n",
       "      <th colspan=\"2\" halign=\"left\">NY</th>\n",
       "      <th>LA</th>\n",
       "      <th>SF</th>\n",
       "    </tr>\n",
       "    <tr>\n",
       "      <th></th>\n",
       "      <th>Temp</th>\n",
       "      <th>cold</th>\n",
       "      <th>hot</th>\n",
       "      <th>hot</th>\n",
       "      <th>cold</th>\n",
       "    </tr>\n",
       "    <tr>\n",
       "      <th>INDEX_1</th>\n",
       "      <th>INDEX_2</th>\n",
       "      <th></th>\n",
       "      <th></th>\n",
       "      <th></th>\n",
       "      <th></th>\n",
       "    </tr>\n",
       "  </thead>\n",
       "  <tbody>\n",
       "    <tr>\n",
       "      <th>a</th>\n",
       "      <th>1</th>\n",
       "      <td>0</td>\n",
       "      <td>1</td>\n",
       "      <td>2</td>\n",
       "      <td>3</td>\n",
       "    </tr>\n",
       "    <tr>\n",
       "      <th>b</th>\n",
       "      <th>1</th>\n",
       "      <td>8</td>\n",
       "      <td>9</td>\n",
       "      <td>10</td>\n",
       "      <td>11</td>\n",
       "    </tr>\n",
       "    <tr>\n",
       "      <th>a</th>\n",
       "      <th>2</th>\n",
       "      <td>4</td>\n",
       "      <td>5</td>\n",
       "      <td>6</td>\n",
       "      <td>7</td>\n",
       "    </tr>\n",
       "    <tr>\n",
       "      <th>b</th>\n",
       "      <th>2</th>\n",
       "      <td>12</td>\n",
       "      <td>13</td>\n",
       "      <td>14</td>\n",
       "      <td>15</td>\n",
       "    </tr>\n",
       "  </tbody>\n",
       "</table>\n",
       "</div>"
      ],
      "text/plain": [
       "Cities            NY      LA   SF\n",
       "Temp            cold hot hot cold\n",
       "INDEX_1 INDEX_2                  \n",
       "a       1          0   1   2    3\n",
       "b       1          8   9  10   11\n",
       "a       2          4   5   6    7\n",
       "b       2         12  13  14   15"
      ]
     },
     "execution_count": 57,
     "metadata": {},
     "output_type": "execute_result"
    }
   ],
   "source": [
    "#We can also sort levels\n",
    "dframe2.sortlevel(1)"
   ]
  },
  {
   "cell_type": "code",
   "execution_count": 58,
   "metadata": {
    "collapsed": false
   },
   "outputs": [
    {
     "data": {
      "text/html": [
       "<div>\n",
       "<table border=\"1\" class=\"dataframe\">\n",
       "  <thead>\n",
       "    <tr style=\"text-align: right;\">\n",
       "      <th></th>\n",
       "      <th>Temp</th>\n",
       "      <th>cold</th>\n",
       "      <th>hot</th>\n",
       "    </tr>\n",
       "    <tr>\n",
       "      <th>INDEX_1</th>\n",
       "      <th>INDEX_2</th>\n",
       "      <th></th>\n",
       "      <th></th>\n",
       "    </tr>\n",
       "  </thead>\n",
       "  <tbody>\n",
       "    <tr>\n",
       "      <th rowspan=\"2\" valign=\"top\">a</th>\n",
       "      <th>1</th>\n",
       "      <td>3</td>\n",
       "      <td>3</td>\n",
       "    </tr>\n",
       "    <tr>\n",
       "      <th>2</th>\n",
       "      <td>11</td>\n",
       "      <td>11</td>\n",
       "    </tr>\n",
       "    <tr>\n",
       "      <th rowspan=\"2\" valign=\"top\">b</th>\n",
       "      <th>1</th>\n",
       "      <td>19</td>\n",
       "      <td>19</td>\n",
       "    </tr>\n",
       "    <tr>\n",
       "      <th>2</th>\n",
       "      <td>27</td>\n",
       "      <td>27</td>\n",
       "    </tr>\n",
       "  </tbody>\n",
       "</table>\n",
       "</div>"
      ],
      "text/plain": [
       "Temp             cold  hot\n",
       "INDEX_1 INDEX_2           \n",
       "a       1           3    3\n",
       "        2          11   11\n",
       "b       1          19   19\n",
       "        2          27   27"
      ]
     },
     "execution_count": 58,
     "metadata": {},
     "output_type": "execute_result"
    }
   ],
   "source": [
    "#Note the change in sorting, now the Dframe index is sorted by the INDEX_2\n",
    "#We can also perform operations on particular levels\n",
    "dframe2.sum(level='Temp',axis=1)"
   ]
  },
  {
   "cell_type": "code",
   "execution_count": null,
   "metadata": {
    "collapsed": true
   },
   "outputs": [],
   "source": []
  }
 ],
 "metadata": {
  "kernelspec": {
   "display_name": "Python 2",
   "language": "python",
   "name": "python2"
  },
  "language_info": {
   "codemirror_mode": {
    "name": "ipython",
    "version": 2
   },
   "file_extension": ".py",
   "mimetype": "text/x-python",
   "name": "python",
   "nbconvert_exporter": "python",
   "pygments_lexer": "ipython2",
   "version": "2.7.9"
  }
 },
 "nbformat": 4,
 "nbformat_minor": 0
}
