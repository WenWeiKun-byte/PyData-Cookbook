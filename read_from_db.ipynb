{
 "cells": [
  {
   "cell_type": "markdown",
   "metadata": {},
   "source": [
    "### load data from database\n",
    "pandas vs blaze\n",
    "\n",
    "#### Task\n",
    "* query database just like using ORM without writing any SQL statements\n",
    "* do calc based on the return results\n",
    "* monitor the memory usage "
   ]
  },
  {
   "cell_type": "markdown",
   "metadata": {},
   "source": [
    "#### datasource\n",
    "single table in remote database\n",
    "\n"
   ]
  },
  {
   "cell_type": "markdown",
   "metadata": {},
   "source": [
    "##### 1. using blaze"
   ]
  },
  {
   "cell_type": "code",
   "execution_count": 1,
   "metadata": {
    "collapsed": true
   },
   "outputs": [],
   "source": [
    "from blaze import Data"
   ]
  },
  {
   "cell_type": "code",
   "execution_count": 2,
   "metadata": {
    "collapsed": false
   },
   "outputs": [
    {
     "name": "stdout",
     "output_type": "stream",
     "text": [
      "Blaze does not understand a SQLAlchemy type.\n",
      "Blaze provided the following error:\n",
      "\tNo SQL-datashape match for type BLOB\n",
      "Skipping.\n",
      "Blaze does not understand a SQLAlchemy type.\n",
      "Blaze provided the following error:\n",
      "\tNo SQL-datashape match for type BLOB\n",
      "Skipping.\n"
     ]
    }
   ],
   "source": [
    "DB_URL = \"mysql://%s:%s@%s:%s/%s::secret_txn_tab\" % ('secret')\n",
    "orders = Data(DB_URL)\n",
    "# noted the warning msg below"
   ]
  },
  {
   "cell_type": "markdown",
   "metadata": {},
   "source": [
    "when I use blaze in production, I got `ValueError: Unsupported string encoding u'utf8mb4_unicode_ci` error.\n",
    "the target database using utf8mb4 charset."
   ]
  },
  {
   "cell_type": "code",
   "execution_count": 3,
   "metadata": {
    "collapsed": true
   },
   "outputs": [],
   "source": [
    "order_by_date = orders[(orders.channelid==70000) & (orders.ctime>=1437840000) & (orders.ctime<1437926400)& (orders.status==1)]"
   ]
  },
  {
   "cell_type": "code",
   "execution_count": 4,
   "metadata": {
    "collapsed": false
   },
   "outputs": [
    {
     "data": {
      "text/plain": [
       "256"
      ]
     },
     "execution_count": 4,
     "metadata": {},
     "output_type": "execute_result"
    }
   ],
   "source": [
    "int(order_by_date.count())\n",
    "\n",
    "# the count() method diff from pandas count()"
   ]
  },
  {
   "cell_type": "code",
   "execution_count": 5,
   "metadata": {
    "collapsed": false
   },
   "outputs": [
    {
     "data": {
      "text/plain": [
       "212018"
      ]
     },
     "execution_count": 5,
     "metadata": {},
     "output_type": "execute_result"
    }
   ],
   "source": [
    "int(order_by_date.amount.sum())/100000\n",
    "\n",
    "# same usage with pandas"
   ]
  },
  {
   "cell_type": "code",
   "execution_count": 6,
   "metadata": {
    "collapsed": false
   },
   "outputs": [
    {
     "data": {
      "text/html": [
       "209L"
      ],
      "text/plain": [
       "209L"
      ]
     },
     "execution_count": 6,
     "metadata": {},
     "output_type": "execute_result"
    }
   ],
   "source": [
    "order_by_date.userid.distinct().count()\n",
    "\n",
    "# pandas use drop_duplicates() instead"
   ]
  },
  {
   "cell_type": "markdown",
   "metadata": {},
   "source": [
    "##### 2. using pandas"
   ]
  },
  {
   "cell_type": "code",
   "execution_count": 7,
   "metadata": {
    "collapsed": true
   },
   "outputs": [],
   "source": [
    "from sqlalchemy import create_engine\n",
    "import pandas as pd"
   ]
  },
  {
   "cell_type": "code",
   "execution_count": 8,
   "metadata": {
    "collapsed": true
   },
   "outputs": [],
   "source": [
    "DB_URL = \"mysql://%s:%s@%s:%s/%s\" % ('secret')\n",
    "engine = create_engine(DB_URL)"
   ]
  },
  {
   "cell_type": "code",
   "execution_count": 9,
   "metadata": {
    "collapsed": true
   },
   "outputs": [],
   "source": [
    "orders = pd.read_sql('select * from secret_txn_tab',\n",
    "                 con=engine)\n",
    "\n",
    "# using pandas still need to write the sql statement"
   ]
  },
  {
   "cell_type": "code",
   "execution_count": 10,
   "metadata": {
    "collapsed": false
   },
   "outputs": [
    {
     "data": {
      "text/html": [
       "<div>\n",
       "<table border=\"1\" class=\"dataframe\">\n",
       "  <thead>\n",
       "    <tr style=\"text-align: right;\">\n",
       "      <th></th>\n",
       "      <th>txnid</th>\n",
       "      <th>userid</th>\n",
       "      <th>refund_txnid</th>\n",
       "      <th>checkoutid</th>\n",
       "      <th>type</th>\n",
       "      <th>amount</th>\n",
       "      <th>currency</th>\n",
       "      <th>channelid</th>\n",
       "      <th>status</th>\n",
       "      <th>channel_status</th>\n",
       "      <th>channel_txnid</th>\n",
       "      <th>ip</th>\n",
       "      <th>action_country</th>\n",
       "      <th>ctime</th>\n",
       "      <th>vtime</th>\n",
       "      <th>mtime</th>\n",
       "      <th>memo</th>\n",
       "      <th>extra_data</th>\n",
       "    </tr>\n",
       "  </thead>\n",
       "  <tbody>\n",
       "    <tr>\n",
       "      <th>0</th>\n",
       "      <td>1000000</td>\n",
       "      <td>11183</td>\n",
       "      <td>0</td>\n",
       "      <td>95</td>\n",
       "      <td>0</td>\n",
       "      <td>89000000</td>\n",
       "      <td>THB</td>\n",
       "      <td>70000</td>\n",
       "      <td>0</td>\n",
       "      <td>0</td>\n",
       "      <td></td>\n",
       "      <td>2224250195</td>\n",
       "      <td>SG</td>\n",
       "      <td>1432303352</td>\n",
       "      <td>0</td>\n",
       "      <td>1432303352</td>\n",
       "      <td></td>\n",
       "      <td>{}</td>\n",
       "    </tr>\n",
       "    <tr>\n",
       "      <th>1</th>\n",
       "      <td>1000001</td>\n",
       "      <td>11184</td>\n",
       "      <td>0</td>\n",
       "      <td>100</td>\n",
       "      <td>0</td>\n",
       "      <td>59000000</td>\n",
       "      <td>THB</td>\n",
       "      <td>71000</td>\n",
       "      <td>0</td>\n",
       "      <td>200</td>\n",
       "      <td></td>\n",
       "      <td>3669652968</td>\n",
       "      <td>SG</td>\n",
       "      <td>1432307027</td>\n",
       "      <td>0</td>\n",
       "      <td>1432309356</td>\n",
       "      <td></td>\n",
       "      <td>{\"transfer_fields\": {\"name\": \"Liu jing\", \"memo...</td>\n",
       "    </tr>\n",
       "    <tr>\n",
       "      <th>2</th>\n",
       "      <td>1000002</td>\n",
       "      <td>11184</td>\n",
       "      <td>0</td>\n",
       "      <td>104</td>\n",
       "      <td>0</td>\n",
       "      <td>69000000</td>\n",
       "      <td>THB</td>\n",
       "      <td>70000</td>\n",
       "      <td>0</td>\n",
       "      <td>0</td>\n",
       "      <td></td>\n",
       "      <td>3669652968</td>\n",
       "      <td>SG</td>\n",
       "      <td>1432307426</td>\n",
       "      <td>0</td>\n",
       "      <td>1432307426</td>\n",
       "      <td></td>\n",
       "      <td>{}</td>\n",
       "    </tr>\n",
       "    <tr>\n",
       "      <th>3</th>\n",
       "      <td>1000003</td>\n",
       "      <td>11184</td>\n",
       "      <td>0</td>\n",
       "      <td>104</td>\n",
       "      <td>0</td>\n",
       "      <td>69000000</td>\n",
       "      <td>THB</td>\n",
       "      <td>70000</td>\n",
       "      <td>1</td>\n",
       "      <td>100</td>\n",
       "      <td>4323108605155000001366</td>\n",
       "      <td>3669652968</td>\n",
       "      <td>SG</td>\n",
       "      <td>1432310801</td>\n",
       "      <td>1432310864</td>\n",
       "      <td>1432310864</td>\n",
       "      <td></td>\n",
       "      <td>{\"card_number\": \"426569xxxxxx3103\", \"auth_code...</td>\n",
       "    </tr>\n",
       "    <tr>\n",
       "      <th>4</th>\n",
       "      <td>1000004</td>\n",
       "      <td>11174</td>\n",
       "      <td>0</td>\n",
       "      <td>111</td>\n",
       "      <td>0</td>\n",
       "      <td>59000000</td>\n",
       "      <td>THB</td>\n",
       "      <td>70000</td>\n",
       "      <td>0</td>\n",
       "      <td>0</td>\n",
       "      <td></td>\n",
       "      <td>2088405459</td>\n",
       "      <td>TH</td>\n",
       "      <td>1432311210</td>\n",
       "      <td>0</td>\n",
       "      <td>1432311210</td>\n",
       "      <td></td>\n",
       "      <td>{}</td>\n",
       "    </tr>\n",
       "  </tbody>\n",
       "</table>\n",
       "</div>"
      ],
      "text/plain": [
       "     txnid  userid  refund_txnid  checkoutid  type    amount currency  \\\n",
       "0  1000000   11183             0          95     0  89000000      THB   \n",
       "1  1000001   11184             0         100     0  59000000      THB   \n",
       "2  1000002   11184             0         104     0  69000000      THB   \n",
       "3  1000003   11184             0         104     0  69000000      THB   \n",
       "4  1000004   11174             0         111     0  59000000      THB   \n",
       "\n",
       "   channelid  status  channel_status           channel_txnid          ip  \\\n",
       "0      70000       0               0                          2224250195   \n",
       "1      71000       0             200                          3669652968   \n",
       "2      70000       0               0                          3669652968   \n",
       "3      70000       1             100  4323108605155000001366  3669652968   \n",
       "4      70000       0               0                          2088405459   \n",
       "\n",
       "  action_country       ctime       vtime       mtime memo  \\\n",
       "0             SG  1432303352           0  1432303352        \n",
       "1             SG  1432307027           0  1432309356        \n",
       "2             SG  1432307426           0  1432307426        \n",
       "3             SG  1432310801  1432310864  1432310864        \n",
       "4             TH  1432311210           0  1432311210        \n",
       "\n",
       "                                          extra_data  \n",
       "0                                                 {}  \n",
       "1  {\"transfer_fields\": {\"name\": \"Liu jing\", \"memo...  \n",
       "2                                                 {}  \n",
       "3  {\"card_number\": \"426569xxxxxx3103\", \"auth_code...  \n",
       "4                                                 {}  "
      ]
     },
     "execution_count": 10,
     "metadata": {},
     "output_type": "execute_result"
    }
   ],
   "source": [
    "orders.head()"
   ]
  },
  {
   "cell_type": "code",
   "execution_count": 11,
   "metadata": {
    "collapsed": true
   },
   "outputs": [],
   "source": [
    "order_today = orders[(orders.channelid==70000) & (orders.ctime>=1437840000) & (orders.ctime<1437926400)& (orders.status==1)]"
   ]
  },
  {
   "cell_type": "code",
   "execution_count": 12,
   "metadata": {
    "collapsed": false
   },
   "outputs": [
    {
     "data": {
      "text/plain": [
       "209"
      ]
     },
     "execution_count": 12,
     "metadata": {},
     "output_type": "execute_result"
    }
   ],
   "source": [
    "total_user = int(order_today.userid.drop_duplicates().count())\n",
    "total_user"
   ]
  },
  {
   "cell_type": "code",
   "execution_count": 13,
   "metadata": {
    "collapsed": false
   },
   "outputs": [
    {
     "data": {
      "text/plain": [
       "256"
      ]
     },
     "execution_count": 13,
     "metadata": {},
     "output_type": "execute_result"
    }
   ],
   "source": [
    "total_txn = int(order_today.txnid.count())\n",
    "total_txn"
   ]
  },
  {
   "cell_type": "code",
   "execution_count": 14,
   "metadata": {
    "collapsed": false
   },
   "outputs": [
    {
     "data": {
      "text/plain": [
       "42403"
      ]
     },
     "execution_count": 14,
     "metadata": {},
     "output_type": "execute_result"
    }
   ],
   "source": [
    "total_amt = int(order_today.amount.sum()) / 500000\n",
    "total_amt"
   ]
  },
  {
   "cell_type": "markdown",
   "metadata": {},
   "source": [
    "##### pandas vs blaze\n",
    "1. the API diffs refer to [blaze website](http://blaze.pydata.org/en/latest/rosetta-pandas.html)\n",
    "2. can be easily conver using odo or Data()\n",
    "3. Blaze can simplify and make more readable some common IO tasks that one would want to do with pandas. These examples make use of the odo library. In many cases, blaze will able to handle datasets that can’t fit into main memory, which is something that can’t be easily done with pandas.(but this time I got those charset problems)\n"
   ]
  },
  {
   "cell_type": "code",
   "execution_count": 15,
   "metadata": {
    "collapsed": true
   },
   "outputs": [],
   "source": [
    "def df_size(df):\n",
    "    \"\"\"Return the size of a DataFrame in Megabyes\"\"\"\n",
    "    total = 0.0\n",
    "    for col in df:\n",
    "        total += df[col].nbytes\n",
    "    return total/1048576"
   ]
  },
  {
   "cell_type": "code",
   "execution_count": 16,
   "metadata": {
    "collapsed": false
   },
   "outputs": [
    {
     "data": {
      "text/plain": [
       "2.9620513916015625"
      ]
     },
     "execution_count": 16,
     "metadata": {},
     "output_type": "execute_result"
    }
   ],
   "source": [
    "df_size(orders)"
   ]
  },
  {
   "cell_type": "code",
   "execution_count": 17,
   "metadata": {
    "collapsed": false
   },
   "outputs": [
    {
     "data": {
      "text/plain": [
       "txnid             21569\n",
       "userid            21569\n",
       "refund_txnid      21569\n",
       "checkoutid        21569\n",
       "type              21569\n",
       "amount            21569\n",
       "currency          21569\n",
       "channelid         21569\n",
       "status            21569\n",
       "channel_status    21569\n",
       "channel_txnid     21569\n",
       "ip                21569\n",
       "action_country    21569\n",
       "ctime             21569\n",
       "vtime             21569\n",
       "mtime             21569\n",
       "memo              21569\n",
       "extra_data        21569\n",
       "dtype: int64"
      ]
     },
     "execution_count": 17,
     "metadata": {},
     "output_type": "execute_result"
    }
   ],
   "source": [
    "#how many records in this df?\n",
    "orders.count()"
   ]
  },
  {
   "cell_type": "code",
   "execution_count": 18,
   "metadata": {
    "collapsed": true
   },
   "outputs": [],
   "source": [
    "# change to a more large dataset\n",
    "DB_URL = \"mysql://%s:%s@%s:%s/%s\" % ('secret')\n",
    "engine = create_engine(DB_URL)\n",
    "records = pd.read_sql('select * from xx_realtime',\n",
    "                 con=engine)"
   ]
  },
  {
   "cell_type": "code",
   "execution_count": 19,
   "metadata": {
    "collapsed": false
   },
   "outputs": [
    {
     "data": {
      "text/plain": [
       "16.8321533203125"
      ]
     },
     "execution_count": 19,
     "metadata": {},
     "output_type": "execute_result"
    }
   ],
   "source": [
    "df_size(records)"
   ]
  },
  {
   "cell_type": "code",
   "execution_count": 20,
   "metadata": {
    "collapsed": false
   },
   "outputs": [
    {
     "data": {
      "text/plain": [
       "id          367704\n",
       "type        367704\n",
       "date        367704\n",
       "tick        367704\n",
       "location    367704\n",
       "data        367704\n",
       "dtype: int64"
      ]
     },
     "execution_count": 20,
     "metadata": {},
     "output_type": "execute_result"
    }
   ],
   "source": [
    "records.count()"
   ]
  },
  {
   "cell_type": "markdown",
   "metadata": {},
   "source": [
    "##### load as string? how"
   ]
  },
  {
   "cell_type": "code",
   "execution_count": 21,
   "metadata": {
    "collapsed": true
   },
   "outputs": [],
   "source": [
    "DB_URL = \"mysql://%s:%s@%s:%s/%s::airpay_daily\" % ('secret')\n",
    "stats = Data(DB_URL)\n",
    "data = stats[\n",
    "            (stats.type==4) & (stats.date == '20150726') & (\n",
    "            stats.location =='TH') & (stats.extra=='Total')]"
   ]
  },
  {
   "cell_type": "code",
   "execution_count": 22,
   "metadata": {
    "collapsed": false
   },
   "outputs": [
    {
     "data": {
      "text/html": [
       "<table border=\"1\" class=\"dataframe\">\n",
       "  <thead>\n",
       "    <tr style=\"text-align: right;\">\n",
       "      <th></th>\n",
       "      <th>id</th>\n",
       "      <th>type</th>\n",
       "      <th>date</th>\n",
       "      <th>location</th>\n",
       "      <th>extra</th>\n",
       "      <th>data</th>\n",
       "    </tr>\n",
       "  </thead>\n",
       "  <tbody>\n",
       "    <tr>\n",
       "      <th>0</th>\n",
       "      <td>8624</td>\n",
       "      <td>4</td>\n",
       "      <td>2015-07-26</td>\n",
       "      <td>TH</td>\n",
       "      <td>Total</td>\n",
       "      <td>{\"txn_user\": 4147, \"txn_value\": 1895538.140000...</td>\n",
       "    </tr>\n",
       "  </tbody>\n",
       "</table>"
      ],
      "text/plain": [
       "     id  type        date location  extra  \\\n",
       "0  8624     4  2015-07-26       TH  Total   \n",
       "\n",
       "                                                data  \n",
       "0  {\"txn_user\": 4147, \"txn_value\": 1895538.140000...  "
      ]
     },
     "execution_count": 22,
     "metadata": {},
     "output_type": "execute_result"
    }
   ],
   "source": [
    "data.head()"
   ]
  },
  {
   "cell_type": "code",
   "execution_count": 23,
   "metadata": {
    "collapsed": true
   },
   "outputs": [],
   "source": [
    "data[0].data\n",
    "\n",
    "# seems cannot get the data value like that"
   ]
  },
  {
   "cell_type": "code",
   "execution_count": 24,
   "metadata": {
    "collapsed": true
   },
   "outputs": [],
   "source": [
    "# use odo conver blaze object to pandas df\n",
    "from odo import odo"
   ]
  },
  {
   "cell_type": "code",
   "execution_count": 25,
   "metadata": {
    "collapsed": true
   },
   "outputs": [],
   "source": [
    "df = odo(data, pd.DataFrame)"
   ]
  },
  {
   "cell_type": "code",
   "execution_count": 26,
   "metadata": {
    "collapsed": false
   },
   "outputs": [
    {
     "data": {
      "text/html": [
       "<div>\n",
       "<table border=\"1\" class=\"dataframe\">\n",
       "  <thead>\n",
       "    <tr style=\"text-align: right;\">\n",
       "      <th></th>\n",
       "      <th>id</th>\n",
       "      <th>type</th>\n",
       "      <th>date</th>\n",
       "      <th>location</th>\n",
       "      <th>extra</th>\n",
       "      <th>data</th>\n",
       "    </tr>\n",
       "  </thead>\n",
       "  <tbody>\n",
       "    <tr>\n",
       "      <th>0</th>\n",
       "      <td>8624</td>\n",
       "      <td>4</td>\n",
       "      <td>2015-07-26</td>\n",
       "      <td>TH</td>\n",
       "      <td>Total</td>\n",
       "      <td>{\"txn_user\": 4147, \"txn_value\": 1895538.140000...</td>\n",
       "    </tr>\n",
       "  </tbody>\n",
       "</table>\n",
       "</div>"
      ],
      "text/plain": [
       "     id  type        date location  extra  \\\n",
       "0  8624     4  2015-07-26       TH  Total   \n",
       "\n",
       "                                                data  \n",
       "0  {\"txn_user\": 4147, \"txn_value\": 1895538.140000...  "
      ]
     },
     "execution_count": 26,
     "metadata": {},
     "output_type": "execute_result"
    }
   ],
   "source": [
    "df"
   ]
  },
  {
   "cell_type": "code",
   "execution_count": 27,
   "metadata": {
    "collapsed": false
   },
   "outputs": [
    {
     "data": {
      "text/plain": [
       "'{\"txn_user\": 4147, \"txn_value\": 1895538.1400000025, \"txn_num\": 5512}'"
      ]
     },
     "execution_count": 27,
     "metadata": {},
     "output_type": "execute_result"
    }
   ],
   "source": [
    "x = df.iloc[0]['data']\n",
    "x"
   ]
  },
  {
   "cell_type": "code",
   "execution_count": null,
   "metadata": {
    "collapsed": true
   },
   "outputs": [],
   "source": [
    "json.loads(x)"
   ]
  }
 ],
 "metadata": {
  "kernelspec": {
   "display_name": "Python 2",
   "language": "python",
   "name": "python2"
  },
  "language_info": {
   "codemirror_mode": {
    "name": "ipython",
    "version": 2
   },
   "file_extension": ".py",
   "mimetype": "text/x-python",
   "name": "python",
   "nbconvert_exporter": "python",
   "pygments_lexer": "ipython2",
   "version": "2.7.10"
  }
 },
 "nbformat": 4,
 "nbformat_minor": 0
}
