{
 "cells": [
  {
   "cell_type": "code",
   "execution_count": 1,
   "metadata": {
    "collapsed": true
   },
   "outputs": [],
   "source": [
    "import pandas as pd"
   ]
  },
  {
   "cell_type": "code",
   "execution_count": 2,
   "metadata": {
    "collapsed": true
   },
   "outputs": [],
   "source": [
    "file_path = \"data/test.Tap.20150720.csv\"\n",
    "airpay_log = pd.read_csv(file_path)\n",
    "\n",
    "#因为文件是上一个步骤输出的，格式和数据都比较标准，同时第一行即为列名\n",
    "#因此直接使用read_csv就能轻松把数据读进内存"
   ]
  },
  {
   "cell_type": "code",
   "execution_count": 6,
   "metadata": {
    "collapsed": false
   },
   "outputs": [
    {
     "data": {
      "text/html": [
       "<div style=\"max-height:1000px;max-width:1500px;overflow:auto;\">\n",
       "<table border=\"1\" class=\"dataframe\">\n",
       "  <thead>\n",
       "    <tr style=\"text-align: right;\">\n",
       "      <th></th>\n",
       "      <th>type</th>\n",
       "      <th>country</th>\n",
       "      <th>value</th>\n",
       "      <th>user_id</th>\n",
       "    </tr>\n",
       "  </thead>\n",
       "  <tbody>\n",
       "    <tr>\n",
       "      <th>0</th>\n",
       "      <td>    password.gesture.once</td>\n",
       "      <td> th</td>\n",
       "      <td>          0</td>\n",
       "      <td> 1185391</td>\n",
       "    </tr>\n",
       "    <tr>\n",
       "      <th>1</th>\n",
       "      <td> shop.select_channel.home</td>\n",
       "      <td> th</td>\n",
       "      <td> type.10006</td>\n",
       "      <td> 1185391</td>\n",
       "    </tr>\n",
       "    <tr>\n",
       "      <th>2</th>\n",
       "      <td> shop.select_channel.home</td>\n",
       "      <td> th</td>\n",
       "      <td>   id.20041</td>\n",
       "      <td> 1185391</td>\n",
       "    </tr>\n",
       "    <tr>\n",
       "      <th>3</th>\n",
       "      <td> shop.select_channel.home</td>\n",
       "      <td> th</td>\n",
       "      <td> type.11003</td>\n",
       "      <td> 1185391</td>\n",
       "    </tr>\n",
       "    <tr>\n",
       "      <th>4</th>\n",
       "      <td> shop.select_channel.list</td>\n",
       "      <td> th</td>\n",
       "      <td>   id.22015</td>\n",
       "      <td> 1185391</td>\n",
       "    </tr>\n",
       "  </tbody>\n",
       "</table>\n",
       "</div>"
      ],
      "text/plain": [
       "                       type country       value  user_id\n",
       "0     password.gesture.once      th           0  1185391\n",
       "1  shop.select_channel.home      th  type.10006  1185391\n",
       "2  shop.select_channel.home      th    id.20041  1185391\n",
       "3  shop.select_channel.home      th  type.11003  1185391\n",
       "4  shop.select_channel.list      th    id.22015  1185391"
      ]
     },
     "execution_count": 6,
     "metadata": {},
     "output_type": "execute_result"
    }
   ],
   "source": [
    "airpay_log.head()"
   ]
  },
  {
   "cell_type": "markdown",
   "metadata": {},
   "source": [
    "##### usage1. 直接自动判断数据类型\n",
    "pandas对读入的数据会自动进行类型判断，分析他们到底是string还是时间类型抑或是数字类型\n",
    "\n",
    "而计算开始的一个很大前提就是要先确定好数据源的数据类型。"
   ]
  },
  {
   "cell_type": "code",
   "execution_count": 7,
   "metadata": {
    "collapsed": false
   },
   "outputs": [
    {
     "data": {
      "text/plain": [
       "type       object\n",
       "country    object\n",
       "value      object\n",
       "user_id     int64\n",
       "dtype: object"
      ]
     },
     "execution_count": 7,
     "metadata": {},
     "output_type": "execute_result"
    }
   ],
   "source": [
    "airpay_log.dtypes"
   ]
  },
  {
   "cell_type": "markdown",
   "metadata": {},
   "source": [
    "**解析一下上面两个dtypes**\n",
    "1. 将string保存为object而不是string本身\n",
    "这里的object其实是指向所对应string的指针\n",
    "\n",
    "\n",
    "The dtype object comes from NumPy, it describes the type of element in a ndarray. Every element in a ndarray **must has the same size in byte**. For int64 and float64, they are 8 bytes. But for strings, the length of the string is not fixed. So instead of save the bytes of strings in the ndarray directly, Pandas use object ndarray, which save **pointers** to objects, because of this the dtype of this kind ndarray is object.\n",
    "\n",
    "Here is an example:\n",
    "\n",
    "* the int64 array contains 4 int64 value.\n",
    "* the object array contains 4 pointers to 3 string objects.\n",
    "<img src=\"img/pFF44.png\">"
   ]
  },
  {
   "cell_type": "markdown",
   "metadata": {},
   "source": [
    "2. 自动检测到数字并设置为int64格式\n",
    "\n",
    "虽然这里的user_id在为数字格式对计算用处并不大，以为我们并不会计算user_id中的数值。\n",
    "\n",
    "但是这里还是演示一下："
   ]
  },
  {
   "cell_type": "code",
   "execution_count": 9,
   "metadata": {
    "collapsed": false
   },
   "outputs": [
    {
     "data": {
      "text/html": [
       "<div style=\"max-height:1000px;max-width:1500px;overflow:auto;\">\n",
       "<table border=\"1\" class=\"dataframe\">\n",
       "  <thead>\n",
       "    <tr style=\"text-align: right;\">\n",
       "      <th></th>\n",
       "      <th>user_id</th>\n",
       "    </tr>\n",
       "  </thead>\n",
       "  <tbody>\n",
       "    <tr>\n",
       "      <th>count</th>\n",
       "      <td>   32950.000000</td>\n",
       "    </tr>\n",
       "    <tr>\n",
       "      <th>mean</th>\n",
       "      <td> 1141753.530744</td>\n",
       "    </tr>\n",
       "    <tr>\n",
       "      <th>std</th>\n",
       "      <td>   82196.546774</td>\n",
       "    </tr>\n",
       "    <tr>\n",
       "      <th>min</th>\n",
       "      <td> 1000094.000000</td>\n",
       "    </tr>\n",
       "    <tr>\n",
       "      <th>25%</th>\n",
       "      <td> 1068384.000000</td>\n",
       "    </tr>\n",
       "    <tr>\n",
       "      <th>50%</th>\n",
       "      <td> 1147116.000000</td>\n",
       "    </tr>\n",
       "    <tr>\n",
       "      <th>75%</th>\n",
       "      <td> 1221670.000000</td>\n",
       "    </tr>\n",
       "    <tr>\n",
       "      <th>max</th>\n",
       "      <td> 1252135.000000</td>\n",
       "    </tr>\n",
       "  </tbody>\n",
       "</table>\n",
       "</div>"
      ],
      "text/plain": [
       "              user_id\n",
       "count    32950.000000\n",
       "mean   1141753.530744\n",
       "std      82196.546774\n",
       "min    1000094.000000\n",
       "25%    1068384.000000\n",
       "50%    1147116.000000\n",
       "75%    1221670.000000\n",
       "max    1252135.000000"
      ]
     },
     "execution_count": 9,
     "metadata": {},
     "output_type": "execute_result"
    }
   ],
   "source": [
    "# 数据的快速统计汇总\n",
    "airpay_log.describe()"
   ]
  },
  {
   "cell_type": "markdown",
   "metadata": {},
   "source": [
    "* mean ：平均值\n",
    "* std：标准差 \n",
    "\n",
    "```\n",
    "满足标准正态分布的前提下：\n",
    "68.268949%的面积在平均数左右的一个标准差范围内。\n",
    "95.449974%的面积在平均数左右两个标准差的范围内。\n",
    "99.730020%的面积在平均数左右三个标准差的范围内。\n",
    "99.993666%的面积在平均数左右四个标准差的范围内。\n",
    "（经验法则）\n",
    "```\n",
    "http://baike.baidu.com/view/78339.htm\n",
    "\n",
    "http://wallstreetcn.com/node/211672"
   ]
  },
  {
   "cell_type": "markdown",
   "metadata": {},
   "source": [
    "##### usage2. 各种按条件选择"
   ]
  },
  {
   "cell_type": "code",
   "execution_count": 5,
   "metadata": {
    "collapsed": false
   },
   "outputs": [
    {
     "data": {
      "text/html": [
       "<div style=\"max-height:1000px;max-width:1500px;overflow:auto;\">\n",
       "<table border=\"1\" class=\"dataframe\">\n",
       "  <thead>\n",
       "    <tr style=\"text-align: right;\">\n",
       "      <th></th>\n",
       "      <th>country</th>\n",
       "      <th>value</th>\n",
       "      <th>user_id</th>\n",
       "    </tr>\n",
       "    <tr>\n",
       "      <th>type</th>\n",
       "      <th></th>\n",
       "      <th></th>\n",
       "      <th></th>\n",
       "    </tr>\n",
       "  </thead>\n",
       "  <tbody>\n",
       "    <tr>\n",
       "      <th>misc.need_assistance</th>\n",
       "      <td>   189</td>\n",
       "      <td>     0</td>\n",
       "      <td>   189</td>\n",
       "    </tr>\n",
       "    <tr>\n",
       "      <th>password.gesture.change</th>\n",
       "      <td>   117</td>\n",
       "      <td>   117</td>\n",
       "      <td>   117</td>\n",
       "    </tr>\n",
       "    <tr>\n",
       "      <th>password.gesture.once</th>\n",
       "      <td>  5109</td>\n",
       "      <td>  5109</td>\n",
       "      <td>  5109</td>\n",
       "    </tr>\n",
       "    <tr>\n",
       "      <th>shop.pay</th>\n",
       "      <td>  4011</td>\n",
       "      <td>  4011</td>\n",
       "      <td>  4011</td>\n",
       "    </tr>\n",
       "    <tr>\n",
       "      <th>shop.pay.otp</th>\n",
       "      <td>   125</td>\n",
       "      <td>   125</td>\n",
       "      <td>   125</td>\n",
       "    </tr>\n",
       "    <tr>\n",
       "      <th>shop.select_channel.banner</th>\n",
       "      <td>     1</td>\n",
       "      <td>     1</td>\n",
       "      <td>     1</td>\n",
       "    </tr>\n",
       "    <tr>\n",
       "      <th>shop.select_channel.home</th>\n",
       "      <td> 10319</td>\n",
       "      <td> 10319</td>\n",
       "      <td> 10319</td>\n",
       "    </tr>\n",
       "    <tr>\n",
       "      <th>shop.select_channel.list</th>\n",
       "      <td> 11028</td>\n",
       "      <td> 11028</td>\n",
       "      <td> 11028</td>\n",
       "    </tr>\n",
       "    <tr>\n",
       "      <th>shop.select_channel.welcome_gift</th>\n",
       "      <td>   239</td>\n",
       "      <td>   239</td>\n",
       "      <td>   239</td>\n",
       "    </tr>\n",
       "    <tr>\n",
       "      <th>shop.select_payment</th>\n",
       "      <td>    86</td>\n",
       "      <td>    86</td>\n",
       "      <td>    86</td>\n",
       "    </tr>\n",
       "    <tr>\n",
       "      <th>wg.add_card</th>\n",
       "      <td>   245</td>\n",
       "      <td>     0</td>\n",
       "      <td>   245</td>\n",
       "    </tr>\n",
       "    <tr>\n",
       "      <th>wg.redeem</th>\n",
       "      <td>  1236</td>\n",
       "      <td>     0</td>\n",
       "      <td>  1236</td>\n",
       "    </tr>\n",
       "  </tbody>\n",
       "</table>\n",
       "</div>"
      ],
      "text/plain": [
       "                                  country  value  user_id\n",
       "type                                                     \n",
       "misc.need_assistance                  189      0      189\n",
       "password.gesture.change               117    117      117\n",
       "password.gesture.once                5109   5109     5109\n",
       "shop.pay                             4011   4011     4011\n",
       "shop.pay.otp                          125    125      125\n",
       "shop.select_channel.banner              1      1        1\n",
       "shop.select_channel.home            10319  10319    10319\n",
       "shop.select_channel.list            11028  11028    11028\n",
       "shop.select_channel.welcome_gift      239    239      239\n",
       "shop.select_payment                    86     86       86\n",
       "wg.add_card                           245      0      245\n",
       "wg.redeem                            1236      0     1236"
      ]
     },
     "execution_count": 5,
     "metadata": {},
     "output_type": "execute_result"
    }
   ],
   "source": [
    "airpay_log_country = airpay_log[airpay_log.country.str.upper() == \"TH\"]\n",
    "# 这里调用string的相关操作前，需要使用.str\n",
    "# 详细参考： Working with Text Data [http://pandas.pydata.org/pandas-docs/stable/text.html]\n",
    "grouped = airpay_log_country.groupby('type')\n",
    "grouped.count()"
   ]
  },
  {
   "cell_type": "code",
   "execution_count": null,
   "metadata": {
    "collapsed": true
   },
   "outputs": [],
   "source": []
  }
 ],
 "metadata": {
  "kernelspec": {
   "display_name": "Python 2",
   "language": "python",
   "name": "python2"
  },
  "language_info": {
   "codemirror_mode": {
    "name": "ipython",
    "version": 2
   },
   "file_extension": ".py",
   "mimetype": "text/x-python",
   "name": "python",
   "nbconvert_exporter": "python",
   "pygments_lexer": "ipython2",
   "version": "2.7.9"
  }
 },
 "nbformat": 4,
 "nbformat_minor": 0
}
