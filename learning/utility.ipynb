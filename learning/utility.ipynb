{
 "cells": [
  {
   "cell_type": "code",
   "execution_count": 10,
   "metadata": {
    "collapsed": true
   },
   "outputs": [],
   "source": [
    "# dataframe and array\n",
    "import pandas as pd\n",
    "import numpy as np\n",
    "\n",
    "# plot\n",
    "import seaborn as sns\n",
    "import matplotlib.pyplot as plt\n",
    "%matplotlib inline\n",
    "\n",
    "# sklearn\n",
    "from sklearn.model_selection import cross_val_predict, cross_val_score, train_test_split\n",
    "from sklearn.metrics import classification_report, confusion_matrix, roc_auc_score, roc_curve, auc, precision_recall_curve,accuracy_score, precision_score, recall_score\n",
    "from sklearn.preprocessing import StandardScaler\n",
    "from sklearn.ensemble import RandomForestClassifier, GradientBoostingClassifier, AdaBoostClassifier\n",
    "\n",
    "# for hyperopt\n",
    "from hyperopt import tpe\n",
    "from hpsklearn import HyperoptEstimator, any_classifier\n",
    "\n",
    "# for sampling\n",
    "from imblearn.over_sampling import SMOTE\n"
   ]
  },
  {
   "cell_type": "markdown",
   "metadata": {},
   "source": [
    "### model selection "
   ]
  },
  {
   "cell_type": "code",
   "execution_count": 2,
   "metadata": {
    "collapsed": true
   },
   "outputs": [],
   "source": [
    "# load the testing dataset\n",
    "from sklearn.datasets import load_iris\n",
    "iris = load_iris()"
   ]
  },
  {
   "cell_type": "code",
   "execution_count": 3,
   "metadata": {},
   "outputs": [
    {
     "data": {
      "text/plain": [
       "array([ 0.96666667,  0.96666667,  0.93333333,  0.93333333,  1.        ])"
      ]
     },
     "execution_count": 3,
     "metadata": {},
     "output_type": "execute_result"
    }
   ],
   "source": [
    "# cross_val_score\n",
    "clf = RandomForestClassifier()\n",
    "cross_val_score(clf, iris.data, iris.target, cv=5) #5-fold cv\n",
    "\n",
    "# 5折fold\n",
    "# 默认输出score为准确率"
   ]
  },
  {
   "cell_type": "code",
   "execution_count": null,
   "metadata": {},
   "outputs": [],
   "source": [
    "# 可以用其他分数 如f1， auc\n",
    "cross_val_score(clf, iris.data, iris.target, cv=5, scoring='f1')"
   ]
  },
  {
   "cell_type": "code",
   "execution_count": 12,
   "metadata": {
    "collapsed": true
   },
   "outputs": [],
   "source": [
    "# 扩展同时支持多个分数输出\n",
    "\n",
    "from multiscorer import MultiScorer  #https://github.com/StKyr/multiscorer/\n",
    "import numpy as np\n",
    "import time\n",
    "from sklearn.svm import SVC\n",
    "from sklearn.naive_bayes import GaussianNB\n",
    "from sklearn.tree import DecisionTreeClassifier"
   ]
  },
  {
   "cell_type": "code",
   "execution_count": 18,
   "metadata": {},
   "outputs": [
    {
     "name": "stdout",
     "output_type": "stream",
     "text": [
      "Naive Bayes\n",
      "Recall: 0.95333 (+/- 0.085)\n",
      "Precision: 0.96270 (+/- 0.065)\n",
      "Accuracy: 0.95333 (+/- 0.085)\n",
      "time 0.0720000267029 \n",
      "\n",
      "\n",
      "Decision Tree\n",
      "Recall: 0.95667 (+/- 0.087)\n",
      "Precision: 0.96357 (+/- 0.075)\n",
      "Accuracy: 0.95667 (+/- 0.087)\n",
      "time 0.0639998912811 \n",
      "\n",
      "\n",
      "SVM\n",
      "Recall: 0.96444 (+/- 0.082)\n",
      "Precision: 0.97016 (+/- 0.070)\n",
      "Accuracy: 0.96444 (+/- 0.082)\n",
      "time 0.0640001296997 \n",
      "\n",
      "\n"
     ]
    }
   ],
   "source": [
    "models = [GaussianNB(), DecisionTreeClassifier(), SVC()]\n",
    "names = [\"Naive Bayes\", \"Decision Tree\", \"SVM\"]\n",
    "\n",
    "scorer = MultiScorer({\n",
    "    'Accuracy' : (accuracy_score, {}),\n",
    "    'Precision' : (precision_score, {'pos_label': 3, 'average':'macro'}),\n",
    "    'Recall' : (recall_score, {'pos_label': 3, 'average':'macro'})\n",
    "})\n",
    "\n",
    "for model, name in zip(models, names):\n",
    "    print name\n",
    "    start = time.time()\n",
    "\n",
    "    cross_val_score(model, iris.data, iris.target,scoring=scorer, cv=10)\n",
    "    results = scorer.get_results()\n",
    "\n",
    "    for metric_name in results.keys():\n",
    "        average_score = np.average(results[metric_name])\n",
    "        scores = np.array(results[metric_name])\n",
    "        print(\"%s: %0.5f (+/- %0.3f)\" % (metric_name, scores.mean(), scores.std() * 2))\n",
    "#         print('%s : %f' % (metric_name, average_score))\n",
    "\n",
    "    print 'time', time.time() - start, '\\n\\n'"
   ]
  },
  {
   "cell_type": "markdown",
   "metadata": {},
   "source": [
    "### sampling"
   ]
  },
  {
   "cell_type": "code",
   "execution_count": 21,
   "metadata": {},
   "outputs": [
    {
     "name": "stdout",
     "output_type": "stream",
     "text": [
      "before split\n",
      "(150L, 4L) (150L,)\n",
      "after split\n",
      "train dataset:\n",
      "(90L, 4L) (90L,)\n",
      "test dataset:\n",
      "(60L, 4L) (60L,)\n"
     ]
    }
   ],
   "source": [
    "# 基本split\n",
    "print 'before split'\n",
    "print iris.data.shape, iris.target.shape\n",
    "X_train, X_test, y_train, y_test = train_test_split(iris.data, iris.target, test_size=0.4, random_state=0)\n",
    "\n",
    "print 'after split'\n",
    "print 'train dataset:'\n",
    "print X_train.shape, y_train.shape\n",
    "print 'test dataset:'\n",
    "print X_test.shape, y_test.shape"
   ]
  },
  {
   "cell_type": "code",
   "execution_count": null,
   "metadata": {
    "collapsed": true
   },
   "outputs": [],
   "source": []
  }
 ],
 "metadata": {
  "kernelspec": {
   "display_name": "Python [conda root]",
   "language": "python",
   "name": "conda-root-py"
  },
  "language_info": {
   "codemirror_mode": {
    "name": "ipython",
    "version": 2
   },
   "file_extension": ".py",
   "mimetype": "text/x-python",
   "name": "python",
   "nbconvert_exporter": "python",
   "pygments_lexer": "ipython2",
   "version": "2.7.13"
  }
 },
 "nbformat": 4,
 "nbformat_minor": 2
}
