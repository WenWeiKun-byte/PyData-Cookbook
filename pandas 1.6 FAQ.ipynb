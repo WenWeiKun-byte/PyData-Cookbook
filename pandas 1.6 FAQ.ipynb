{
 "cells": [
  {
   "cell_type": "code",
   "execution_count": 1,
   "metadata": {
    "collapsed": true
   },
   "outputs": [],
   "source": [
    "import pandas as pd\n",
    "file_path = \"data/test.Tap.20150720.csv\"\n",
    "log = pd.read_csv(file_path)\n",
    "\n",
    "# 使用已处理好的数据"
   ]
  },
  {
   "cell_type": "code",
   "execution_count": 2,
   "metadata": {
    "collapsed": false
   },
   "outputs": [
    {
     "data": {
      "text/html": [
       "<div style=\"max-height:1000px;max-width:1500px;overflow:auto;\">\n",
       "<table border=\"1\" class=\"dataframe\">\n",
       "  <thead>\n",
       "    <tr style=\"text-align: right;\">\n",
       "      <th></th>\n",
       "      <th>type</th>\n",
       "      <th>country</th>\n",
       "      <th>value</th>\n",
       "      <th>user_id</th>\n",
       "    </tr>\n",
       "  </thead>\n",
       "  <tbody>\n",
       "    <tr>\n",
       "      <th>0</th>\n",
       "      <td>    password.gesture.once</td>\n",
       "      <td> th</td>\n",
       "      <td>          0</td>\n",
       "      <td> 1185391</td>\n",
       "    </tr>\n",
       "    <tr>\n",
       "      <th>1</th>\n",
       "      <td> shop.select_channel.home</td>\n",
       "      <td> th</td>\n",
       "      <td> type.10006</td>\n",
       "      <td> 1185391</td>\n",
       "    </tr>\n",
       "    <tr>\n",
       "      <th>2</th>\n",
       "      <td> shop.select_channel.home</td>\n",
       "      <td> th</td>\n",
       "      <td>   id.20041</td>\n",
       "      <td> 1185391</td>\n",
       "    </tr>\n",
       "    <tr>\n",
       "      <th>3</th>\n",
       "      <td> shop.select_channel.home</td>\n",
       "      <td> th</td>\n",
       "      <td> type.11003</td>\n",
       "      <td> 1185391</td>\n",
       "    </tr>\n",
       "    <tr>\n",
       "      <th>4</th>\n",
       "      <td> shop.select_channel.list</td>\n",
       "      <td> th</td>\n",
       "      <td>   id.22015</td>\n",
       "      <td> 1185391</td>\n",
       "    </tr>\n",
       "  </tbody>\n",
       "</table>\n",
       "</div>"
      ],
      "text/plain": [
       "                       type country       value  user_id\n",
       "0     password.gesture.once      th           0  1185391\n",
       "1  shop.select_channel.home      th  type.10006  1185391\n",
       "2  shop.select_channel.home      th    id.20041  1185391\n",
       "3  shop.select_channel.home      th  type.11003  1185391\n",
       "4  shop.select_channel.list      th    id.22015  1185391"
      ]
     },
     "execution_count": 2,
     "metadata": {},
     "output_type": "execute_result"
    }
   ],
   "source": [
    "log.head()"
   ]
  },
  {
   "cell_type": "markdown",
   "metadata": {},
   "source": [
    "### 1. dataframe 的内存使用情况\n",
    "\n",
    "从0.15.0版本开始，dataframe的info()方法就提供了该df的内存使用情况；\n",
    "\n",
    "而memory_usage会分别列出每个series的内存使用情况，默认是不会显示index内容，可以使用index=True来打开。"
   ]
  },
  {
   "cell_type": "code",
   "execution_count": 3,
   "metadata": {
    "collapsed": false
   },
   "outputs": [
    {
     "name": "stdout",
     "output_type": "stream",
     "text": [
      "<class 'pandas.core.frame.DataFrame'>\n",
      "Int64Index: 32950 entries, 0 to 32949\n",
      "Data columns (total 4 columns):\n",
      "type       32950 non-null object\n",
      "country    32934 non-null object\n",
      "value      31276 non-null object\n",
      "user_id    32950 non-null int64\n",
      "dtypes: int64(1), object(3)\n",
      "memory usage: 1.3+ MB\n"
     ]
    }
   ],
   "source": [
    "log.info()"
   ]
  },
  {
   "cell_type": "code",
   "execution_count": 4,
   "metadata": {
    "collapsed": false
   },
   "outputs": [
    {
     "data": {
      "text/plain": [
       "type       263600\n",
       "country    263600\n",
       "value      263600\n",
       "user_id    263600\n",
       "dtype: int64"
      ]
     },
     "execution_count": 4,
     "metadata": {},
     "output_type": "execute_result"
    }
   ],
   "source": [
    "log.memory_usage()"
   ]
  },
  {
   "cell_type": "code",
   "execution_count": 5,
   "metadata": {
    "collapsed": false
   },
   "outputs": [
    {
     "data": {
      "text/plain": [
       "Index      263600\n",
       "type       263600\n",
       "country    263600\n",
       "value      263600\n",
       "user_id    263600\n",
       "dtype: int64"
      ]
     },
     "execution_count": 5,
     "metadata": {},
     "output_type": "execute_result"
    }
   ],
   "source": [
    "log.memory_usage(index=True)"
   ]
  },
  {
   "cell_type": "code",
   "execution_count": 6,
   "metadata": {
    "collapsed": false
   },
   "outputs": [
    {
     "data": {
      "text/plain": [
       "1318000"
      ]
     },
     "execution_count": 6,
     "metadata": {},
     "output_type": "execute_result"
    }
   ],
   "source": [
    "log.memory_usage(index=True).sum()"
   ]
  },
  {
   "cell_type": "markdown",
   "metadata": {},
   "source": [
    "### 2. pandas 中的数据结构\n",
    "\n",
    "pandas 中引入新的三个数据结构，从一维到三维分别是：\n",
    "<img src='img/data_str.png'  width=\"70%\" height=\"70%\">\n",
    "\n",
    "从定义上说，多一维的数据结构是上一级数据结构的容器，例如说df是series的容器。\n",
    "从意义上说，引入多个维度的数据结构能够使构造代码的时候能以一种更直观的方式去转化数据。\n",
    "\n",
    "从高维度到低维度可以用以下方式来转发并分别处理。\n",
    "```\n",
    "for col in df.columns:\n",
    "    series = df[col]\n",
    "    # do something with series\n",
    "```"
   ]
  },
  {
   "cell_type": "markdown",
   "metadata": {},
   "source": []
  }
 ],
 "metadata": {
  "kernelspec": {
   "display_name": "Python 2",
   "language": "python",
   "name": "python2"
  },
  "language_info": {
   "codemirror_mode": {
    "name": "ipython",
    "version": 2
   },
   "file_extension": ".py",
   "mimetype": "text/x-python",
   "name": "python",
   "nbconvert_exporter": "python",
   "pygments_lexer": "ipython2",
   "version": "2.7.9"
  }
 },
 "nbformat": 4,
 "nbformat_minor": 0
}
